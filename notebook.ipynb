{
 "cells": [
  {
   "cell_type": "code",
   "id": "initial_id",
   "metadata": {
    "collapsed": true,
    "ExecuteTime": {
     "end_time": "2025-06-23T13:58:59.584841Z",
     "start_time": "2025-06-23T13:58:59.577920Z"
    }
   },
   "source": [
    "import pandas as pd\n",
    "import matplotlib.pyplot as plt\n",
    "import numpy as np\n",
    "from scipy.stats import pearsonr\n",
    "import geopandas as gpd\n",
    "import seaborn as sns\n",
    "import scipy.stats as stats"
   ],
   "outputs": [],
   "execution_count": 11
  },
  {
   "metadata": {
    "ExecuteTime": {
     "end_time": "2025-06-23T13:59:26.356605Z",
     "start_time": "2025-06-23T13:58:59.653085Z"
    }
   },
   "cell_type": "code",
   "source": [
    "actors = pd.read_csv(\"./main_data/actors.csv\")\n",
    "countries = pd.read_csv(\"./main_data/countries.csv\")\n",
    "crew = pd.read_csv(\"./main_data/crew.csv\")\n",
    "genres = pd.read_csv(\"./main_data/genres.csv\")\n",
    "languages = pd.read_csv(\"./main_data/languages.csv\")\n",
    "movies = pd.read_csv(\"./main_data/movies.csv\")\n",
    "releases = pd.read_csv(\"./main_data/releases.csv\")\n",
    "rotten_tomatoes_review = pd.read_csv(\"./main_data/rotten_tomatoes_reviews.csv\")\n",
    "studios = pd.read_csv(\"./main_data/studios.csv\")\n",
    "the_oscar_awards = pd.read_csv(\"./main_data/the_oscar_awards.csv\")"
   ],
   "id": "551f15f170bf2401",
   "outputs": [],
   "execution_count": 12
  },
  {
   "metadata": {
    "ExecuteTime": {
     "end_time": "2025-06-23T13:59:53.967088Z",
     "start_time": "2025-06-23T13:59:26.396924Z"
    }
   },
   "cell_type": "code",
   "source": [
    "# Pulizia del dataset actors\n",
    "actors = pd.read_csv(\"./main_data/actors.csv\")\n",
    "\n",
    "nomiNulli = actors[\"name\"].isna().sum()\n",
    "ruoliNulli = actors[\"role\"].isna().sum()\n",
    "righe_entrambi_nan = actors[actors[\"name\"].isna() & actors[\"role\"].isna()]\n",
    "\n",
    "print(f\"Numero di NaN nella colonna 'name' sono: {nomiNulli}\")\n",
    "print(f\"Numero di NaN nella colonna 'role' sono: {ruoliNulli}\")\n",
    "print(f\"Numero di righe con 'name' E 'role' NaN (verranno eliminate): {len(righe_entrambi_nan)}\")\n",
    "\n",
    "# Rimuovi righe dove sia 'name' che 'role' sono NaN\n",
    "actors.dropna(subset=[\"name\", \"role\"], how=\"all\", inplace=True)\n",
    "\n",
    "name_nan_residui = actors[\"name\"].isna().sum()\n",
    "role_nan_residui = actors[\"role\"].isna().sum()\n",
    "\n",
    "print(f\"Numero di 'name' NaN residui prima della sostituzione: {name_nan_residui}\")\n",
    "print(f\"Numero di 'role' NaN residui prima della sostituzione: {role_nan_residui}\")\n",
    "\n",
    "# Sostituisci i NaN residui con 'Sconosciuto'\n",
    "actors[\"name\"] = actors[\"name\"].fillna(\"Sconosciuto\")\n",
    "actors[\"role\"] = actors[\"role\"].fillna(\"Sconosciuto\")\n",
    "\n",
    "name_sconosciuto = (actors[\"name\"] == \"Sconosciuto\").sum()\n",
    "role_sconosciuto = (actors[\"role\"] == \"Sconosciuto\").sum()\n",
    "\n",
    "print(f\"Numero di 'name' settati a 'Sconosciuto': {name_sconosciuto}\")\n",
    "print(f\"Numero di 'role' settati a 'Sconosciuto': {role_sconosciuto}\")\n",
    "\n",
    "# Duplicati\n",
    "duplicatiMask = actors.duplicated(subset=[\"id\", \"name\", \"role\"], keep=False)\n",
    "numeroDuplicati = duplicatiMask.sum()\n",
    "\n",
    "print(f\"Numero di duplicati in actors: {numeroDuplicati}\")\n",
    "\n",
    "# Elimina duplicati\n",
    "actors.drop_duplicates(subset=[\"id\", \"name\", \"role\"], inplace=True)\n",
    "\n",
    "# Controllo: righe con valori non stringa (escludendo la colonna 'id')\n",
    "non_string_mask = actors.drop(columns=\"id\").map(lambda x: not isinstance(x, str))\n",
    "righe_con_errori = actors[non_string_mask.any(axis=1)]\n",
    "\n",
    "print(f\"Numero di righe con valori non stringa (escluse 'id'): {len(righe_con_errori)}\")\n",
    "if not righe_con_errori.empty:\n",
    "    print(righe_con_errori.head(10))"
   ],
   "id": "99addcc4636009ae",
   "outputs": [
    {
     "name": "stdout",
     "output_type": "stream",
     "text": [
      "Numero di NaN nella colonna 'name' sono: 4\n",
      "Numero di NaN nella colonna 'role' sono: 1361559\n",
      "Numero di righe con 'name' E 'role' NaN (verranno eliminate): 2\n",
      "Numero di 'name' NaN residui prima della sostituzione: 2\n",
      "Numero di 'role' NaN residui prima della sostituzione: 1361557\n",
      "Numero di 'name' settati a 'Sconosciuto': 2\n",
      "Numero di 'role' settati a 'Sconosciuto': 1361559\n",
      "Numero di duplicati in actors: 1826\n",
      "Numero di righe con valori non stringa (escluse 'id'): 0\n"
     ]
    }
   ],
   "execution_count": 13
  },
  {
   "metadata": {
    "ExecuteTime": {
     "end_time": "2025-06-23T14:00:11.675224Z",
     "start_time": "2025-06-23T13:59:54.009972Z"
    }
   },
   "cell_type": "code",
   "source": [
    "# Pulizia del dataset crew\n",
    "crew = pd.read_csv(\"./main_data/crew.csv\")\n",
    "\n",
    "nomiNulli = crew[\"name\"].isna().sum()\n",
    "ruoliNulli = crew[\"role\"].isna().sum()\n",
    "righe_entrambi_nan = crew[crew[\"name\"].isna() & crew[\"role\"].isna()]\n",
    "\n",
    "print(f\"Numero di NaN nella colonna 'name' sono: {nomiNulli}\")\n",
    "print(f\"Numero di NaN nella colonna 'role' sono: {ruoliNulli}\")\n",
    "print(f\"Numero di righe con 'name' E 'role' NaN (verranno eliminate): {len(righe_entrambi_nan)}\")\n",
    "\n",
    "# Rimuovi righe dove sia 'name' che 'role' sono NaN\n",
    "crew.dropna(subset=[\"name\", \"role\"], how=\"all\", inplace=True)\n",
    "\n",
    "name_nan_residui = crew[\"name\"].isna().sum()\n",
    "role_nan_residui = crew[\"role\"].isna().sum()\n",
    "\n",
    "print(f\"Numero di 'name' NaN residui prima della sostituzione: {name_nan_residui}\")\n",
    "print(f\"Numero di 'role' NaN residui prima della sostituzione: {role_nan_residui}\")\n",
    "\n",
    "# Sostituisci i NaN residui con 'Sconosciuto'\n",
    "crew[\"name\"] = crew[\"name\"].fillna(\"Sconosciuto\")\n",
    "crew[\"role\"] = crew[\"role\"].fillna(\"Sconosciuto\")\n",
    "\n",
    "name_sconosciuto = (crew[\"name\"] == \"Sconosciuto\").sum()\n",
    "role_sconosciuto = (crew[\"role\"] == \"Sconosciuto\").sum()\n",
    "\n",
    "print(f\"Numero di 'name' settati a 'Sconosciuto': {name_sconosciuto}\")\n",
    "print(f\"Numero di 'role' settati a 'Sconosciuto': {role_sconosciuto}\")\n",
    "\n",
    "# Duplicati\n",
    "duplicatiMask = crew.duplicated(subset=[\"id\", \"name\", \"role\"], keep=False)\n",
    "duplicati = duplicatiMask.sum()\n",
    "\n",
    "print(f\"Numero di duplicati in crew: {duplicati}\")\n",
    "\n",
    "crew.drop_duplicates(subset=[\"id\", \"name\", \"role\"],inplace=True)\n",
    "\n",
    "# Controllo: righe con valori non stringa (escludendo la colonna 'id')\n",
    "non_string_mask = crew.drop(columns=\"id\").map(lambda x: not isinstance(x, str))\n",
    "righe_con_errori = crew[non_string_mask.any(axis=1)]\n",
    "\n",
    "print(f\"Numero di righe con valori non stringa (escluse 'id'): {len(righe_con_errori)}\")\n",
    "if not righe_con_errori.empty:\n",
    "    print(righe_con_errori.head(10))"
   ],
   "id": "9a501180be1b8cb7",
   "outputs": [
    {
     "name": "stdout",
     "output_type": "stream",
     "text": [
      "Numero di NaN nella colonna 'name' sono: 1\n",
      "Numero di NaN nella colonna 'role' sono: 0\n",
      "Numero di righe con 'name' E 'role' NaN (verranno eliminate): 0\n",
      "Numero di 'name' NaN residui prima della sostituzione: 1\n",
      "Numero di 'role' NaN residui prima della sostituzione: 0\n",
      "Numero di 'name' settati a 'Sconosciuto': 1\n",
      "Numero di 'role' settati a 'Sconosciuto': 0\n",
      "Numero di duplicati in crew: 2496\n",
      "Numero di righe con valori non stringa (escluse 'id'): 0\n"
     ]
    }
   ],
   "execution_count": 14
  },
  {
   "metadata": {
    "ExecuteTime": {
     "end_time": "2025-06-23T14:00:13.301107Z",
     "start_time": "2025-06-23T14:00:11.713368Z"
    }
   },
   "cell_type": "code",
   "source": [
    "#pulizia dataset Generi\n",
    "genres = pd.read_csv(\"./main_data/genres.csv\")\n",
    "\n",
    "generiNulli = genres['genre'].isna().sum()\n",
    "print(f\"Numero di NaN nella colonna 'genre' sono: {nomiNulli}\")\n",
    "genres.dropna(subset=[\"genre\"],inplace=True)\n",
    "genres.drop_duplicates(subset=[\"id\", \"genre\"],inplace=True)\n",
    "\n",
    "# 1. Uniforma tutto in minuscolo\n",
    "genres['genre'] = genres['genre'].str.lower()\n",
    "\n",
    "# 2. Rimuovi spazi bianchi residui (prima e dopo)\n",
    "genres['genre'] = genres['genre'].str.strip()\n",
    "\n",
    "# 3. Correggi varianti e errori di scrittura con una mappatura di sostituzione\n",
    "correzioni = {\n",
    "    'scifi': 'science fiction',\n",
    "    'sci-fi': 'science fiction',\n",
    "    'documentaries': 'documentary',\n",
    "    'tv movies': 'tv movie'\n",
    "}\n",
    "\n",
    "genres['genre'] = genres['genre'].replace(correzioni)\n",
    "\n",
    "# 4. Visualizza i generi unici finali per controllo\n",
    "print(\"Generi unici dopo pulizia:\")\n",
    "print(genres['genre'].unique())"
   ],
   "id": "d48e7bab17c92095",
   "outputs": [
    {
     "name": "stdout",
     "output_type": "stream",
     "text": [
      "Numero di NaN nella colonna 'genre' sono: 1\n",
      "Generi unici dopo pulizia:\n",
      "['comedy' 'adventure' 'thriller' 'drama' 'science fiction' 'action'\n",
      " 'music' 'romance' 'history' 'crime' 'animation' 'mystery' 'horror'\n",
      " 'family' 'fantasy' 'war' 'western' 'tv movie' 'documentary']\n"
     ]
    }
   ],
   "execution_count": 15
  },
  {
   "metadata": {
    "ExecuteTime": {
     "end_time": "2025-06-23T14:00:20.069936Z",
     "start_time": "2025-06-23T14:00:13.340283Z"
    }
   },
   "cell_type": "code",
   "source": [
    "#pulizia dataset lingue\n",
    "languages = pd.read_csv(\"./main_data/languages.csv\")\n",
    "\n",
    "# 1. Se type è NaN ma language c'è, metti type = \"language\"\n",
    "languages.loc[languages['type'].isna() & languages['language'].notna(), 'type'] = 'language'\n",
    "\n",
    "# 2. Droppa righe dove manca language (NaN) o manca sia type che language\n",
    "languages.dropna(subset=['language'], inplace=True)\n",
    "languages.dropna(subset=['type'], inplace=True)\n",
    "\n",
    "# 3. Rimuovi duplicati perfetti su id, type, language (prima di uniformare)\n",
    "languages.drop_duplicates(subset=['id', 'type', 'language'], inplace=True)\n",
    "\n",
    "# 4. Uniforma: strip spazi e lowercase su 'type' e 'language'\n",
    "languages['type'] = languages['type'].str.strip().str.lower()\n",
    "languages['language'] = languages['language'].str.strip().str.lower()\n",
    "\n",
    "# 5. Correzioni con mapping per 'type' e 'language'\n",
    "type_corrections = {\n",
    "    'spoken language': 'spoken language',\n",
    "    'language': 'language',\n",
    "    'primary language': 'primary language',\n",
    "    # eventuali altre correzioni o sinonimi\n",
    "}\n",
    "languages['type'] = languages['type'].replace(type_corrections)\n",
    "\n",
    "\n",
    "languages['language'] = languages['language'].str.replace('\\xa0', ' ', regex=False).str.strip()\n",
    "\n",
    "# Dividi le stringhe con virgole in liste\n",
    "languages['language'] = languages['language'].str.split(',')\n",
    "languages = languages.explode('language')\n",
    "languages['language'] = languages['language'].str.strip()\n",
    "\n",
    "\n",
    "language_corrections = {\n",
    "    'eng': 'english',\n",
    "    'haitian creole': 'haitian creole',\n",
    "    'persian (farsi)': 'persian',\n",
    "    'hebrew (modern)': 'hebrew',\n",
    "    'greek (modern)': 'greek',\n",
    "    'tibetan standard': 'tibetan',\n",
    "    'tibetan central': 'tibetan',\n",
    "    'chewa': 'chichewa',\n",
    "    'nyanja': 'chichewa',\n",
    "    'gaelic': 'scottish gaelic',\n",
    "    'navaho': 'navajo',\n",
    "    'chuang': 'zhuang',\n",
    "    'interlingue': 'interlingua',\n",
    "    'ojibwa': 'ojibwe',\n",
    "    'puular': 'fula',\n",
    "    'pular': 'fula',\n",
    "    'fulah': 'fula',\n",
    "    'pulaar': 'fula',\n",
    "    'old church slavonic': 'church slavonic',\n",
    "    'old bulgarian': 'church slavonic',\n",
    "    'pushto': 'pashto',\n",
    "    'ossetic': 'ossetian',\n",
    "    'limburgan': 'limburgish',\n",
    "    'limburger': 'limburgish',\n",
    "    'eastern panjabi': 'eastern punjabi',\n",
    "    'kuanyama': 'kwanyama',\n",
    "    \"sanskrit (saṁskṛta)\": \"sanskrit\",\n",
    "    \"divehi\": \"dhivehi\",\n",
    "    'tonga (tonga islands)': 'tonga',\n",
    "    # eventuali altre correzioni o sinonimi\n",
    "}\n",
    "languages['language'] = languages['language'].replace(language_corrections)\n",
    "\n",
    "# 6. (opzionale) Mostra valori unici per controllo finale\n",
    "print(\"Valori unici in 'type':\", languages['type'].unique())\n",
    "print(\"Valori unici in 'language':\", languages['language'].unique())"
   ],
   "id": "66c88a40d6f8ce0",
   "outputs": [
    {
     "name": "stdout",
     "output_type": "stream",
     "text": [
      "Valori unici in 'type': ['language' 'primary language' 'spoken language']\n",
      "Valori unici in 'language': ['english' 'korean' 'german' 'cantonese' 'chinese' 'dutch' 'spanish'\n",
      " 'french' 'japanese' 'swedish' 'swahili' 'portuguese' 'hindi' 'italian'\n",
      " 'tagalog' 'xhosa' 'latin' 'russian' 'finnish' 'hungarian' 'somali'\n",
      " 'romanian' 'vietnamese' 'turkish' 'czech' 'estonian' 'persian' 'urdu'\n",
      " 'arabic' 'polish' 'hebrew' 'greek' 'yiddish' 'norwegian' 'haitian'\n",
      " 'haitian creole' 'khmer' 'nepali' 'akan' 'icelandic' 'malay'\n",
      " 'eastern punjabi' 'georgian' 'indonesian' 'belarusian' 'danish' 'tamil'\n",
      " 'sinhalese' 'sinhala' 'tibetan' 'central' 'armenian' 'thai' 'telugu'\n",
      " 'scottish gaelic' 'northern sami' 'esperanto' 'bulgarian' 'afrikaans'\n",
      " 'chichewa' 'southern sotho' 'zulu' 'irish' 'breton' 'croatian' 'bengali'\n",
      " 'bangla' 'welsh' 'navajo' 'albanian' 'inuktitut' 'catalan' 'quechua'\n",
      " 'azerbaijani' 'samoan' 'ukrainian' 'mongolian' 'māori' 'tatar' 'mayan'\n",
      " 'fula' 'slovak' 'lithuanian' 'cree' 'lao' 'galician' 'amharic' 'serbian'\n",
      " 'moldavian' 'serbo-croatian' 'cornish' 'wolof' 'pashto' 'twi' 'corsican'\n",
      " 'bambara' 'sanskrit' 'macedonian' 'burmese' 'maltese' 'bosnian'\n",
      " 'no spoken language' 'marathi' 'ido' 'guaraní' 'kurdish' 'ganda' 'hausa'\n",
      " 'tahitian' 'latvian' 'lingala' 'gujarati' 'malayalam' 'basque' 'javanese'\n",
      " 'tswana' 'sundanese' 'kinyarwanda' 'kirundi' 'afar' 'dzongkha' 'tola'\n",
      " 'kannada' 'uzbek' 'ojibwe' 'igbo' 'ewe' 'pāli' 'chechen' 'kashmiri'\n",
      " 'oromo' 'kalaallisut' 'greenlandic' 'tajik' 'slovene' 'aymara'\n",
      " 'sardinian' 'assamese' 'ossetian' 'occitan' 'avaric' 'bislama' 'kyrgyz'\n",
      " 'kazakh' 'aragonese' 'yolngu matha' 'malagasy' 'gibberish' 'kikuyu'\n",
      " 'gikuyu' 'yoruba' 'maithili' 'uyghur' 'sango' 'nuosu' 'hiri motu' 'kongo'\n",
      " 'tonga' 'shona' 'luxembourgish' 'letzeburgesch' 'sindhi' 'chuvash'\n",
      " 'fijian' 'mari' 'walloon' 'abkhaz' 'inupiaq' 'turkmen' 'faroese'\n",
      " 'marshallese' 'romansh' 'western frisian' 'norwegian bokmål' 'oriya'\n",
      " 'church slavonic' 'herero' 'southern ndebele' 'tigrinya' 'ndonga'\n",
      " 'limburgish' 'swati' 'norwegian nynorsk' 'bashkir' 'interlingua' 'manx'\n",
      " 'nauruan' 'dhivehi' 'maldivian' 'venda' 'northern ndebele' 'chamorro'\n",
      " 'zhuang' 'luba-katanga' 'kwanyama' 'tsonga' 'komi' 'avestan' 'volapük']\n"
     ]
    }
   ],
   "execution_count": 16
  },
  {
   "metadata": {
    "ExecuteTime": {
     "end_time": "2025-06-23T14:00:22.784051Z",
     "start_time": "2025-06-23T14:00:20.112135Z"
    }
   },
   "cell_type": "code",
   "source": [
    "# Pulizia del dataset movies\n",
    "# Eliminiamo gli id duplicati\n",
    "movies.drop_duplicates(subset=movies.columns.difference(['id']), keep='first',inplace=True)\n",
    "\n",
    "# Eliminiamo i dulicati che hanno id diverso ma tutti gli altri campi uguali\n",
    "movies.drop_duplicates(subset=[\"name\",\"date\",\"tagline\",\"description\",\"minutes\",\"rating\"],inplace=True)\n",
    "\n",
    "# Contiamo, per farci un'idea, i campi NaN\n",
    "nomiNulli = movies[\"name\"].isna().sum()\n",
    "print(f\"Numero di NaN nella colonna 'name': {nomiNulli}\")\n",
    "dateNulle = movies[\"date\"].isna().sum()\n",
    "print(f\"Numero di NaN nella colonna 'date': {dateNulle}\")\n",
    "minutiNulli = movies[\"minutes\"].isna().sum()\n",
    "print(f\"Numero di NaN nella colonna 'minute': {minutiNulli}\")\n",
    "ratingNullo = movies[\"rating\"].isna().sum()\n",
    "print(f\"Numero di NaN nella colonna 'rating': {ratingNullo}\")\n",
    "\n",
    "\n",
    "\n",
    "# Eliminiamo i 2 dati sui film NaN\n",
    "movies.dropna(subset=[\"name\"],inplace=True)\n",
    "nomiNulli = movies[\"name\"].isna().sum()\n",
    "print(f\"Numero di NaN nella colonna 'name': {nomiNulli}\")"
   ],
   "id": "b7987926c3f050e4",
   "outputs": [
    {
     "name": "stdout",
     "output_type": "stream",
     "text": [
      "Numero di NaN nella colonna 'name': 5\n",
      "Numero di NaN nella colonna 'date': 89827\n",
      "Numero di NaN nella colonna 'minute': 179090\n",
      "Numero di NaN nella colonna 'rating': 846551\n",
      "Numero di NaN nella colonna 'name': 0\n"
     ]
    }
   ],
   "execution_count": 17
  },
  {
   "metadata": {
    "ExecuteTime": {
     "end_time": "2025-06-23T14:00:22.855753Z",
     "start_time": "2025-06-23T14:00:22.835554Z"
    }
   },
   "cell_type": "code",
   "source": [
    "non_nan_date_movies = movies[\"date\"].dropna()\n",
    "# Controlliamo se tutti i valori non NaN sono compresi tra 1888 e 2024\n",
    "are_all_in_range = non_nan_date_movies.between(1877, 2025).all()\n",
    "\n",
    "if are_all_in_range:\n",
    "    print(\"Tutti i valori non NaN nella colonna 'date' sono compresi tra 1888 e 2024.\")\n",
    "else:\n",
    "    print(\"Alcuni valori non NaN nella colonna 'date' NON rientrano nel range 1888-2024.\")\n",
    "\n",
    "#############\n",
    "\n",
    "# Troviamo i valori non NaN che non sono compresi tra 1888 e 2025\n",
    "out_of_range = non_nan_date_movies[~non_nan_date_movies.between(1877, 2024)]\n",
    "\n",
    "print(\"Valori non NaN che NON rientrano nel range 1888-2024:\")\n",
    "print(out_of_range)"
   ],
   "id": "1edbecb79c6772fd",
   "outputs": [
    {
     "name": "stdout",
     "output_type": "stream",
     "text": [
      "Alcuni valori non NaN nella colonna 'date' NON rientrano nel range 1888-2024.\n",
      "Valori non NaN che NON rientrano nel range 1888-2024:\n",
      "3657      2025.0\n",
      "4679      2026.0\n",
      "7227      2025.0\n",
      "7441      2025.0\n",
      "7787      2025.0\n",
      "           ...  \n",
      "932230    2025.0\n",
      "940009    2030.0\n",
      "940010    2025.0\n",
      "940011    2025.0\n",
      "940012    2025.0\n",
      "Name: date, Length: 416, dtype: float64\n"
     ]
    }
   ],
   "execution_count": 18
  },
  {
   "metadata": {
    "ExecuteTime": {
     "end_time": "2025-06-23T14:00:39.069097Z",
     "start_time": "2025-06-23T14:00:22.921743Z"
    }
   },
   "cell_type": "code",
   "source": [
    "# Pulizia del dataset studios\n",
    "import re\n",
    "from unidecode import unidecode\n",
    "\n",
    "# Carica il dataset\n",
    "\n",
    "# Rimuove righe con 'studio' mancante\n",
    "studios.dropna(subset=[\"studio\"], inplace=True)\n",
    "\n",
    "# Funzione per singolarizzare\n",
    "def singularize_in_string(name):\n",
    "    plurals = {\n",
    "        \"films\": \"film\",\n",
    "        \"productions\": \"production\",\n",
    "        \"studios\": \"studio\",\n",
    "        \"movies\": \"movie\",\n",
    "        \"pictures\": \"picture\",\n",
    "        \"entertainments\": \"entertainment\",\n",
    "        \"distributions\": \"distribution\",\n",
    "        \"animations\": \"animation\",\n",
    "        \"creations\": \"creation\",\n",
    "        \"works\": \"work\",\n",
    "        \"industries\": \"industry\",\n",
    "        \"partners\": \"partner\",\n",
    "        \"associates\": \"associate\",\n",
    "        \"prod\": \"production\",\n",
    "        \"ent\": \"entertainment\",\n",
    "        \"assoc\": \"associate\"\n",
    "    }\n",
    "    for plural, singular in plurals.items():\n",
    "        name = re.sub(plural, singular, name)\n",
    "    return name\n",
    "\n",
    "# Funzione di pulizia\n",
    "def clean_studio_name(name):\n",
    "    name = name.lower().strip()\n",
    "    name = unidecode(name)\n",
    "    name = re.sub(r'[.,;:!&?\"\\'-]', ' ', name)\n",
    "    name = re.sub(r'\\s+', ' ', name).strip()\n",
    "    name = singularize_in_string(name)\n",
    "    return name\n",
    "\n",
    "# Pulisce la colonna 'studio' direttamente\n",
    "studios[\"studio\"] = studios[\"studio\"].apply(clean_studio_name)\n",
    "\n",
    "# Rimuove i duplicati (mantenendo la prima occorrenza con id)\n",
    "studios.drop_duplicates(subset=[\"studio\"], inplace=True)\n",
    "\n",
    "# Reset degli indici se vuoi\n",
    "studios.reset_index(drop=True, inplace=True)\n",
    "\n",
    "# Verifica finale\n",
    "print(f\"Numero di nomi studio unici dopo pulizia: {len(studios)}\")"
   ],
   "id": "b95493fade764ff6",
   "outputs": [
    {
     "name": "stdout",
     "output_type": "stream",
     "text": [
      "Numero di nomi studio unici dopo pulizia: 158746\n"
     ]
    }
   ],
   "execution_count": 19
  },
  {
   "metadata": {
    "ExecuteTime": {
     "end_time": "2025-06-23T14:00:40.063942Z",
     "start_time": "2025-06-23T14:00:39.115768Z"
    }
   },
   "cell_type": "code",
   "source": [
    "#pulizia del dataset releases\n",
    "releases.drop_duplicates(subset=[\"id\",\"country\",\"date\",\"type\",\"rating\"])"
   ],
   "id": "af52f73bc38adfab",
   "outputs": [
    {
     "data": {
      "text/plain": [
       "              id    country        date        type rating\n",
       "0        1000001    Andorra  2023-07-21  Theatrical    NaN\n",
       "1        1000001  Argentina  2023-07-20  Theatrical    ATP\n",
       "2        1000001  Australia  2023-07-19  Theatrical     PG\n",
       "3        1000001  Australia  2023-10-01     Digital     PG\n",
       "4        1000001    Austria  2023-07-20  Theatrical    NaN\n",
       "...          ...        ...         ...         ...    ...\n",
       "1332777  1940967        USA  1909-01-01  Theatrical    NaN\n",
       "1332778  1940968     Sweden  1908-11-11  Theatrical    NaN\n",
       "1332779  1940969     France  1902-01-01  Theatrical    NaN\n",
       "1332780  1940970     France  1902-01-01  Theatrical    NaN\n",
       "1332781  1940971     France  1902-01-01  Theatrical    NaN\n",
       "\n",
       "[1332782 rows x 5 columns]"
      ],
      "text/html": [
       "<div>\n",
       "<style scoped>\n",
       "    .dataframe tbody tr th:only-of-type {\n",
       "        vertical-align: middle;\n",
       "    }\n",
       "\n",
       "    .dataframe tbody tr th {\n",
       "        vertical-align: top;\n",
       "    }\n",
       "\n",
       "    .dataframe thead th {\n",
       "        text-align: right;\n",
       "    }\n",
       "</style>\n",
       "<table border=\"1\" class=\"dataframe\">\n",
       "  <thead>\n",
       "    <tr style=\"text-align: right;\">\n",
       "      <th></th>\n",
       "      <th>id</th>\n",
       "      <th>country</th>\n",
       "      <th>date</th>\n",
       "      <th>type</th>\n",
       "      <th>rating</th>\n",
       "    </tr>\n",
       "  </thead>\n",
       "  <tbody>\n",
       "    <tr>\n",
       "      <th>0</th>\n",
       "      <td>1000001</td>\n",
       "      <td>Andorra</td>\n",
       "      <td>2023-07-21</td>\n",
       "      <td>Theatrical</td>\n",
       "      <td>NaN</td>\n",
       "    </tr>\n",
       "    <tr>\n",
       "      <th>1</th>\n",
       "      <td>1000001</td>\n",
       "      <td>Argentina</td>\n",
       "      <td>2023-07-20</td>\n",
       "      <td>Theatrical</td>\n",
       "      <td>ATP</td>\n",
       "    </tr>\n",
       "    <tr>\n",
       "      <th>2</th>\n",
       "      <td>1000001</td>\n",
       "      <td>Australia</td>\n",
       "      <td>2023-07-19</td>\n",
       "      <td>Theatrical</td>\n",
       "      <td>PG</td>\n",
       "    </tr>\n",
       "    <tr>\n",
       "      <th>3</th>\n",
       "      <td>1000001</td>\n",
       "      <td>Australia</td>\n",
       "      <td>2023-10-01</td>\n",
       "      <td>Digital</td>\n",
       "      <td>PG</td>\n",
       "    </tr>\n",
       "    <tr>\n",
       "      <th>4</th>\n",
       "      <td>1000001</td>\n",
       "      <td>Austria</td>\n",
       "      <td>2023-07-20</td>\n",
       "      <td>Theatrical</td>\n",
       "      <td>NaN</td>\n",
       "    </tr>\n",
       "    <tr>\n",
       "      <th>...</th>\n",
       "      <td>...</td>\n",
       "      <td>...</td>\n",
       "      <td>...</td>\n",
       "      <td>...</td>\n",
       "      <td>...</td>\n",
       "    </tr>\n",
       "    <tr>\n",
       "      <th>1332777</th>\n",
       "      <td>1940967</td>\n",
       "      <td>USA</td>\n",
       "      <td>1909-01-01</td>\n",
       "      <td>Theatrical</td>\n",
       "      <td>NaN</td>\n",
       "    </tr>\n",
       "    <tr>\n",
       "      <th>1332778</th>\n",
       "      <td>1940968</td>\n",
       "      <td>Sweden</td>\n",
       "      <td>1908-11-11</td>\n",
       "      <td>Theatrical</td>\n",
       "      <td>NaN</td>\n",
       "    </tr>\n",
       "    <tr>\n",
       "      <th>1332779</th>\n",
       "      <td>1940969</td>\n",
       "      <td>France</td>\n",
       "      <td>1902-01-01</td>\n",
       "      <td>Theatrical</td>\n",
       "      <td>NaN</td>\n",
       "    </tr>\n",
       "    <tr>\n",
       "      <th>1332780</th>\n",
       "      <td>1940970</td>\n",
       "      <td>France</td>\n",
       "      <td>1902-01-01</td>\n",
       "      <td>Theatrical</td>\n",
       "      <td>NaN</td>\n",
       "    </tr>\n",
       "    <tr>\n",
       "      <th>1332781</th>\n",
       "      <td>1940971</td>\n",
       "      <td>France</td>\n",
       "      <td>1902-01-01</td>\n",
       "      <td>Theatrical</td>\n",
       "      <td>NaN</td>\n",
       "    </tr>\n",
       "  </tbody>\n",
       "</table>\n",
       "<p>1332782 rows × 5 columns</p>\n",
       "</div>"
      ]
     },
     "execution_count": 20,
     "metadata": {},
     "output_type": "execute_result"
    }
   ],
   "execution_count": 20
  },
  {
   "metadata": {
    "ExecuteTime": {
     "end_time": "2025-06-23T14:00:40.321159Z",
     "start_time": "2025-06-23T14:00:40.315081Z"
    }
   },
   "cell_type": "code",
   "source": " #pulizia dati",
   "id": "a71bc5078661a6eb",
   "outputs": [],
   "execution_count": 21
  },
  {
   "metadata": {
    "ExecuteTime": {
     "end_time": "2025-06-23T14:00:40.511573Z",
     "start_time": "2025-06-23T14:00:40.505575Z"
    }
   },
   "cell_type": "code",
   "source": " #pulizia dati",
   "id": "58af2670c2077e47",
   "outputs": [],
   "execution_count": 22
  },
  {
   "metadata": {
    "ExecuteTime": {
     "end_time": "2025-06-23T14:00:40.757757Z",
     "start_time": "2025-06-23T14:00:40.752742Z"
    }
   },
   "cell_type": "code",
   "source": " #pulizia dati",
   "id": "eb56c1f8a3d179f3",
   "outputs": [],
   "execution_count": 23
  },
  {
   "metadata": {
    "ExecuteTime": {
     "end_time": "2025-06-23T14:00:40.862414Z",
     "start_time": "2025-06-23T14:00:40.856879Z"
    }
   },
   "cell_type": "code",
   "source": " #pulizia dati",
   "id": "2a94c16cd78691a7",
   "outputs": [],
   "execution_count": 24
  },
  {
   "metadata": {
    "ExecuteTime": {
     "end_time": "2025-06-23T14:00:40.959572Z",
     "start_time": "2025-06-23T14:00:40.953592Z"
    }
   },
   "cell_type": "code",
   "source": " #pulizia dati",
   "id": "ae0c7e9288153746",
   "outputs": [],
   "execution_count": 25
  },
  {
   "metadata": {
    "ExecuteTime": {
     "end_time": "2025-06-23T14:00:50.328723Z",
     "start_time": "2025-06-23T14:00:41.041073Z"
    }
   },
   "cell_type": "code",
   "source": [
    "#attori con più film\n",
    "\n",
    "import pandas as pd\n",
    "import plotly.express as px\n",
    "\n",
    "# 1. Conta il numero di film per attore (usando id unici)\n",
    "actor_film_counts = (\n",
    "    actors.groupby('name')['id']\n",
    "    .nunique()\n",
    "    .reset_index(name='Numero di Film')\n",
    "    .sort_values(by='Numero di Film', ascending=False)\n",
    ")\n",
    "\n",
    "# 2. Prendi i Top 10 attori\n",
    "top_actors = actor_film_counts.head(30)\n",
    "\n",
    "# 3. Crea il grafico bar con Plotly\n",
    "fig = px.bar(\n",
    "    top_actors,\n",
    "    x='name',\n",
    "    y='Numero di Film',\n",
    "    text='Numero di Film',\n",
    "    title='Top 10 Attori con più Film',\n",
    "    labels={'name': 'Attore', 'Numero di Film': 'Film Realizzati'},\n",
    "    template='plotly_white'\n",
    ")\n",
    "\n",
    "# 4. Migliora la leggibilità del grafico\n",
    "fig.update_traces(\n",
    "    textposition='outside',\n",
    "    marker_color='mediumseagreen'\n",
    ")\n",
    "\n",
    "fig.update_layout(\n",
    "    xaxis_tickangle=-45,\n",
    "    yaxis_title='Numero di Film',\n",
    "    margin=dict(t=80),\n",
    "    height=600\n",
    ")\n",
    "\n",
    "# 5. Mostra il grafico\n",
    "fig.show()\n"
   ],
   "id": "9cb1454581fdb5ad",
   "outputs": [
    {
     "data": {
      "application/vnd.plotly.v1+json": {
       "data": [
        {
         "hovertemplate": "Attore=%{x}<br>Film Realizzati=%{text}<extra></extra>",
         "legendgroup": "",
         "marker": {
          "color": "mediumseagreen",
          "pattern": {
           "shape": ""
          }
         },
         "name": "",
         "orientation": "v",
         "showlegend": false,
         "text": {
          "dtype": "f8",
          "bdata": "AAAAAACIkEAAAAAAAMCFQAAAAAAA2INAAAAAAABYgkAAAAAAACiCQAAAAAAAEH9AAAAAAADQfEAAAAAAAMB7QAAAAAAAoHpAAAAAAACQekAAAAAAAEB4QAAAAAAAAHhAAAAAAADQd0AAAAAAAMB3QAAAAAAAYHdAAAAAAABAd0AAAAAAAOB2QAAAAAAAkHZAAAAAAABgdkAAAAAAANB1QAAAAAAAwHVAAAAAAACAdUAAAAAAAHB1QAAAAAAAYHVAAAAAAABAdUAAAAAAACB1QAAAAAAAAHVAAAAAAADAdEAAAAAAAHB0QAAAAAAAUHRA"
         },
         "textposition": "outside",
         "x": [
          "Mel Blanc",
          "Bess Flowers",
          "Jagathy Sreekumar",
          "Eric Roberts",
          "Brahmanandam",
          "Nassar",
          "Sukumari",
          "Mammootty",
          "Nedumudi Venu",
          "Manorama",
          "Shakti Kapoor",
          "Frank Welker",
          "Innocent",
          "Harry 'Snub' Pollard",
          "Mohanlal",
          "Prakash Raj",
          "Siddique",
          "Irving Bacon",
          "Byron Foulger",
          "Tom London",
          "Lloyd Kaufman",
          "Indrans",
          "Gilbert M. Anderson",
          "Tanikella Bharani",
          "Anupam Kher",
          "KPAC Lalitha",
          "Jack Mercer",
          "Ren Osugi",
          "Christopher Lee",
          "Ku Feng"
         ],
         "xaxis": "x",
         "y": {
          "dtype": "i2",
          "bdata": "IgS4AnsCSwJFAvEBzQG8AaoBqQGEAYABfQF8AXYBdAFuAWkBZgFdAVwBWAFXAVYBVAFSAVABTAFHAUUB"
         },
         "yaxis": "y",
         "type": "bar"
        }
       ],
       "layout": {
        "template": {
         "data": {
          "barpolar": [
           {
            "marker": {
             "line": {
              "color": "white",
              "width": 0.5
             },
             "pattern": {
              "fillmode": "overlay",
              "size": 10,
              "solidity": 0.2
             }
            },
            "type": "barpolar"
           }
          ],
          "bar": [
           {
            "error_x": {
             "color": "#2a3f5f"
            },
            "error_y": {
             "color": "#2a3f5f"
            },
            "marker": {
             "line": {
              "color": "white",
              "width": 0.5
             },
             "pattern": {
              "fillmode": "overlay",
              "size": 10,
              "solidity": 0.2
             }
            },
            "type": "bar"
           }
          ],
          "carpet": [
           {
            "aaxis": {
             "endlinecolor": "#2a3f5f",
             "gridcolor": "#C8D4E3",
             "linecolor": "#C8D4E3",
             "minorgridcolor": "#C8D4E3",
             "startlinecolor": "#2a3f5f"
            },
            "baxis": {
             "endlinecolor": "#2a3f5f",
             "gridcolor": "#C8D4E3",
             "linecolor": "#C8D4E3",
             "minorgridcolor": "#C8D4E3",
             "startlinecolor": "#2a3f5f"
            },
            "type": "carpet"
           }
          ],
          "choropleth": [
           {
            "colorbar": {
             "outlinewidth": 0,
             "ticks": ""
            },
            "type": "choropleth"
           }
          ],
          "contourcarpet": [
           {
            "colorbar": {
             "outlinewidth": 0,
             "ticks": ""
            },
            "type": "contourcarpet"
           }
          ],
          "contour": [
           {
            "colorbar": {
             "outlinewidth": 0,
             "ticks": ""
            },
            "colorscale": [
             [
              0.0,
              "#0d0887"
             ],
             [
              0.1111111111111111,
              "#46039f"
             ],
             [
              0.2222222222222222,
              "#7201a8"
             ],
             [
              0.3333333333333333,
              "#9c179e"
             ],
             [
              0.4444444444444444,
              "#bd3786"
             ],
             [
              0.5555555555555556,
              "#d8576b"
             ],
             [
              0.6666666666666666,
              "#ed7953"
             ],
             [
              0.7777777777777778,
              "#fb9f3a"
             ],
             [
              0.8888888888888888,
              "#fdca26"
             ],
             [
              1.0,
              "#f0f921"
             ]
            ],
            "type": "contour"
           }
          ],
          "heatmap": [
           {
            "colorbar": {
             "outlinewidth": 0,
             "ticks": ""
            },
            "colorscale": [
             [
              0.0,
              "#0d0887"
             ],
             [
              0.1111111111111111,
              "#46039f"
             ],
             [
              0.2222222222222222,
              "#7201a8"
             ],
             [
              0.3333333333333333,
              "#9c179e"
             ],
             [
              0.4444444444444444,
              "#bd3786"
             ],
             [
              0.5555555555555556,
              "#d8576b"
             ],
             [
              0.6666666666666666,
              "#ed7953"
             ],
             [
              0.7777777777777778,
              "#fb9f3a"
             ],
             [
              0.8888888888888888,
              "#fdca26"
             ],
             [
              1.0,
              "#f0f921"
             ]
            ],
            "type": "heatmap"
           }
          ],
          "histogram2dcontour": [
           {
            "colorbar": {
             "outlinewidth": 0,
             "ticks": ""
            },
            "colorscale": [
             [
              0.0,
              "#0d0887"
             ],
             [
              0.1111111111111111,
              "#46039f"
             ],
             [
              0.2222222222222222,
              "#7201a8"
             ],
             [
              0.3333333333333333,
              "#9c179e"
             ],
             [
              0.4444444444444444,
              "#bd3786"
             ],
             [
              0.5555555555555556,
              "#d8576b"
             ],
             [
              0.6666666666666666,
              "#ed7953"
             ],
             [
              0.7777777777777778,
              "#fb9f3a"
             ],
             [
              0.8888888888888888,
              "#fdca26"
             ],
             [
              1.0,
              "#f0f921"
             ]
            ],
            "type": "histogram2dcontour"
           }
          ],
          "histogram2d": [
           {
            "colorbar": {
             "outlinewidth": 0,
             "ticks": ""
            },
            "colorscale": [
             [
              0.0,
              "#0d0887"
             ],
             [
              0.1111111111111111,
              "#46039f"
             ],
             [
              0.2222222222222222,
              "#7201a8"
             ],
             [
              0.3333333333333333,
              "#9c179e"
             ],
             [
              0.4444444444444444,
              "#bd3786"
             ],
             [
              0.5555555555555556,
              "#d8576b"
             ],
             [
              0.6666666666666666,
              "#ed7953"
             ],
             [
              0.7777777777777778,
              "#fb9f3a"
             ],
             [
              0.8888888888888888,
              "#fdca26"
             ],
             [
              1.0,
              "#f0f921"
             ]
            ],
            "type": "histogram2d"
           }
          ],
          "histogram": [
           {
            "marker": {
             "pattern": {
              "fillmode": "overlay",
              "size": 10,
              "solidity": 0.2
             }
            },
            "type": "histogram"
           }
          ],
          "mesh3d": [
           {
            "colorbar": {
             "outlinewidth": 0,
             "ticks": ""
            },
            "type": "mesh3d"
           }
          ],
          "parcoords": [
           {
            "line": {
             "colorbar": {
              "outlinewidth": 0,
              "ticks": ""
             }
            },
            "type": "parcoords"
           }
          ],
          "pie": [
           {
            "automargin": true,
            "type": "pie"
           }
          ],
          "scatter3d": [
           {
            "line": {
             "colorbar": {
              "outlinewidth": 0,
              "ticks": ""
             }
            },
            "marker": {
             "colorbar": {
              "outlinewidth": 0,
              "ticks": ""
             }
            },
            "type": "scatter3d"
           }
          ],
          "scattercarpet": [
           {
            "marker": {
             "colorbar": {
              "outlinewidth": 0,
              "ticks": ""
             }
            },
            "type": "scattercarpet"
           }
          ],
          "scattergeo": [
           {
            "marker": {
             "colorbar": {
              "outlinewidth": 0,
              "ticks": ""
             }
            },
            "type": "scattergeo"
           }
          ],
          "scattergl": [
           {
            "marker": {
             "colorbar": {
              "outlinewidth": 0,
              "ticks": ""
             }
            },
            "type": "scattergl"
           }
          ],
          "scattermapbox": [
           {
            "marker": {
             "colorbar": {
              "outlinewidth": 0,
              "ticks": ""
             }
            },
            "type": "scattermapbox"
           }
          ],
          "scattermap": [
           {
            "marker": {
             "colorbar": {
              "outlinewidth": 0,
              "ticks": ""
             }
            },
            "type": "scattermap"
           }
          ],
          "scatterpolargl": [
           {
            "marker": {
             "colorbar": {
              "outlinewidth": 0,
              "ticks": ""
             }
            },
            "type": "scatterpolargl"
           }
          ],
          "scatterpolar": [
           {
            "marker": {
             "colorbar": {
              "outlinewidth": 0,
              "ticks": ""
             }
            },
            "type": "scatterpolar"
           }
          ],
          "scatter": [
           {
            "fillpattern": {
             "fillmode": "overlay",
             "size": 10,
             "solidity": 0.2
            },
            "type": "scatter"
           }
          ],
          "scatterternary": [
           {
            "marker": {
             "colorbar": {
              "outlinewidth": 0,
              "ticks": ""
             }
            },
            "type": "scatterternary"
           }
          ],
          "surface": [
           {
            "colorbar": {
             "outlinewidth": 0,
             "ticks": ""
            },
            "colorscale": [
             [
              0.0,
              "#0d0887"
             ],
             [
              0.1111111111111111,
              "#46039f"
             ],
             [
              0.2222222222222222,
              "#7201a8"
             ],
             [
              0.3333333333333333,
              "#9c179e"
             ],
             [
              0.4444444444444444,
              "#bd3786"
             ],
             [
              0.5555555555555556,
              "#d8576b"
             ],
             [
              0.6666666666666666,
              "#ed7953"
             ],
             [
              0.7777777777777778,
              "#fb9f3a"
             ],
             [
              0.8888888888888888,
              "#fdca26"
             ],
             [
              1.0,
              "#f0f921"
             ]
            ],
            "type": "surface"
           }
          ],
          "table": [
           {
            "cells": {
             "fill": {
              "color": "#EBF0F8"
             },
             "line": {
              "color": "white"
             }
            },
            "header": {
             "fill": {
              "color": "#C8D4E3"
             },
             "line": {
              "color": "white"
             }
            },
            "type": "table"
           }
          ]
         },
         "layout": {
          "annotationdefaults": {
           "arrowcolor": "#2a3f5f",
           "arrowhead": 0,
           "arrowwidth": 1
          },
          "autotypenumbers": "strict",
          "coloraxis": {
           "colorbar": {
            "outlinewidth": 0,
            "ticks": ""
           }
          },
          "colorscale": {
           "diverging": [
            [
             0,
             "#8e0152"
            ],
            [
             0.1,
             "#c51b7d"
            ],
            [
             0.2,
             "#de77ae"
            ],
            [
             0.3,
             "#f1b6da"
            ],
            [
             0.4,
             "#fde0ef"
            ],
            [
             0.5,
             "#f7f7f7"
            ],
            [
             0.6,
             "#e6f5d0"
            ],
            [
             0.7,
             "#b8e186"
            ],
            [
             0.8,
             "#7fbc41"
            ],
            [
             0.9,
             "#4d9221"
            ],
            [
             1,
             "#276419"
            ]
           ],
           "sequential": [
            [
             0.0,
             "#0d0887"
            ],
            [
             0.1111111111111111,
             "#46039f"
            ],
            [
             0.2222222222222222,
             "#7201a8"
            ],
            [
             0.3333333333333333,
             "#9c179e"
            ],
            [
             0.4444444444444444,
             "#bd3786"
            ],
            [
             0.5555555555555556,
             "#d8576b"
            ],
            [
             0.6666666666666666,
             "#ed7953"
            ],
            [
             0.7777777777777778,
             "#fb9f3a"
            ],
            [
             0.8888888888888888,
             "#fdca26"
            ],
            [
             1.0,
             "#f0f921"
            ]
           ],
           "sequentialminus": [
            [
             0.0,
             "#0d0887"
            ],
            [
             0.1111111111111111,
             "#46039f"
            ],
            [
             0.2222222222222222,
             "#7201a8"
            ],
            [
             0.3333333333333333,
             "#9c179e"
            ],
            [
             0.4444444444444444,
             "#bd3786"
            ],
            [
             0.5555555555555556,
             "#d8576b"
            ],
            [
             0.6666666666666666,
             "#ed7953"
            ],
            [
             0.7777777777777778,
             "#fb9f3a"
            ],
            [
             0.8888888888888888,
             "#fdca26"
            ],
            [
             1.0,
             "#f0f921"
            ]
           ]
          },
          "colorway": [
           "#636efa",
           "#EF553B",
           "#00cc96",
           "#ab63fa",
           "#FFA15A",
           "#19d3f3",
           "#FF6692",
           "#B6E880",
           "#FF97FF",
           "#FECB52"
          ],
          "font": {
           "color": "#2a3f5f"
          },
          "geo": {
           "bgcolor": "white",
           "lakecolor": "white",
           "landcolor": "white",
           "showlakes": true,
           "showland": true,
           "subunitcolor": "#C8D4E3"
          },
          "hoverlabel": {
           "align": "left"
          },
          "hovermode": "closest",
          "mapbox": {
           "style": "light"
          },
          "paper_bgcolor": "white",
          "plot_bgcolor": "white",
          "polar": {
           "angularaxis": {
            "gridcolor": "#EBF0F8",
            "linecolor": "#EBF0F8",
            "ticks": ""
           },
           "bgcolor": "white",
           "radialaxis": {
            "gridcolor": "#EBF0F8",
            "linecolor": "#EBF0F8",
            "ticks": ""
           }
          },
          "scene": {
           "xaxis": {
            "backgroundcolor": "white",
            "gridcolor": "#DFE8F3",
            "gridwidth": 2,
            "linecolor": "#EBF0F8",
            "showbackground": true,
            "ticks": "",
            "zerolinecolor": "#EBF0F8"
           },
           "yaxis": {
            "backgroundcolor": "white",
            "gridcolor": "#DFE8F3",
            "gridwidth": 2,
            "linecolor": "#EBF0F8",
            "showbackground": true,
            "ticks": "",
            "zerolinecolor": "#EBF0F8"
           },
           "zaxis": {
            "backgroundcolor": "white",
            "gridcolor": "#DFE8F3",
            "gridwidth": 2,
            "linecolor": "#EBF0F8",
            "showbackground": true,
            "ticks": "",
            "zerolinecolor": "#EBF0F8"
           }
          },
          "shapedefaults": {
           "line": {
            "color": "#2a3f5f"
           }
          },
          "ternary": {
           "aaxis": {
            "gridcolor": "#DFE8F3",
            "linecolor": "#A2B1C6",
            "ticks": ""
           },
           "baxis": {
            "gridcolor": "#DFE8F3",
            "linecolor": "#A2B1C6",
            "ticks": ""
           },
           "bgcolor": "white",
           "caxis": {
            "gridcolor": "#DFE8F3",
            "linecolor": "#A2B1C6",
            "ticks": ""
           }
          },
          "title": {
           "x": 0.05
          },
          "xaxis": {
           "automargin": true,
           "gridcolor": "#EBF0F8",
           "linecolor": "#EBF0F8",
           "ticks": "",
           "title": {
            "standoff": 15
           },
           "zerolinecolor": "#EBF0F8",
           "zerolinewidth": 2
          },
          "yaxis": {
           "automargin": true,
           "gridcolor": "#EBF0F8",
           "linecolor": "#EBF0F8",
           "ticks": "",
           "title": {
            "standoff": 15
           },
           "zerolinecolor": "#EBF0F8",
           "zerolinewidth": 2
          }
         }
        },
        "xaxis": {
         "anchor": "y",
         "domain": [
          0.0,
          1.0
         ],
         "title": {
          "text": "Attore"
         },
         "tickangle": -45
        },
        "yaxis": {
         "anchor": "x",
         "domain": [
          0.0,
          1.0
         ],
         "title": {
          "text": "Numero di Film"
         }
        },
        "legend": {
         "tracegroupgap": 0
        },
        "title": {
         "text": "Top 10 Attori con più Film"
        },
        "barmode": "relative",
        "margin": {
         "t": 80
        },
        "height": 600
       },
       "config": {
        "plotlyServerURL": "https://plot.ly"
       }
      }
     },
     "metadata": {},
     "output_type": "display_data"
    }
   ],
   "execution_count": 26
  },
  {
   "metadata": {
    "ExecuteTime": {
     "end_time": "2025-06-23T14:01:08.537234Z",
     "start_time": "2025-06-23T14:00:50.383965Z"
    }
   },
   "cell_type": "code",
   "source": [
    "import pandas as pd\n",
    "import plotly.express as px\n",
    "\n",
    "# 1. Conta i film unici per ogni attore e ruolo\n",
    "role_counts = (\n",
    "    actors.groupby(['name', 'role'])['id']\n",
    "    .nunique()\n",
    "    .reset_index(name='count')\n",
    ")\n",
    "\n",
    "# 2. Tieni solo i ruoli ripetuti almeno 2 volte\n",
    "repeated_roles = role_counts[role_counts['count'] >= 2].copy()\n",
    "\n",
    "# 3. Calcola il totale di ripetizioni per ogni attore\n",
    "total_repeats = (\n",
    "    repeated_roles.groupby('name')['count']\n",
    "    .sum()\n",
    "    .reset_index(name='Totale Ripetizioni')\n",
    ")\n",
    "\n",
    "# 4. Prendi i top 10 attori\n",
    "top_actors = total_repeats.sort_values(by='Totale Ripetizioni', ascending=False).head(10)\n",
    "\n",
    "# 5. Prepara i ruoli ripetuti per ogni attore\n",
    "tooltip_df = repeated_roles[repeated_roles['name'].isin(top_actors['name'])].copy()\n",
    "tooltip_df['ruolo_info'] = tooltip_df['role'] + ': ' + tooltip_df['count'].astype(str) + ' volte'\n",
    "\n",
    "# 6. Aggrega ruoli per tooltip\n",
    "tooltip_texts = (\n",
    "    tooltip_df.groupby('name')['ruolo_info']\n",
    "    .apply(lambda x: '<br>'.join(x))\n",
    "    .reset_index(name='Ruoli Ripetuti')\n",
    ")\n",
    "\n",
    "# 7. Unisci i tooltip con il dataset dei top attori\n",
    "plot_df = pd.merge(top_actors, tooltip_texts, on='name', how='left')\n",
    "\n",
    "# 8. Riempi eventuali valori mancanti\n",
    "plot_df['Ruoli Ripetuti'] = plot_df['Ruoli Ripetuti'].fillna('Nessun ruolo ripetuto')\n",
    "\n",
    "# 9. Crea bar chart Plotly\n",
    "fig = px.bar(\n",
    "    plot_df,\n",
    "    x='name',\n",
    "    y='Totale Ripetizioni',\n",
    "    text='Totale Ripetizioni',\n",
    "    hover_data={'Ruoli Ripetuti': True},\n",
    "    labels={'name': 'Attore'},\n",
    "    title='Attori che hanno interpretato più volte lo stesso ruolo',\n",
    "    template='plotly_white'\n",
    ")\n",
    "\n",
    "fig.update_traces(\n",
    "    textposition='outside',\n",
    "    marker_color='mediumseagreen'\n",
    ")\n",
    "\n",
    "fig.update_layout(\n",
    "    xaxis_tickangle=-45,\n",
    "    height=600,\n",
    "    margin=dict(t=100)\n",
    ")\n",
    "\n",
    "fig.show()\n"
   ],
   "id": "e1665929a48e6589",
   "outputs": [
    {
     "data": {
      "application/vnd.plotly.v1+json": {
       "data": [
        {
         "customdata": [
          [
           "Brahmam: 2 volte<br>Brahmi: 6 volte<br>Comedy: 2 volte<br>Doctor: 2 volte<br>Kaasi: 2 volte<br>Khan Dada: 2 volte<br>Priest: 2 volte<br>Sastry: 2 volte<br>Satyam: 2 volte<br>Sconosciuto: 348 volte"
          ],
          [
           "(archive footage): 2 volte<br>(voice): 4 volte<br>Barney Rubble: 2 volte<br>Barney Rubble (voice): 6 volte<br>Barney Rubble / Dino (voice): 4 volte<br>Braxton Bear: 3 volte<br>Bugs Bunny: 6 volte<br>Bugs Bunny (voice): 26 volte<br>Bugs Bunny (voice) (uncredited): 8 volte<br>Bugs Bunny / Blacque Jacque Shellacque (voice): 2 volte<br>Bugs Bunny / Daffy Duck (voice): 5 volte<br>Bugs Bunny / Tasmanian Devil (voice): 2 volte<br>Bugs Bunny / Wile E. Coyote (voice): 3 volte<br>Bugs Bunny / Yosemite Sam (voice): 10 volte<br>Cat (voice) (uncredited): 4 volte<br>Crow (voice): 2 volte<br>Daffy Duck: 2 volte<br>Daffy Duck (voice): 10 volte<br>Daffy Duck (voice) (uncredited): 2 volte<br>Daffy Duck / Bugs Bunny (voice): 2 volte<br>Daffy Duck / Porky Pig (voice): 6 volte<br>Daffy Duck / Speedy Gonzales (voice): 7 volte<br>Daffy Duck on TV (voice) (archive sound) (uncredited): 2 volte<br>Egghead (voice) (uncredited): 2 volte<br>Foghorn Leghorn (voice): 3 volte<br>Foghorn Leghorn / Henery Hawk / Barnyard Dog (voice): 2 volte<br>Gangster Mouse (voice): 3 volte<br>John Silver (voice) (uncredited): 2 volte<br>Krazy Kat: 3 volte<br>Little Blabbermouth (voice): 2 volte<br>Mac (voice): 2 volte<br>Mac / Dog (voice): 2 volte<br>Other voices: 2 volte<br>Pepe Le Pew (voice): 2 volte<br>Pepe le Pew: 2 volte<br>Pepe le Pew (voice): 3 volte<br>Porky: 2 volte<br>Porky Pig: 5 volte<br>Porky Pig (voice): 17 volte<br>Porky Pig (voice) (uncredited): 11 volte<br>Porky Pig / Daffy Duck (voice): 4 volte<br>Porky Pig / Daffy Duck (voice) (uncredited): 2 volte<br>Private McGillicuddy: 4 volte<br>Pvt. Snafu: 12 volte<br>Sam Sheepdog, Ralph Wolf: 2 volte<br>Sconosciuto: 14 volte<br>Self: 4 volte<br>Speedy Gonzales, Sylvester: 4 volte<br>Speedy Gonzales, Sylvester, Mice: 2 volte<br>Sylvester (voice): 5 volte<br>Sylvester / Junior (voice): 4 volte<br>Sylvester / Sylvester Jr. (voice): 2 volte<br>Sylvester / Sylvester Junior: 2 volte<br>Sylvester / Tweety (voice): 10 volte<br>Tom (voice): 2 volte<br>Tom / Jerry (voice): 4 volte<br>Tom / Jerry (voice) (uncredited): 2 volte<br>Tweety / Sylvester: 2 volte<br>Various: 4 volte<br>Various (voice): 4 volte<br>Various (voice) (uncredited): 7 volte<br>Various Characters (voice): 2 volte<br>Vocal Effects (voice): 2 volte<br>Vocal Talents (voice) (uncredited): 3 volte<br>Voices: 2 volte<br>Wile E. Coyote: 2 volte<br>Wile E. Coyote (voice): 2 volte<br>Wile E. Coyote (voice) (uncredited): 3 volte<br>Wolf (voice) (uncredited): 2 volte<br>Woody Woodpecker (archive sound): 5 volte<br>Woody Woodpecker (voice): 4 volte<br>Woody Woodpecker's Laugh (archive sound): 6 volte"
          ],
          [
           "Inukai: 2 volte<br>Kumada: 4 volte<br>Masahisa Takenaka: 2 volte<br>Sconosciuto: 245 volte<br>Shingo Maekawa: 4 volte<br>Tony: 2 volte<br>Washio Kazuma: 3 volte<br>Yuichi Kawatani: 22 volte"
          ],
          [
           "Indra: 2 volte<br>Kavya's Grandmother: 2 volte<br>Muniyamma: 3 volte<br>Sconosciuto: 268 volte"
          ],
          [
           "Himself: 4 volte<br>Himself (archive footage): 6 volte<br>Sconosciuto: 10 volte<br>Self: 18 volte<br>Self (archive footage): 157 volte<br>Self (archive footage) (uncredited): 37 volte<br>Self (uncredited): 2 volte<br>Self - Führer und Reichskanzler (archive footage): 2 volte<br>Self - Politician (archive footage): 26 volte"
          ],
          [
           "(uncredited): 4 volte<br>Anniversary Party Guest (uncredited): 2 volte<br>Audience Member (uncredited): 2 volte<br>Ball Guest (uncredited): 2 volte<br>Banquet Guest (uncredited): 2 volte<br>Bar Patron (uncredited): 3 volte<br>Birthday Party Guest (uncredited): 2 volte<br>Bridge Player (uncredited): 3 volte<br>Casino Patron (uncredited): 2 volte<br>Club Patron (uncredited): 2 volte<br>Concertgoer (uncredited): 2 volte<br>Courtroom Spectator: 4 volte<br>Courtroom Spectator (uncredited): 3 volte<br>Department Store Shopper: 2 volte<br>Diner: 2 volte<br>Dinner Guest (uncredited): 5 volte<br>Extra (uncredited): 3 volte<br>Fight Spectator (uncredited): 2 volte<br>Gambler at Roulette Table (uncredited): 2 volte<br>Guest: 2 volte<br>Mannequin (uncredited): 2 volte<br>Minor Role (uncredited): 4 volte<br>Night Club Patron (uncredited): 3 volte<br>Nightclub Extra (uncredited): 4 volte<br>Nightclub Guest (uncredited): 2 volte<br>Nightclub Patron: 11 volte<br>Nightclub Patron (Uncredited): 2 volte<br>Nightclub Patron (uncredited): 27 volte<br>Nightclub patron: 3 volte<br>Nightclub patron (uncredited): 2 volte<br>Nurse: 7 volte<br>Nurse (uncredited): 7 volte<br>Party Guest: 20 volte<br>Party Guest (Uncredited): 2 volte<br>Party Guest (uncredited): 48 volte<br>Party guest: 3 volte<br>Patron at Pelican Club: 2 volte<br>Racetrack Spectator (uncredited): 2 volte<br>Reporter: 2 volte<br>Restaurant Patron: 3 volte<br>Restaurant Patron (uncredited): 9 volte<br>Sconosciuto: 7 volte<br>Secretary: 4 volte<br>Secretary (uncredited): 2 volte<br>Ship Passenger: 2 volte<br>Ship Passenger (uncredited): 5 volte<br>Ship's Passenger (uncredited): 3 volte<br>Spectator (uncredited): 2 volte<br>Telephone Operator: 2 volte<br>Wedding Guest: 6 volte<br>Wedding Guest (uncredited): 4 volte<br>Wedding Reception Guest (uncredited): 2 volte<br>Woman (uncredited): 2 volte<br>Woman in Audience (uncredited): 4 volte"
          ],
          [
           "Achayan: 3 volte<br>Basheer: 2 volte<br>Cherukunnathu Bhaskara Pillai: 2 volte<br>Gopi: 3 volte<br>Govindan: 2 volte<br>Joseph: 4 volte<br>Krishnankutty: 2 volte<br>Kunjeesho: 2 volte<br>Kuttappan: 4 volte<br>Lazar: 3 volte<br>Madhavan: 3 volte<br>Mathachan: 3 volte<br>Mukundan: 3 volte<br>Nair: 2 volte<br>Nischal: 2 volte<br>Pachalam Bhasi: 2 volte<br>Pillai: 2 volte<br>Raghavan: 3 volte<br>Rajappan: 2 volte<br>Sconosciuto: 176 volte<br>Sivaraman: 2 volte<br>Swami: 3 volte<br>Thankappan: 2 volte<br>Thomas: 2 volte<br>Unni: 2 volte<br>Unnithan: 3 volte<br>Varkey: 2 volte<br>Vasu: 6 volte<br>Vikram: 5 volte"
          ],
          [
           "Himself: 25 volte<br>Paul: 3 volte<br>Sconosciuto: 25 volte<br>Self: 105 volte<br>Self (archive footage): 85 volte<br>Self (uncredited): 2 volte<br>Self - Musician: 2 volte"
          ],
          [
           "Azhagesan: 2 volte<br>Sconosciuto: 237 volte"
          ],
          [
           "Ammalu: 2 volte<br>Ananthan's Mother: 2 volte<br>Annamma: 3 volte<br>Bharathi: 2 volte<br>Bhavani: 3 volte<br>Doctor: 2 volte<br>Grandmother: 2 volte<br>Hostel Warden: 3 volte<br>Janaki: 3 volte<br>Kalyani: 4 volte<br>Kamalamma: 2 volte<br>Kochammini: 2 volte<br>Lakshmi: 3 volte<br>Leelamma: 2 volte<br>Maggie: 2 volte<br>Malu: 2 volte<br>Mamma: 2 volte<br>Mariamma: 2 volte<br>Mother Superior: 2 volte<br>Muthassi: 3 volte<br>Naniyamma: 3 volte<br>Paatti: 3 volte<br>Sarada: 2 volte<br>Saraswathi: 3 volte<br>Saraswathiyamma: 2 volte<br>Sconosciuto: 169 volte<br>Sister: 2 volte<br>Subhadra: 3 volte<br>Subhadra Kunjamma: 2 volte<br>Thankamani: 2 volte"
          ]
         ],
         "hovertemplate": "Attore=%{x}<br>Totale Ripetizioni=%{text}<br>Ruoli Ripetuti=%{customdata[0]}<extra></extra>",
         "legendgroup": "",
         "marker": {
          "color": "mediumseagreen",
          "pattern": {
           "shape": ""
          }
         },
         "name": "",
         "orientation": "v",
         "showlegend": false,
         "text": {
          "dtype": "f8",
          "bdata": "AAAAAAAgd0AAAAAAAKBzQAAAAAAAwHFAAAAAAAAwcUAAAAAAAGBwQAAAAAAAUHBAAAAAAACAb0AAAAAAAOBuQAAAAAAA4G1AAAAAAADgbUA="
         },
         "textposition": "outside",
         "x": [
          "Brahmanandam",
          "Mel Blanc",
          "Hitoshi Ozawa",
          "Manorama",
          "Adolf Hitler",
          "Bess Flowers",
          "Jagathy Sreekumar",
          "Paul McCartney",
          "Senthil",
          "Sukumari"
         ],
         "xaxis": "x",
         "y": {
          "dtype": "i2",
          "bdata": "cgE6ARwBEwEGAQUB/AD3AO8A7wA="
         },
         "yaxis": "y",
         "type": "bar"
        }
       ],
       "layout": {
        "template": {
         "data": {
          "barpolar": [
           {
            "marker": {
             "line": {
              "color": "white",
              "width": 0.5
             },
             "pattern": {
              "fillmode": "overlay",
              "size": 10,
              "solidity": 0.2
             }
            },
            "type": "barpolar"
           }
          ],
          "bar": [
           {
            "error_x": {
             "color": "#2a3f5f"
            },
            "error_y": {
             "color": "#2a3f5f"
            },
            "marker": {
             "line": {
              "color": "white",
              "width": 0.5
             },
             "pattern": {
              "fillmode": "overlay",
              "size": 10,
              "solidity": 0.2
             }
            },
            "type": "bar"
           }
          ],
          "carpet": [
           {
            "aaxis": {
             "endlinecolor": "#2a3f5f",
             "gridcolor": "#C8D4E3",
             "linecolor": "#C8D4E3",
             "minorgridcolor": "#C8D4E3",
             "startlinecolor": "#2a3f5f"
            },
            "baxis": {
             "endlinecolor": "#2a3f5f",
             "gridcolor": "#C8D4E3",
             "linecolor": "#C8D4E3",
             "minorgridcolor": "#C8D4E3",
             "startlinecolor": "#2a3f5f"
            },
            "type": "carpet"
           }
          ],
          "choropleth": [
           {
            "colorbar": {
             "outlinewidth": 0,
             "ticks": ""
            },
            "type": "choropleth"
           }
          ],
          "contourcarpet": [
           {
            "colorbar": {
             "outlinewidth": 0,
             "ticks": ""
            },
            "type": "contourcarpet"
           }
          ],
          "contour": [
           {
            "colorbar": {
             "outlinewidth": 0,
             "ticks": ""
            },
            "colorscale": [
             [
              0.0,
              "#0d0887"
             ],
             [
              0.1111111111111111,
              "#46039f"
             ],
             [
              0.2222222222222222,
              "#7201a8"
             ],
             [
              0.3333333333333333,
              "#9c179e"
             ],
             [
              0.4444444444444444,
              "#bd3786"
             ],
             [
              0.5555555555555556,
              "#d8576b"
             ],
             [
              0.6666666666666666,
              "#ed7953"
             ],
             [
              0.7777777777777778,
              "#fb9f3a"
             ],
             [
              0.8888888888888888,
              "#fdca26"
             ],
             [
              1.0,
              "#f0f921"
             ]
            ],
            "type": "contour"
           }
          ],
          "heatmap": [
           {
            "colorbar": {
             "outlinewidth": 0,
             "ticks": ""
            },
            "colorscale": [
             [
              0.0,
              "#0d0887"
             ],
             [
              0.1111111111111111,
              "#46039f"
             ],
             [
              0.2222222222222222,
              "#7201a8"
             ],
             [
              0.3333333333333333,
              "#9c179e"
             ],
             [
              0.4444444444444444,
              "#bd3786"
             ],
             [
              0.5555555555555556,
              "#d8576b"
             ],
             [
              0.6666666666666666,
              "#ed7953"
             ],
             [
              0.7777777777777778,
              "#fb9f3a"
             ],
             [
              0.8888888888888888,
              "#fdca26"
             ],
             [
              1.0,
              "#f0f921"
             ]
            ],
            "type": "heatmap"
           }
          ],
          "histogram2dcontour": [
           {
            "colorbar": {
             "outlinewidth": 0,
             "ticks": ""
            },
            "colorscale": [
             [
              0.0,
              "#0d0887"
             ],
             [
              0.1111111111111111,
              "#46039f"
             ],
             [
              0.2222222222222222,
              "#7201a8"
             ],
             [
              0.3333333333333333,
              "#9c179e"
             ],
             [
              0.4444444444444444,
              "#bd3786"
             ],
             [
              0.5555555555555556,
              "#d8576b"
             ],
             [
              0.6666666666666666,
              "#ed7953"
             ],
             [
              0.7777777777777778,
              "#fb9f3a"
             ],
             [
              0.8888888888888888,
              "#fdca26"
             ],
             [
              1.0,
              "#f0f921"
             ]
            ],
            "type": "histogram2dcontour"
           }
          ],
          "histogram2d": [
           {
            "colorbar": {
             "outlinewidth": 0,
             "ticks": ""
            },
            "colorscale": [
             [
              0.0,
              "#0d0887"
             ],
             [
              0.1111111111111111,
              "#46039f"
             ],
             [
              0.2222222222222222,
              "#7201a8"
             ],
             [
              0.3333333333333333,
              "#9c179e"
             ],
             [
              0.4444444444444444,
              "#bd3786"
             ],
             [
              0.5555555555555556,
              "#d8576b"
             ],
             [
              0.6666666666666666,
              "#ed7953"
             ],
             [
              0.7777777777777778,
              "#fb9f3a"
             ],
             [
              0.8888888888888888,
              "#fdca26"
             ],
             [
              1.0,
              "#f0f921"
             ]
            ],
            "type": "histogram2d"
           }
          ],
          "histogram": [
           {
            "marker": {
             "pattern": {
              "fillmode": "overlay",
              "size": 10,
              "solidity": 0.2
             }
            },
            "type": "histogram"
           }
          ],
          "mesh3d": [
           {
            "colorbar": {
             "outlinewidth": 0,
             "ticks": ""
            },
            "type": "mesh3d"
           }
          ],
          "parcoords": [
           {
            "line": {
             "colorbar": {
              "outlinewidth": 0,
              "ticks": ""
             }
            },
            "type": "parcoords"
           }
          ],
          "pie": [
           {
            "automargin": true,
            "type": "pie"
           }
          ],
          "scatter3d": [
           {
            "line": {
             "colorbar": {
              "outlinewidth": 0,
              "ticks": ""
             }
            },
            "marker": {
             "colorbar": {
              "outlinewidth": 0,
              "ticks": ""
             }
            },
            "type": "scatter3d"
           }
          ],
          "scattercarpet": [
           {
            "marker": {
             "colorbar": {
              "outlinewidth": 0,
              "ticks": ""
             }
            },
            "type": "scattercarpet"
           }
          ],
          "scattergeo": [
           {
            "marker": {
             "colorbar": {
              "outlinewidth": 0,
              "ticks": ""
             }
            },
            "type": "scattergeo"
           }
          ],
          "scattergl": [
           {
            "marker": {
             "colorbar": {
              "outlinewidth": 0,
              "ticks": ""
             }
            },
            "type": "scattergl"
           }
          ],
          "scattermapbox": [
           {
            "marker": {
             "colorbar": {
              "outlinewidth": 0,
              "ticks": ""
             }
            },
            "type": "scattermapbox"
           }
          ],
          "scattermap": [
           {
            "marker": {
             "colorbar": {
              "outlinewidth": 0,
              "ticks": ""
             }
            },
            "type": "scattermap"
           }
          ],
          "scatterpolargl": [
           {
            "marker": {
             "colorbar": {
              "outlinewidth": 0,
              "ticks": ""
             }
            },
            "type": "scatterpolargl"
           }
          ],
          "scatterpolar": [
           {
            "marker": {
             "colorbar": {
              "outlinewidth": 0,
              "ticks": ""
             }
            },
            "type": "scatterpolar"
           }
          ],
          "scatter": [
           {
            "fillpattern": {
             "fillmode": "overlay",
             "size": 10,
             "solidity": 0.2
            },
            "type": "scatter"
           }
          ],
          "scatterternary": [
           {
            "marker": {
             "colorbar": {
              "outlinewidth": 0,
              "ticks": ""
             }
            },
            "type": "scatterternary"
           }
          ],
          "surface": [
           {
            "colorbar": {
             "outlinewidth": 0,
             "ticks": ""
            },
            "colorscale": [
             [
              0.0,
              "#0d0887"
             ],
             [
              0.1111111111111111,
              "#46039f"
             ],
             [
              0.2222222222222222,
              "#7201a8"
             ],
             [
              0.3333333333333333,
              "#9c179e"
             ],
             [
              0.4444444444444444,
              "#bd3786"
             ],
             [
              0.5555555555555556,
              "#d8576b"
             ],
             [
              0.6666666666666666,
              "#ed7953"
             ],
             [
              0.7777777777777778,
              "#fb9f3a"
             ],
             [
              0.8888888888888888,
              "#fdca26"
             ],
             [
              1.0,
              "#f0f921"
             ]
            ],
            "type": "surface"
           }
          ],
          "table": [
           {
            "cells": {
             "fill": {
              "color": "#EBF0F8"
             },
             "line": {
              "color": "white"
             }
            },
            "header": {
             "fill": {
              "color": "#C8D4E3"
             },
             "line": {
              "color": "white"
             }
            },
            "type": "table"
           }
          ]
         },
         "layout": {
          "annotationdefaults": {
           "arrowcolor": "#2a3f5f",
           "arrowhead": 0,
           "arrowwidth": 1
          },
          "autotypenumbers": "strict",
          "coloraxis": {
           "colorbar": {
            "outlinewidth": 0,
            "ticks": ""
           }
          },
          "colorscale": {
           "diverging": [
            [
             0,
             "#8e0152"
            ],
            [
             0.1,
             "#c51b7d"
            ],
            [
             0.2,
             "#de77ae"
            ],
            [
             0.3,
             "#f1b6da"
            ],
            [
             0.4,
             "#fde0ef"
            ],
            [
             0.5,
             "#f7f7f7"
            ],
            [
             0.6,
             "#e6f5d0"
            ],
            [
             0.7,
             "#b8e186"
            ],
            [
             0.8,
             "#7fbc41"
            ],
            [
             0.9,
             "#4d9221"
            ],
            [
             1,
             "#276419"
            ]
           ],
           "sequential": [
            [
             0.0,
             "#0d0887"
            ],
            [
             0.1111111111111111,
             "#46039f"
            ],
            [
             0.2222222222222222,
             "#7201a8"
            ],
            [
             0.3333333333333333,
             "#9c179e"
            ],
            [
             0.4444444444444444,
             "#bd3786"
            ],
            [
             0.5555555555555556,
             "#d8576b"
            ],
            [
             0.6666666666666666,
             "#ed7953"
            ],
            [
             0.7777777777777778,
             "#fb9f3a"
            ],
            [
             0.8888888888888888,
             "#fdca26"
            ],
            [
             1.0,
             "#f0f921"
            ]
           ],
           "sequentialminus": [
            [
             0.0,
             "#0d0887"
            ],
            [
             0.1111111111111111,
             "#46039f"
            ],
            [
             0.2222222222222222,
             "#7201a8"
            ],
            [
             0.3333333333333333,
             "#9c179e"
            ],
            [
             0.4444444444444444,
             "#bd3786"
            ],
            [
             0.5555555555555556,
             "#d8576b"
            ],
            [
             0.6666666666666666,
             "#ed7953"
            ],
            [
             0.7777777777777778,
             "#fb9f3a"
            ],
            [
             0.8888888888888888,
             "#fdca26"
            ],
            [
             1.0,
             "#f0f921"
            ]
           ]
          },
          "colorway": [
           "#636efa",
           "#EF553B",
           "#00cc96",
           "#ab63fa",
           "#FFA15A",
           "#19d3f3",
           "#FF6692",
           "#B6E880",
           "#FF97FF",
           "#FECB52"
          ],
          "font": {
           "color": "#2a3f5f"
          },
          "geo": {
           "bgcolor": "white",
           "lakecolor": "white",
           "landcolor": "white",
           "showlakes": true,
           "showland": true,
           "subunitcolor": "#C8D4E3"
          },
          "hoverlabel": {
           "align": "left"
          },
          "hovermode": "closest",
          "mapbox": {
           "style": "light"
          },
          "paper_bgcolor": "white",
          "plot_bgcolor": "white",
          "polar": {
           "angularaxis": {
            "gridcolor": "#EBF0F8",
            "linecolor": "#EBF0F8",
            "ticks": ""
           },
           "bgcolor": "white",
           "radialaxis": {
            "gridcolor": "#EBF0F8",
            "linecolor": "#EBF0F8",
            "ticks": ""
           }
          },
          "scene": {
           "xaxis": {
            "backgroundcolor": "white",
            "gridcolor": "#DFE8F3",
            "gridwidth": 2,
            "linecolor": "#EBF0F8",
            "showbackground": true,
            "ticks": "",
            "zerolinecolor": "#EBF0F8"
           },
           "yaxis": {
            "backgroundcolor": "white",
            "gridcolor": "#DFE8F3",
            "gridwidth": 2,
            "linecolor": "#EBF0F8",
            "showbackground": true,
            "ticks": "",
            "zerolinecolor": "#EBF0F8"
           },
           "zaxis": {
            "backgroundcolor": "white",
            "gridcolor": "#DFE8F3",
            "gridwidth": 2,
            "linecolor": "#EBF0F8",
            "showbackground": true,
            "ticks": "",
            "zerolinecolor": "#EBF0F8"
           }
          },
          "shapedefaults": {
           "line": {
            "color": "#2a3f5f"
           }
          },
          "ternary": {
           "aaxis": {
            "gridcolor": "#DFE8F3",
            "linecolor": "#A2B1C6",
            "ticks": ""
           },
           "baxis": {
            "gridcolor": "#DFE8F3",
            "linecolor": "#A2B1C6",
            "ticks": ""
           },
           "bgcolor": "white",
           "caxis": {
            "gridcolor": "#DFE8F3",
            "linecolor": "#A2B1C6",
            "ticks": ""
           }
          },
          "title": {
           "x": 0.05
          },
          "xaxis": {
           "automargin": true,
           "gridcolor": "#EBF0F8",
           "linecolor": "#EBF0F8",
           "ticks": "",
           "title": {
            "standoff": 15
           },
           "zerolinecolor": "#EBF0F8",
           "zerolinewidth": 2
          },
          "yaxis": {
           "automargin": true,
           "gridcolor": "#EBF0F8",
           "linecolor": "#EBF0F8",
           "ticks": "",
           "title": {
            "standoff": 15
           },
           "zerolinecolor": "#EBF0F8",
           "zerolinewidth": 2
          }
         }
        },
        "xaxis": {
         "anchor": "y",
         "domain": [
          0.0,
          1.0
         ],
         "title": {
          "text": "Attore"
         },
         "tickangle": -45
        },
        "yaxis": {
         "anchor": "x",
         "domain": [
          0.0,
          1.0
         ],
         "title": {
          "text": "Totale Ripetizioni"
         }
        },
        "legend": {
         "tracegroupgap": 0
        },
        "title": {
         "text": "Attori che hanno interpretato più volte lo stesso ruolo"
        },
        "barmode": "relative",
        "margin": {
         "t": 100
        },
        "height": 600
       },
       "config": {
        "plotlyServerURL": "https://plot.ly"
       }
      }
     },
     "metadata": {},
     "output_type": "display_data"
    }
   ],
   "execution_count": 27
  },
  {
   "metadata": {
    "ExecuteTime": {
     "end_time": "2025-06-23T14:15:35.714460Z",
     "start_time": "2025-06-23T14:15:30.287699Z"
    }
   },
   "cell_type": "code",
   "source": [
    "import pandas as pd\n",
    "import plotly.express as px\n",
    "\n",
    "# === Caricamento dati ===\n",
    "\n",
    "\n",
    "# === Estrai anno (anche da date strane) ===\n",
    "movies[\"year\"] = movies[\"date\"].astype(str).str.extract(r\"(\\d{4})\")\n",
    "movies[\"year\"] = pd.to_numeric(movies[\"year\"], errors=\"coerce\")\n",
    "\n",
    "# === Unisci attori con anno del film ===\n",
    "actors_with_year = actors.merge(movies[[\"id\", \"year\"]], on=\"id\", how=\"left\")\n",
    "actors_with_year = actors_with_year.dropna(subset=[\"year\"])  # elimina righe senza anno\n",
    "\n",
    "# === Conta attori per ogni film ===\n",
    "actor_counts = actors_with_year.groupby([\"year\", \"id\"]).size().reset_index(name=\"num_actors\")\n",
    "\n",
    "# === Calcola media attori per anno ===\n",
    "avg_actors_per_year = actor_counts.groupby(\"year\")[\"num_actors\"].mean().reset_index()\n",
    "avg_actors_per_year[\"num_actors\"] = avg_actors_per_year[\"num_actors\"].round(2)\n",
    "\n",
    "# === Filtra solo anni divisibili per 10 (es. 1950, 1960...) ===\n",
    "avg_actors_per_year = avg_actors_per_year[avg_actors_per_year[\"year\"] % 10 == 0]\n",
    "\n",
    "# === Plot con Plotly ===\n",
    "fig = px.line(\n",
    "    avg_actors_per_year,\n",
    "    x=\"year\",\n",
    "    y=\"num_actors\",\n",
    "    markers=True,\n",
    "    title=\"Numero medio di attori per film (ogni 10 anni)\",\n",
    "    labels={\"year\": \"Anno\", \"num_actors\": \"Media attori per film\"},\n",
    "    text=\"num_actors\"\n",
    ")\n",
    "\n",
    "fig.update_traces(textposition=\"top center\")\n",
    "fig.update_layout(\n",
    "    xaxis=dict(dtick=10),\n",
    "    hovermode=\"x unified\"\n",
    ")\n",
    "\n",
    "fig.show()\n"
   ],
   "id": "a465a2aedff6e4aa",
   "outputs": [
    {
     "data": {
      "application/vnd.plotly.v1+json": {
       "data": [
        {
         "hovertemplate": "Anno=%{x}<br>Media attori per film=%{text}<extra></extra>",
         "legendgroup": "",
         "line": {
          "color": "#636efa",
          "dash": "solid"
         },
         "marker": {
          "symbol": "circle"
         },
         "mode": "lines+markers+text",
         "name": "",
         "orientation": "v",
         "showlegend": false,
         "text": {
          "dtype": "f8",
          "bdata": "AAAAAAAA8D/2KFyPwvX4Px+F61G4Hg9AZmZmZmZmG0CamZmZmRkhQEjhehSuRzFASOF6FK7HK0DsUbgehWsqQIXrUbgehSZA7FG4HoVrKUAfhetRuB4mQGZmZmZm5iRAXI/C9SjcIUCPwvUoXI8bQKRwPQrXowJA"
         },
         "x": {
          "dtype": "f8",
          "bdata": "AAAAAACInUAAAAAAALCdQAAAAAAA2J1AAAAAAAAAnkAAAAAAACieQAAAAAAAUJ5AAAAAAAB4nkAAAAAAAKCeQAAAAAAAyJ5AAAAAAADwnkAAAAAAABifQAAAAAAAQJ9AAAAAAABon0AAAAAAAJCfQAAAAAAAuJ9A"
         },
         "xaxis": "x",
         "y": {
          "dtype": "f8",
          "bdata": "AAAAAAAA8D/2KFyPwvX4Px+F61G4Hg9AZmZmZmZmG0CamZmZmRkhQEjhehSuRzFASOF6FK7HK0DsUbgehWsqQIXrUbgehSZA7FG4HoVrKUAfhetRuB4mQGZmZmZm5iRAXI/C9SjcIUCPwvUoXI8bQKRwPQrXowJA"
         },
         "yaxis": "y",
         "type": "scatter",
         "textposition": "top center"
        }
       ],
       "layout": {
        "template": {
         "data": {
          "histogram2dcontour": [
           {
            "type": "histogram2dcontour",
            "colorbar": {
             "outlinewidth": 0,
             "ticks": ""
            },
            "colorscale": [
             [
              0.0,
              "#0d0887"
             ],
             [
              0.1111111111111111,
              "#46039f"
             ],
             [
              0.2222222222222222,
              "#7201a8"
             ],
             [
              0.3333333333333333,
              "#9c179e"
             ],
             [
              0.4444444444444444,
              "#bd3786"
             ],
             [
              0.5555555555555556,
              "#d8576b"
             ],
             [
              0.6666666666666666,
              "#ed7953"
             ],
             [
              0.7777777777777778,
              "#fb9f3a"
             ],
             [
              0.8888888888888888,
              "#fdca26"
             ],
             [
              1.0,
              "#f0f921"
             ]
            ]
           }
          ],
          "choropleth": [
           {
            "type": "choropleth",
            "colorbar": {
             "outlinewidth": 0,
             "ticks": ""
            }
           }
          ],
          "histogram2d": [
           {
            "type": "histogram2d",
            "colorbar": {
             "outlinewidth": 0,
             "ticks": ""
            },
            "colorscale": [
             [
              0.0,
              "#0d0887"
             ],
             [
              0.1111111111111111,
              "#46039f"
             ],
             [
              0.2222222222222222,
              "#7201a8"
             ],
             [
              0.3333333333333333,
              "#9c179e"
             ],
             [
              0.4444444444444444,
              "#bd3786"
             ],
             [
              0.5555555555555556,
              "#d8576b"
             ],
             [
              0.6666666666666666,
              "#ed7953"
             ],
             [
              0.7777777777777778,
              "#fb9f3a"
             ],
             [
              0.8888888888888888,
              "#fdca26"
             ],
             [
              1.0,
              "#f0f921"
             ]
            ]
           }
          ],
          "heatmap": [
           {
            "type": "heatmap",
            "colorbar": {
             "outlinewidth": 0,
             "ticks": ""
            },
            "colorscale": [
             [
              0.0,
              "#0d0887"
             ],
             [
              0.1111111111111111,
              "#46039f"
             ],
             [
              0.2222222222222222,
              "#7201a8"
             ],
             [
              0.3333333333333333,
              "#9c179e"
             ],
             [
              0.4444444444444444,
              "#bd3786"
             ],
             [
              0.5555555555555556,
              "#d8576b"
             ],
             [
              0.6666666666666666,
              "#ed7953"
             ],
             [
              0.7777777777777778,
              "#fb9f3a"
             ],
             [
              0.8888888888888888,
              "#fdca26"
             ],
             [
              1.0,
              "#f0f921"
             ]
            ]
           }
          ],
          "contourcarpet": [
           {
            "type": "contourcarpet",
            "colorbar": {
             "outlinewidth": 0,
             "ticks": ""
            }
           }
          ],
          "contour": [
           {
            "type": "contour",
            "colorbar": {
             "outlinewidth": 0,
             "ticks": ""
            },
            "colorscale": [
             [
              0.0,
              "#0d0887"
             ],
             [
              0.1111111111111111,
              "#46039f"
             ],
             [
              0.2222222222222222,
              "#7201a8"
             ],
             [
              0.3333333333333333,
              "#9c179e"
             ],
             [
              0.4444444444444444,
              "#bd3786"
             ],
             [
              0.5555555555555556,
              "#d8576b"
             ],
             [
              0.6666666666666666,
              "#ed7953"
             ],
             [
              0.7777777777777778,
              "#fb9f3a"
             ],
             [
              0.8888888888888888,
              "#fdca26"
             ],
             [
              1.0,
              "#f0f921"
             ]
            ]
           }
          ],
          "surface": [
           {
            "type": "surface",
            "colorbar": {
             "outlinewidth": 0,
             "ticks": ""
            },
            "colorscale": [
             [
              0.0,
              "#0d0887"
             ],
             [
              0.1111111111111111,
              "#46039f"
             ],
             [
              0.2222222222222222,
              "#7201a8"
             ],
             [
              0.3333333333333333,
              "#9c179e"
             ],
             [
              0.4444444444444444,
              "#bd3786"
             ],
             [
              0.5555555555555556,
              "#d8576b"
             ],
             [
              0.6666666666666666,
              "#ed7953"
             ],
             [
              0.7777777777777778,
              "#fb9f3a"
             ],
             [
              0.8888888888888888,
              "#fdca26"
             ],
             [
              1.0,
              "#f0f921"
             ]
            ]
           }
          ],
          "mesh3d": [
           {
            "type": "mesh3d",
            "colorbar": {
             "outlinewidth": 0,
             "ticks": ""
            }
           }
          ],
          "scatter": [
           {
            "marker": {
             "line": {
              "color": "#283442"
             }
            },
            "type": "scatter"
           }
          ],
          "parcoords": [
           {
            "type": "parcoords",
            "line": {
             "colorbar": {
              "outlinewidth": 0,
              "ticks": ""
             }
            }
           }
          ],
          "scatterpolargl": [
           {
            "type": "scatterpolargl",
            "marker": {
             "colorbar": {
              "outlinewidth": 0,
              "ticks": ""
             }
            }
           }
          ],
          "bar": [
           {
            "error_x": {
             "color": "#f2f5fa"
            },
            "error_y": {
             "color": "#f2f5fa"
            },
            "marker": {
             "line": {
              "color": "rgb(17,17,17)",
              "width": 0.5
             },
             "pattern": {
              "fillmode": "overlay",
              "size": 10,
              "solidity": 0.2
             }
            },
            "type": "bar"
           }
          ],
          "scattergeo": [
           {
            "type": "scattergeo",
            "marker": {
             "colorbar": {
              "outlinewidth": 0,
              "ticks": ""
             }
            }
           }
          ],
          "scatterpolar": [
           {
            "type": "scatterpolar",
            "marker": {
             "colorbar": {
              "outlinewidth": 0,
              "ticks": ""
             }
            }
           }
          ],
          "histogram": [
           {
            "marker": {
             "pattern": {
              "fillmode": "overlay",
              "size": 10,
              "solidity": 0.2
             }
            },
            "type": "histogram"
           }
          ],
          "scattergl": [
           {
            "marker": {
             "line": {
              "color": "#283442"
             }
            },
            "type": "scattergl"
           }
          ],
          "scatter3d": [
           {
            "type": "scatter3d",
            "line": {
             "colorbar": {
              "outlinewidth": 0,
              "ticks": ""
             }
            },
            "marker": {
             "colorbar": {
              "outlinewidth": 0,
              "ticks": ""
             }
            }
           }
          ],
          "scattermap": [
           {
            "type": "scattermap",
            "marker": {
             "colorbar": {
              "outlinewidth": 0,
              "ticks": ""
             }
            }
           }
          ],
          "scattermapbox": [
           {
            "type": "scattermapbox",
            "marker": {
             "colorbar": {
              "outlinewidth": 0,
              "ticks": ""
             }
            }
           }
          ],
          "scatterternary": [
           {
            "type": "scatterternary",
            "marker": {
             "colorbar": {
              "outlinewidth": 0,
              "ticks": ""
             }
            }
           }
          ],
          "scattercarpet": [
           {
            "type": "scattercarpet",
            "marker": {
             "colorbar": {
              "outlinewidth": 0,
              "ticks": ""
             }
            }
           }
          ],
          "carpet": [
           {
            "aaxis": {
             "endlinecolor": "#A2B1C6",
             "gridcolor": "#506784",
             "linecolor": "#506784",
             "minorgridcolor": "#506784",
             "startlinecolor": "#A2B1C6"
            },
            "baxis": {
             "endlinecolor": "#A2B1C6",
             "gridcolor": "#506784",
             "linecolor": "#506784",
             "minorgridcolor": "#506784",
             "startlinecolor": "#A2B1C6"
            },
            "type": "carpet"
           }
          ],
          "table": [
           {
            "cells": {
             "fill": {
              "color": "#506784"
             },
             "line": {
              "color": "rgb(17,17,17)"
             }
            },
            "header": {
             "fill": {
              "color": "#2a3f5f"
             },
             "line": {
              "color": "rgb(17,17,17)"
             }
            },
            "type": "table"
           }
          ],
          "barpolar": [
           {
            "marker": {
             "line": {
              "color": "rgb(17,17,17)",
              "width": 0.5
             },
             "pattern": {
              "fillmode": "overlay",
              "size": 10,
              "solidity": 0.2
             }
            },
            "type": "barpolar"
           }
          ],
          "pie": [
           {
            "automargin": true,
            "type": "pie"
           }
          ]
         },
         "layout": {
          "autotypenumbers": "strict",
          "colorway": [
           "#636efa",
           "#EF553B",
           "#00cc96",
           "#ab63fa",
           "#FFA15A",
           "#19d3f3",
           "#FF6692",
           "#B6E880",
           "#FF97FF",
           "#FECB52"
          ],
          "font": {
           "color": "#f2f5fa"
          },
          "hovermode": "closest",
          "hoverlabel": {
           "align": "left"
          },
          "paper_bgcolor": "rgb(17,17,17)",
          "plot_bgcolor": "rgb(17,17,17)",
          "polar": {
           "bgcolor": "rgb(17,17,17)",
           "angularaxis": {
            "gridcolor": "#506784",
            "linecolor": "#506784",
            "ticks": ""
           },
           "radialaxis": {
            "gridcolor": "#506784",
            "linecolor": "#506784",
            "ticks": ""
           }
          },
          "ternary": {
           "bgcolor": "rgb(17,17,17)",
           "aaxis": {
            "gridcolor": "#506784",
            "linecolor": "#506784",
            "ticks": ""
           },
           "baxis": {
            "gridcolor": "#506784",
            "linecolor": "#506784",
            "ticks": ""
           },
           "caxis": {
            "gridcolor": "#506784",
            "linecolor": "#506784",
            "ticks": ""
           }
          },
          "coloraxis": {
           "colorbar": {
            "outlinewidth": 0,
            "ticks": ""
           }
          },
          "colorscale": {
           "sequential": [
            [
             0.0,
             "#0d0887"
            ],
            [
             0.1111111111111111,
             "#46039f"
            ],
            [
             0.2222222222222222,
             "#7201a8"
            ],
            [
             0.3333333333333333,
             "#9c179e"
            ],
            [
             0.4444444444444444,
             "#bd3786"
            ],
            [
             0.5555555555555556,
             "#d8576b"
            ],
            [
             0.6666666666666666,
             "#ed7953"
            ],
            [
             0.7777777777777778,
             "#fb9f3a"
            ],
            [
             0.8888888888888888,
             "#fdca26"
            ],
            [
             1.0,
             "#f0f921"
            ]
           ],
           "sequentialminus": [
            [
             0.0,
             "#0d0887"
            ],
            [
             0.1111111111111111,
             "#46039f"
            ],
            [
             0.2222222222222222,
             "#7201a8"
            ],
            [
             0.3333333333333333,
             "#9c179e"
            ],
            [
             0.4444444444444444,
             "#bd3786"
            ],
            [
             0.5555555555555556,
             "#d8576b"
            ],
            [
             0.6666666666666666,
             "#ed7953"
            ],
            [
             0.7777777777777778,
             "#fb9f3a"
            ],
            [
             0.8888888888888888,
             "#fdca26"
            ],
            [
             1.0,
             "#f0f921"
            ]
           ],
           "diverging": [
            [
             0,
             "#8e0152"
            ],
            [
             0.1,
             "#c51b7d"
            ],
            [
             0.2,
             "#de77ae"
            ],
            [
             0.3,
             "#f1b6da"
            ],
            [
             0.4,
             "#fde0ef"
            ],
            [
             0.5,
             "#f7f7f7"
            ],
            [
             0.6,
             "#e6f5d0"
            ],
            [
             0.7,
             "#b8e186"
            ],
            [
             0.8,
             "#7fbc41"
            ],
            [
             0.9,
             "#4d9221"
            ],
            [
             1,
             "#276419"
            ]
           ]
          },
          "xaxis": {
           "gridcolor": "#283442",
           "linecolor": "#506784",
           "ticks": "",
           "title": {
            "standoff": 15
           },
           "zerolinecolor": "#283442",
           "automargin": true,
           "zerolinewidth": 2
          },
          "yaxis": {
           "gridcolor": "#283442",
           "linecolor": "#506784",
           "ticks": "",
           "title": {
            "standoff": 15
           },
           "zerolinecolor": "#283442",
           "automargin": true,
           "zerolinewidth": 2
          },
          "scene": {
           "xaxis": {
            "backgroundcolor": "rgb(17,17,17)",
            "gridcolor": "#506784",
            "linecolor": "#506784",
            "showbackground": true,
            "ticks": "",
            "zerolinecolor": "#C8D4E3",
            "gridwidth": 2
           },
           "yaxis": {
            "backgroundcolor": "rgb(17,17,17)",
            "gridcolor": "#506784",
            "linecolor": "#506784",
            "showbackground": true,
            "ticks": "",
            "zerolinecolor": "#C8D4E3",
            "gridwidth": 2
           },
           "zaxis": {
            "backgroundcolor": "rgb(17,17,17)",
            "gridcolor": "#506784",
            "linecolor": "#506784",
            "showbackground": true,
            "ticks": "",
            "zerolinecolor": "#C8D4E3",
            "gridwidth": 2
           }
          },
          "shapedefaults": {
           "line": {
            "color": "#f2f5fa"
           }
          },
          "annotationdefaults": {
           "arrowcolor": "#f2f5fa",
           "arrowhead": 0,
           "arrowwidth": 1
          },
          "geo": {
           "bgcolor": "rgb(17,17,17)",
           "landcolor": "rgb(17,17,17)",
           "subunitcolor": "#506784",
           "showland": true,
           "showlakes": true,
           "lakecolor": "rgb(17,17,17)"
          },
          "title": {
           "x": 0.05
          },
          "updatemenudefaults": {
           "bgcolor": "#506784",
           "borderwidth": 0
          },
          "sliderdefaults": {
           "bgcolor": "#C8D4E3",
           "borderwidth": 1,
           "bordercolor": "rgb(17,17,17)",
           "tickwidth": 0
          },
          "mapbox": {
           "style": "dark"
          }
         }
        },
        "xaxis": {
         "anchor": "y",
         "domain": [
          0.0,
          1.0
         ],
         "title": {
          "text": "Anno"
         },
         "dtick": 10
        },
        "yaxis": {
         "anchor": "x",
         "domain": [
          0.0,
          1.0
         ],
         "title": {
          "text": "Media attori per film"
         }
        },
        "legend": {
         "tracegroupgap": 0
        },
        "title": {
         "text": "Numero medio di attori per film (ogni 10 anni)"
        },
        "hovermode": "x unified"
       },
       "config": {
        "plotlyServerURL": "https://plot.ly"
       }
      }
     },
     "metadata": {},
     "output_type": "display_data"
    }
   ],
   "execution_count": 34
  },
  {
   "metadata": {
    "ExecuteTime": {
     "end_time": "2025-06-23T14:01:08.843576Z",
     "start_time": "2025-06-22T15:28:10.052156Z"
    }
   },
   "cell_type": "code",
   "source": [
    "#registi con più film\n",
    "import pandas as pd\n",
    "import plotly.express as px\n",
    "\n",
    "# 1. Filtra solo i registi\n",
    "director_roles = ['director', 'regista']\n",
    "crew_directors = crew[crew['role'].str.lower().isin(director_roles)]\n",
    "\n",
    "# 2. Conta il numero di film unici per ogni regista\n",
    "director_counts = (\n",
    "    crew_directors.groupby('name')['id']\n",
    "    .nunique()\n",
    "    .reset_index(name='Numero di Film')\n",
    ")\n",
    "\n",
    "# 3. Prendi i top 20 registi\n",
    "top_directors = director_counts.sort_values(by='Numero di Film', ascending=False).head(30)\n",
    "\n",
    "# 4. Crea bar chart Plotly\n",
    "fig = px.bar(\n",
    "    top_directors,\n",
    "    x='name',\n",
    "    y='Numero di Film',\n",
    "    text='Numero di Film',\n",
    "    title='Top 20 Registi con più film',\n",
    "    labels={'name': 'Regista'},\n",
    "    template='plotly_white'\n",
    ")\n",
    "\n",
    "fig.update_traces(\n",
    "    textposition='outside',\n",
    "    marker_color='indianred'\n",
    ")\n",
    "\n",
    "fig.update_layout(\n",
    "    xaxis_tickangle=-45,\n",
    "    height=600,\n",
    "    margin=dict(t=100)\n",
    ")\n",
    "\n",
    "fig.show()\n"
   ],
   "id": "aec9d3a88e208b65",
   "outputs": [
    {
     "data": {
      "application/vnd.plotly.v1+json": {
       "data": [
        {
         "hovertemplate": "Regista=%{x}<br>Numero di Film=%{text}<extra></extra>",
         "legendgroup": "",
         "marker": {
          "color": "indianred",
          "pattern": {
           "shape": ""
          }
         },
         "name": "",
         "orientation": "v",
         "showlegend": false,
         "text": {
          "dtype": "f8",
          "bdata": "AAAAAAAYgUAAAAAAANB7QAAAAAAAwHdAAAAAAACQd0AAAAAAAKB2QAAAAAAA8HVAAAAAAABgdUAAAAAAAPBzQAAAAAAAQHJAAAAAAACgcUAAAAAAANBwQAAAAAAAYHBAAAAAAACgb0AAAAAAAIBuQAAAAAAAgGxAAAAAAAAAbEAAAAAAAEBrQAAAAAAAoGpAAAAAAACAakAAAAAAAABqQAAAAAAAwGlAAAAAAACgaUAAAAAAAEBpQAAAAAAAAGlAAAAAAADgaEAAAAAAAOBoQAAAAAAAgGhAAAAAAACAaEAAAAAAAIBoQAAAAAAAgGdA"
         },
         "textposition": "outside",
         "x": [
          "Dave Fleischer",
          "D.W. Griffith",
          "Stan Brakhage",
          "Gilbert M. Anderson",
          "Gérard Courant",
          "Alexandre Promio",
          "Seymour Kneitel",
          "Friz Freleng",
          "Chuck Jones",
          "Louis Lumière",
          "Georges Méliès",
          "Jules White",
          "Aurora Martínez",
          "Ken Jacobs",
          "Walter Lantz",
          "Los Ingrávidos",
          "Mannie Davis",
          "Sam Newfield",
          "Louis Feuillade",
          "Eckhart Schmidt",
          "William Beaudine",
          "James H. White",
          "William Hanna",
          "Dustin Ferguson",
          "Joseph Barbera",
          "Auguste Lumière",
          "Connie Rasinski",
          "Robert McKimson",
          "Mack Sennett",
          "George Kuchar"
         ],
         "xaxis": "x",
         "y": {
          "dtype": "i2",
          "bdata": "IwK9AXwBeQFqAV8BVgE/ASQBGgENAQYB/QD0AOQA4ADaANUA1ADQAM4AzQDKAMgAxwDHAMQAxADEALwA"
         },
         "yaxis": "y",
         "type": "bar"
        }
       ],
       "layout": {
        "template": {
         "data": {
          "barpolar": [
           {
            "marker": {
             "line": {
              "color": "white",
              "width": 0.5
             },
             "pattern": {
              "fillmode": "overlay",
              "size": 10,
              "solidity": 0.2
             }
            },
            "type": "barpolar"
           }
          ],
          "bar": [
           {
            "error_x": {
             "color": "#2a3f5f"
            },
            "error_y": {
             "color": "#2a3f5f"
            },
            "marker": {
             "line": {
              "color": "white",
              "width": 0.5
             },
             "pattern": {
              "fillmode": "overlay",
              "size": 10,
              "solidity": 0.2
             }
            },
            "type": "bar"
           }
          ],
          "carpet": [
           {
            "aaxis": {
             "endlinecolor": "#2a3f5f",
             "gridcolor": "#C8D4E3",
             "linecolor": "#C8D4E3",
             "minorgridcolor": "#C8D4E3",
             "startlinecolor": "#2a3f5f"
            },
            "baxis": {
             "endlinecolor": "#2a3f5f",
             "gridcolor": "#C8D4E3",
             "linecolor": "#C8D4E3",
             "minorgridcolor": "#C8D4E3",
             "startlinecolor": "#2a3f5f"
            },
            "type": "carpet"
           }
          ],
          "choropleth": [
           {
            "colorbar": {
             "outlinewidth": 0,
             "ticks": ""
            },
            "type": "choropleth"
           }
          ],
          "contourcarpet": [
           {
            "colorbar": {
             "outlinewidth": 0,
             "ticks": ""
            },
            "type": "contourcarpet"
           }
          ],
          "contour": [
           {
            "colorbar": {
             "outlinewidth": 0,
             "ticks": ""
            },
            "colorscale": [
             [
              0.0,
              "#0d0887"
             ],
             [
              0.1111111111111111,
              "#46039f"
             ],
             [
              0.2222222222222222,
              "#7201a8"
             ],
             [
              0.3333333333333333,
              "#9c179e"
             ],
             [
              0.4444444444444444,
              "#bd3786"
             ],
             [
              0.5555555555555556,
              "#d8576b"
             ],
             [
              0.6666666666666666,
              "#ed7953"
             ],
             [
              0.7777777777777778,
              "#fb9f3a"
             ],
             [
              0.8888888888888888,
              "#fdca26"
             ],
             [
              1.0,
              "#f0f921"
             ]
            ],
            "type": "contour"
           }
          ],
          "heatmap": [
           {
            "colorbar": {
             "outlinewidth": 0,
             "ticks": ""
            },
            "colorscale": [
             [
              0.0,
              "#0d0887"
             ],
             [
              0.1111111111111111,
              "#46039f"
             ],
             [
              0.2222222222222222,
              "#7201a8"
             ],
             [
              0.3333333333333333,
              "#9c179e"
             ],
             [
              0.4444444444444444,
              "#bd3786"
             ],
             [
              0.5555555555555556,
              "#d8576b"
             ],
             [
              0.6666666666666666,
              "#ed7953"
             ],
             [
              0.7777777777777778,
              "#fb9f3a"
             ],
             [
              0.8888888888888888,
              "#fdca26"
             ],
             [
              1.0,
              "#f0f921"
             ]
            ],
            "type": "heatmap"
           }
          ],
          "histogram2dcontour": [
           {
            "colorbar": {
             "outlinewidth": 0,
             "ticks": ""
            },
            "colorscale": [
             [
              0.0,
              "#0d0887"
             ],
             [
              0.1111111111111111,
              "#46039f"
             ],
             [
              0.2222222222222222,
              "#7201a8"
             ],
             [
              0.3333333333333333,
              "#9c179e"
             ],
             [
              0.4444444444444444,
              "#bd3786"
             ],
             [
              0.5555555555555556,
              "#d8576b"
             ],
             [
              0.6666666666666666,
              "#ed7953"
             ],
             [
              0.7777777777777778,
              "#fb9f3a"
             ],
             [
              0.8888888888888888,
              "#fdca26"
             ],
             [
              1.0,
              "#f0f921"
             ]
            ],
            "type": "histogram2dcontour"
           }
          ],
          "histogram2d": [
           {
            "colorbar": {
             "outlinewidth": 0,
             "ticks": ""
            },
            "colorscale": [
             [
              0.0,
              "#0d0887"
             ],
             [
              0.1111111111111111,
              "#46039f"
             ],
             [
              0.2222222222222222,
              "#7201a8"
             ],
             [
              0.3333333333333333,
              "#9c179e"
             ],
             [
              0.4444444444444444,
              "#bd3786"
             ],
             [
              0.5555555555555556,
              "#d8576b"
             ],
             [
              0.6666666666666666,
              "#ed7953"
             ],
             [
              0.7777777777777778,
              "#fb9f3a"
             ],
             [
              0.8888888888888888,
              "#fdca26"
             ],
             [
              1.0,
              "#f0f921"
             ]
            ],
            "type": "histogram2d"
           }
          ],
          "histogram": [
           {
            "marker": {
             "pattern": {
              "fillmode": "overlay",
              "size": 10,
              "solidity": 0.2
             }
            },
            "type": "histogram"
           }
          ],
          "mesh3d": [
           {
            "colorbar": {
             "outlinewidth": 0,
             "ticks": ""
            },
            "type": "mesh3d"
           }
          ],
          "parcoords": [
           {
            "line": {
             "colorbar": {
              "outlinewidth": 0,
              "ticks": ""
             }
            },
            "type": "parcoords"
           }
          ],
          "pie": [
           {
            "automargin": true,
            "type": "pie"
           }
          ],
          "scatter3d": [
           {
            "line": {
             "colorbar": {
              "outlinewidth": 0,
              "ticks": ""
             }
            },
            "marker": {
             "colorbar": {
              "outlinewidth": 0,
              "ticks": ""
             }
            },
            "type": "scatter3d"
           }
          ],
          "scattercarpet": [
           {
            "marker": {
             "colorbar": {
              "outlinewidth": 0,
              "ticks": ""
             }
            },
            "type": "scattercarpet"
           }
          ],
          "scattergeo": [
           {
            "marker": {
             "colorbar": {
              "outlinewidth": 0,
              "ticks": ""
             }
            },
            "type": "scattergeo"
           }
          ],
          "scattergl": [
           {
            "marker": {
             "colorbar": {
              "outlinewidth": 0,
              "ticks": ""
             }
            },
            "type": "scattergl"
           }
          ],
          "scattermapbox": [
           {
            "marker": {
             "colorbar": {
              "outlinewidth": 0,
              "ticks": ""
             }
            },
            "type": "scattermapbox"
           }
          ],
          "scattermap": [
           {
            "marker": {
             "colorbar": {
              "outlinewidth": 0,
              "ticks": ""
             }
            },
            "type": "scattermap"
           }
          ],
          "scatterpolargl": [
           {
            "marker": {
             "colorbar": {
              "outlinewidth": 0,
              "ticks": ""
             }
            },
            "type": "scatterpolargl"
           }
          ],
          "scatterpolar": [
           {
            "marker": {
             "colorbar": {
              "outlinewidth": 0,
              "ticks": ""
             }
            },
            "type": "scatterpolar"
           }
          ],
          "scatter": [
           {
            "fillpattern": {
             "fillmode": "overlay",
             "size": 10,
             "solidity": 0.2
            },
            "type": "scatter"
           }
          ],
          "scatterternary": [
           {
            "marker": {
             "colorbar": {
              "outlinewidth": 0,
              "ticks": ""
             }
            },
            "type": "scatterternary"
           }
          ],
          "surface": [
           {
            "colorbar": {
             "outlinewidth": 0,
             "ticks": ""
            },
            "colorscale": [
             [
              0.0,
              "#0d0887"
             ],
             [
              0.1111111111111111,
              "#46039f"
             ],
             [
              0.2222222222222222,
              "#7201a8"
             ],
             [
              0.3333333333333333,
              "#9c179e"
             ],
             [
              0.4444444444444444,
              "#bd3786"
             ],
             [
              0.5555555555555556,
              "#d8576b"
             ],
             [
              0.6666666666666666,
              "#ed7953"
             ],
             [
              0.7777777777777778,
              "#fb9f3a"
             ],
             [
              0.8888888888888888,
              "#fdca26"
             ],
             [
              1.0,
              "#f0f921"
             ]
            ],
            "type": "surface"
           }
          ],
          "table": [
           {
            "cells": {
             "fill": {
              "color": "#EBF0F8"
             },
             "line": {
              "color": "white"
             }
            },
            "header": {
             "fill": {
              "color": "#C8D4E3"
             },
             "line": {
              "color": "white"
             }
            },
            "type": "table"
           }
          ]
         },
         "layout": {
          "annotationdefaults": {
           "arrowcolor": "#2a3f5f",
           "arrowhead": 0,
           "arrowwidth": 1
          },
          "autotypenumbers": "strict",
          "coloraxis": {
           "colorbar": {
            "outlinewidth": 0,
            "ticks": ""
           }
          },
          "colorscale": {
           "diverging": [
            [
             0,
             "#8e0152"
            ],
            [
             0.1,
             "#c51b7d"
            ],
            [
             0.2,
             "#de77ae"
            ],
            [
             0.3,
             "#f1b6da"
            ],
            [
             0.4,
             "#fde0ef"
            ],
            [
             0.5,
             "#f7f7f7"
            ],
            [
             0.6,
             "#e6f5d0"
            ],
            [
             0.7,
             "#b8e186"
            ],
            [
             0.8,
             "#7fbc41"
            ],
            [
             0.9,
             "#4d9221"
            ],
            [
             1,
             "#276419"
            ]
           ],
           "sequential": [
            [
             0.0,
             "#0d0887"
            ],
            [
             0.1111111111111111,
             "#46039f"
            ],
            [
             0.2222222222222222,
             "#7201a8"
            ],
            [
             0.3333333333333333,
             "#9c179e"
            ],
            [
             0.4444444444444444,
             "#bd3786"
            ],
            [
             0.5555555555555556,
             "#d8576b"
            ],
            [
             0.6666666666666666,
             "#ed7953"
            ],
            [
             0.7777777777777778,
             "#fb9f3a"
            ],
            [
             0.8888888888888888,
             "#fdca26"
            ],
            [
             1.0,
             "#f0f921"
            ]
           ],
           "sequentialminus": [
            [
             0.0,
             "#0d0887"
            ],
            [
             0.1111111111111111,
             "#46039f"
            ],
            [
             0.2222222222222222,
             "#7201a8"
            ],
            [
             0.3333333333333333,
             "#9c179e"
            ],
            [
             0.4444444444444444,
             "#bd3786"
            ],
            [
             0.5555555555555556,
             "#d8576b"
            ],
            [
             0.6666666666666666,
             "#ed7953"
            ],
            [
             0.7777777777777778,
             "#fb9f3a"
            ],
            [
             0.8888888888888888,
             "#fdca26"
            ],
            [
             1.0,
             "#f0f921"
            ]
           ]
          },
          "colorway": [
           "#636efa",
           "#EF553B",
           "#00cc96",
           "#ab63fa",
           "#FFA15A",
           "#19d3f3",
           "#FF6692",
           "#B6E880",
           "#FF97FF",
           "#FECB52"
          ],
          "font": {
           "color": "#2a3f5f"
          },
          "geo": {
           "bgcolor": "white",
           "lakecolor": "white",
           "landcolor": "white",
           "showlakes": true,
           "showland": true,
           "subunitcolor": "#C8D4E3"
          },
          "hoverlabel": {
           "align": "left"
          },
          "hovermode": "closest",
          "mapbox": {
           "style": "light"
          },
          "paper_bgcolor": "white",
          "plot_bgcolor": "white",
          "polar": {
           "angularaxis": {
            "gridcolor": "#EBF0F8",
            "linecolor": "#EBF0F8",
            "ticks": ""
           },
           "bgcolor": "white",
           "radialaxis": {
            "gridcolor": "#EBF0F8",
            "linecolor": "#EBF0F8",
            "ticks": ""
           }
          },
          "scene": {
           "xaxis": {
            "backgroundcolor": "white",
            "gridcolor": "#DFE8F3",
            "gridwidth": 2,
            "linecolor": "#EBF0F8",
            "showbackground": true,
            "ticks": "",
            "zerolinecolor": "#EBF0F8"
           },
           "yaxis": {
            "backgroundcolor": "white",
            "gridcolor": "#DFE8F3",
            "gridwidth": 2,
            "linecolor": "#EBF0F8",
            "showbackground": true,
            "ticks": "",
            "zerolinecolor": "#EBF0F8"
           },
           "zaxis": {
            "backgroundcolor": "white",
            "gridcolor": "#DFE8F3",
            "gridwidth": 2,
            "linecolor": "#EBF0F8",
            "showbackground": true,
            "ticks": "",
            "zerolinecolor": "#EBF0F8"
           }
          },
          "shapedefaults": {
           "line": {
            "color": "#2a3f5f"
           }
          },
          "ternary": {
           "aaxis": {
            "gridcolor": "#DFE8F3",
            "linecolor": "#A2B1C6",
            "ticks": ""
           },
           "baxis": {
            "gridcolor": "#DFE8F3",
            "linecolor": "#A2B1C6",
            "ticks": ""
           },
           "bgcolor": "white",
           "caxis": {
            "gridcolor": "#DFE8F3",
            "linecolor": "#A2B1C6",
            "ticks": ""
           }
          },
          "title": {
           "x": 0.05
          },
          "xaxis": {
           "automargin": true,
           "gridcolor": "#EBF0F8",
           "linecolor": "#EBF0F8",
           "ticks": "",
           "title": {
            "standoff": 15
           },
           "zerolinecolor": "#EBF0F8",
           "zerolinewidth": 2
          },
          "yaxis": {
           "automargin": true,
           "gridcolor": "#EBF0F8",
           "linecolor": "#EBF0F8",
           "ticks": "",
           "title": {
            "standoff": 15
           },
           "zerolinecolor": "#EBF0F8",
           "zerolinewidth": 2
          }
         }
        },
        "xaxis": {
         "anchor": "y",
         "domain": [
          0.0,
          1.0
         ],
         "title": {
          "text": "Regista"
         },
         "tickangle": -45
        },
        "yaxis": {
         "anchor": "x",
         "domain": [
          0.0,
          1.0
         ],
         "title": {
          "text": "Numero di Film"
         }
        },
        "legend": {
         "tracegroupgap": 0
        },
        "title": {
         "text": "Top 20 Registi con più film"
        },
        "barmode": "relative",
        "margin": {
         "t": 100
        },
        "height": 600
       },
       "config": {
        "plotlyServerURL": "https://plot.ly"
       }
      }
     },
     "metadata": {},
     "output_type": "display_data"
    }
   ],
   "execution_count": 15
  },
  {
   "metadata": {
    "ExecuteTime": {
     "end_time": "2025-06-23T14:01:08.845586100Z",
     "start_time": "2025-06-22T15:28:22.992213Z"
    }
   },
   "cell_type": "code",
   "source": [
    "import pandas as pd\n",
    "import plotly.express as px\n",
    "\n",
    "# 1. Filtra solo vincitori nella categoria \"DIRECTING\"\n",
    "winners_directing = the_oscar_awards[\n",
    "    (the_oscar_awards['winner'] == True) &\n",
    "    (the_oscar_awards['category'].str.upper() == \"DIRECTING\")\n",
    "]\n",
    "\n",
    "# 2. Conta il numero di premi vinti per regista\n",
    "director_awards = winners_directing['name'].value_counts().reset_index()\n",
    "director_awards.columns = ['director', 'num_awards']\n",
    "\n",
    "# 3. Prendi i top 20 registi più premiati\n",
    "top_directors = director_awards.head(20)\n",
    "\n",
    "# 4. Crea bar chart con Plotly\n",
    "fig = px.bar(\n",
    "    top_directors,\n",
    "    x='director',\n",
    "    y='num_awards',\n",
    "    text='num_awards',\n",
    "    title='Top 20 registi con più premi Oscar per la regia',\n",
    "    template='plotly_white',\n",
    "    color='num_awards',\n",
    "    color_continuous_scale='Plasma'\n",
    ")\n",
    "\n",
    "# 5. Miglioramenti estetici\n",
    "fig.update_layout(\n",
    "    xaxis_title='Regista',\n",
    "    yaxis_title='Numero di Oscar per la regia',\n",
    "    xaxis_tickangle=45,\n",
    "    height=600,\n",
    "    margin=dict(t=80, b=150)\n",
    ")\n",
    "fig.update_traces(textposition=\"outside\")\n",
    "\n",
    "# 6. Mostra grafico\n",
    "fig.show()\n"
   ],
   "id": "1a3817f1e443f472",
   "outputs": [
    {
     "data": {
      "application/vnd.plotly.v1+json": {
       "data": [
        {
         "hovertemplate": "director=%{x}<br>num_awards=%{marker.color}<extra></extra>",
         "legendgroup": "",
         "marker": {
          "color": {
           "dtype": "i1",
           "bdata": "BAMDAgICAgICAgICAgICAgICAQE="
          },
          "coloraxis": "coloraxis",
          "pattern": {
           "shape": ""
          }
         },
         "name": "",
         "orientation": "v",
         "showlegend": false,
         "text": {
          "dtype": "f8",
          "bdata": "AAAAAAAAEEAAAAAAAAAIQAAAAAAAAAhAAAAAAAAAAEAAAAAAAAAAQAAAAAAAAABAAAAAAAAAAEAAAAAAAAAAQAAAAAAAAABAAAAAAAAAAEAAAAAAAAAAQAAAAAAAAABAAAAAAAAAAEAAAAAAAAAAQAAAAAAAAABAAAAAAAAAAEAAAAAAAAAAQAAAAAAAAABAAAAAAAAA8D8AAAAAAADwPw=="
         },
         "textposition": "outside",
         "x": [
          "John Ford",
          "William Wyler",
          "Frank Capra",
          "Frank Lloyd",
          "Leo McCarey",
          "Joseph L. Mankiewicz",
          "George Stevens",
          "Elia Kazan",
          "Billy Wilder",
          "Ang Lee",
          "Steven Spielberg",
          "Alejandro G. Iñárritu",
          "Alfonso Cuarón",
          "Fred Zinnemann",
          "David Lean",
          "Milos Forman",
          "Oliver Stone",
          "Clint Eastwood",
          "Lewis Milestone",
          "Norman Taurog"
         ],
         "xaxis": "x",
         "y": {
          "dtype": "i1",
          "bdata": "BAMDAgICAgICAgICAgICAgICAQE="
         },
         "yaxis": "y",
         "type": "bar"
        }
       ],
       "layout": {
        "template": {
         "data": {
          "barpolar": [
           {
            "marker": {
             "line": {
              "color": "white",
              "width": 0.5
             },
             "pattern": {
              "fillmode": "overlay",
              "size": 10,
              "solidity": 0.2
             }
            },
            "type": "barpolar"
           }
          ],
          "bar": [
           {
            "error_x": {
             "color": "#2a3f5f"
            },
            "error_y": {
             "color": "#2a3f5f"
            },
            "marker": {
             "line": {
              "color": "white",
              "width": 0.5
             },
             "pattern": {
              "fillmode": "overlay",
              "size": 10,
              "solidity": 0.2
             }
            },
            "type": "bar"
           }
          ],
          "carpet": [
           {
            "aaxis": {
             "endlinecolor": "#2a3f5f",
             "gridcolor": "#C8D4E3",
             "linecolor": "#C8D4E3",
             "minorgridcolor": "#C8D4E3",
             "startlinecolor": "#2a3f5f"
            },
            "baxis": {
             "endlinecolor": "#2a3f5f",
             "gridcolor": "#C8D4E3",
             "linecolor": "#C8D4E3",
             "minorgridcolor": "#C8D4E3",
             "startlinecolor": "#2a3f5f"
            },
            "type": "carpet"
           }
          ],
          "choropleth": [
           {
            "colorbar": {
             "outlinewidth": 0,
             "ticks": ""
            },
            "type": "choropleth"
           }
          ],
          "contourcarpet": [
           {
            "colorbar": {
             "outlinewidth": 0,
             "ticks": ""
            },
            "type": "contourcarpet"
           }
          ],
          "contour": [
           {
            "colorbar": {
             "outlinewidth": 0,
             "ticks": ""
            },
            "colorscale": [
             [
              0.0,
              "#0d0887"
             ],
             [
              0.1111111111111111,
              "#46039f"
             ],
             [
              0.2222222222222222,
              "#7201a8"
             ],
             [
              0.3333333333333333,
              "#9c179e"
             ],
             [
              0.4444444444444444,
              "#bd3786"
             ],
             [
              0.5555555555555556,
              "#d8576b"
             ],
             [
              0.6666666666666666,
              "#ed7953"
             ],
             [
              0.7777777777777778,
              "#fb9f3a"
             ],
             [
              0.8888888888888888,
              "#fdca26"
             ],
             [
              1.0,
              "#f0f921"
             ]
            ],
            "type": "contour"
           }
          ],
          "heatmap": [
           {
            "colorbar": {
             "outlinewidth": 0,
             "ticks": ""
            },
            "colorscale": [
             [
              0.0,
              "#0d0887"
             ],
             [
              0.1111111111111111,
              "#46039f"
             ],
             [
              0.2222222222222222,
              "#7201a8"
             ],
             [
              0.3333333333333333,
              "#9c179e"
             ],
             [
              0.4444444444444444,
              "#bd3786"
             ],
             [
              0.5555555555555556,
              "#d8576b"
             ],
             [
              0.6666666666666666,
              "#ed7953"
             ],
             [
              0.7777777777777778,
              "#fb9f3a"
             ],
             [
              0.8888888888888888,
              "#fdca26"
             ],
             [
              1.0,
              "#f0f921"
             ]
            ],
            "type": "heatmap"
           }
          ],
          "histogram2dcontour": [
           {
            "colorbar": {
             "outlinewidth": 0,
             "ticks": ""
            },
            "colorscale": [
             [
              0.0,
              "#0d0887"
             ],
             [
              0.1111111111111111,
              "#46039f"
             ],
             [
              0.2222222222222222,
              "#7201a8"
             ],
             [
              0.3333333333333333,
              "#9c179e"
             ],
             [
              0.4444444444444444,
              "#bd3786"
             ],
             [
              0.5555555555555556,
              "#d8576b"
             ],
             [
              0.6666666666666666,
              "#ed7953"
             ],
             [
              0.7777777777777778,
              "#fb9f3a"
             ],
             [
              0.8888888888888888,
              "#fdca26"
             ],
             [
              1.0,
              "#f0f921"
             ]
            ],
            "type": "histogram2dcontour"
           }
          ],
          "histogram2d": [
           {
            "colorbar": {
             "outlinewidth": 0,
             "ticks": ""
            },
            "colorscale": [
             [
              0.0,
              "#0d0887"
             ],
             [
              0.1111111111111111,
              "#46039f"
             ],
             [
              0.2222222222222222,
              "#7201a8"
             ],
             [
              0.3333333333333333,
              "#9c179e"
             ],
             [
              0.4444444444444444,
              "#bd3786"
             ],
             [
              0.5555555555555556,
              "#d8576b"
             ],
             [
              0.6666666666666666,
              "#ed7953"
             ],
             [
              0.7777777777777778,
              "#fb9f3a"
             ],
             [
              0.8888888888888888,
              "#fdca26"
             ],
             [
              1.0,
              "#f0f921"
             ]
            ],
            "type": "histogram2d"
           }
          ],
          "histogram": [
           {
            "marker": {
             "pattern": {
              "fillmode": "overlay",
              "size": 10,
              "solidity": 0.2
             }
            },
            "type": "histogram"
           }
          ],
          "mesh3d": [
           {
            "colorbar": {
             "outlinewidth": 0,
             "ticks": ""
            },
            "type": "mesh3d"
           }
          ],
          "parcoords": [
           {
            "line": {
             "colorbar": {
              "outlinewidth": 0,
              "ticks": ""
             }
            },
            "type": "parcoords"
           }
          ],
          "pie": [
           {
            "automargin": true,
            "type": "pie"
           }
          ],
          "scatter3d": [
           {
            "line": {
             "colorbar": {
              "outlinewidth": 0,
              "ticks": ""
             }
            },
            "marker": {
             "colorbar": {
              "outlinewidth": 0,
              "ticks": ""
             }
            },
            "type": "scatter3d"
           }
          ],
          "scattercarpet": [
           {
            "marker": {
             "colorbar": {
              "outlinewidth": 0,
              "ticks": ""
             }
            },
            "type": "scattercarpet"
           }
          ],
          "scattergeo": [
           {
            "marker": {
             "colorbar": {
              "outlinewidth": 0,
              "ticks": ""
             }
            },
            "type": "scattergeo"
           }
          ],
          "scattergl": [
           {
            "marker": {
             "colorbar": {
              "outlinewidth": 0,
              "ticks": ""
             }
            },
            "type": "scattergl"
           }
          ],
          "scattermapbox": [
           {
            "marker": {
             "colorbar": {
              "outlinewidth": 0,
              "ticks": ""
             }
            },
            "type": "scattermapbox"
           }
          ],
          "scattermap": [
           {
            "marker": {
             "colorbar": {
              "outlinewidth": 0,
              "ticks": ""
             }
            },
            "type": "scattermap"
           }
          ],
          "scatterpolargl": [
           {
            "marker": {
             "colorbar": {
              "outlinewidth": 0,
              "ticks": ""
             }
            },
            "type": "scatterpolargl"
           }
          ],
          "scatterpolar": [
           {
            "marker": {
             "colorbar": {
              "outlinewidth": 0,
              "ticks": ""
             }
            },
            "type": "scatterpolar"
           }
          ],
          "scatter": [
           {
            "fillpattern": {
             "fillmode": "overlay",
             "size": 10,
             "solidity": 0.2
            },
            "type": "scatter"
           }
          ],
          "scatterternary": [
           {
            "marker": {
             "colorbar": {
              "outlinewidth": 0,
              "ticks": ""
             }
            },
            "type": "scatterternary"
           }
          ],
          "surface": [
           {
            "colorbar": {
             "outlinewidth": 0,
             "ticks": ""
            },
            "colorscale": [
             [
              0.0,
              "#0d0887"
             ],
             [
              0.1111111111111111,
              "#46039f"
             ],
             [
              0.2222222222222222,
              "#7201a8"
             ],
             [
              0.3333333333333333,
              "#9c179e"
             ],
             [
              0.4444444444444444,
              "#bd3786"
             ],
             [
              0.5555555555555556,
              "#d8576b"
             ],
             [
              0.6666666666666666,
              "#ed7953"
             ],
             [
              0.7777777777777778,
              "#fb9f3a"
             ],
             [
              0.8888888888888888,
              "#fdca26"
             ],
             [
              1.0,
              "#f0f921"
             ]
            ],
            "type": "surface"
           }
          ],
          "table": [
           {
            "cells": {
             "fill": {
              "color": "#EBF0F8"
             },
             "line": {
              "color": "white"
             }
            },
            "header": {
             "fill": {
              "color": "#C8D4E3"
             },
             "line": {
              "color": "white"
             }
            },
            "type": "table"
           }
          ]
         },
         "layout": {
          "annotationdefaults": {
           "arrowcolor": "#2a3f5f",
           "arrowhead": 0,
           "arrowwidth": 1
          },
          "autotypenumbers": "strict",
          "coloraxis": {
           "colorbar": {
            "outlinewidth": 0,
            "ticks": ""
           }
          },
          "colorscale": {
           "diverging": [
            [
             0,
             "#8e0152"
            ],
            [
             0.1,
             "#c51b7d"
            ],
            [
             0.2,
             "#de77ae"
            ],
            [
             0.3,
             "#f1b6da"
            ],
            [
             0.4,
             "#fde0ef"
            ],
            [
             0.5,
             "#f7f7f7"
            ],
            [
             0.6,
             "#e6f5d0"
            ],
            [
             0.7,
             "#b8e186"
            ],
            [
             0.8,
             "#7fbc41"
            ],
            [
             0.9,
             "#4d9221"
            ],
            [
             1,
             "#276419"
            ]
           ],
           "sequential": [
            [
             0.0,
             "#0d0887"
            ],
            [
             0.1111111111111111,
             "#46039f"
            ],
            [
             0.2222222222222222,
             "#7201a8"
            ],
            [
             0.3333333333333333,
             "#9c179e"
            ],
            [
             0.4444444444444444,
             "#bd3786"
            ],
            [
             0.5555555555555556,
             "#d8576b"
            ],
            [
             0.6666666666666666,
             "#ed7953"
            ],
            [
             0.7777777777777778,
             "#fb9f3a"
            ],
            [
             0.8888888888888888,
             "#fdca26"
            ],
            [
             1.0,
             "#f0f921"
            ]
           ],
           "sequentialminus": [
            [
             0.0,
             "#0d0887"
            ],
            [
             0.1111111111111111,
             "#46039f"
            ],
            [
             0.2222222222222222,
             "#7201a8"
            ],
            [
             0.3333333333333333,
             "#9c179e"
            ],
            [
             0.4444444444444444,
             "#bd3786"
            ],
            [
             0.5555555555555556,
             "#d8576b"
            ],
            [
             0.6666666666666666,
             "#ed7953"
            ],
            [
             0.7777777777777778,
             "#fb9f3a"
            ],
            [
             0.8888888888888888,
             "#fdca26"
            ],
            [
             1.0,
             "#f0f921"
            ]
           ]
          },
          "colorway": [
           "#636efa",
           "#EF553B",
           "#00cc96",
           "#ab63fa",
           "#FFA15A",
           "#19d3f3",
           "#FF6692",
           "#B6E880",
           "#FF97FF",
           "#FECB52"
          ],
          "font": {
           "color": "#2a3f5f"
          },
          "geo": {
           "bgcolor": "white",
           "lakecolor": "white",
           "landcolor": "white",
           "showlakes": true,
           "showland": true,
           "subunitcolor": "#C8D4E3"
          },
          "hoverlabel": {
           "align": "left"
          },
          "hovermode": "closest",
          "mapbox": {
           "style": "light"
          },
          "paper_bgcolor": "white",
          "plot_bgcolor": "white",
          "polar": {
           "angularaxis": {
            "gridcolor": "#EBF0F8",
            "linecolor": "#EBF0F8",
            "ticks": ""
           },
           "bgcolor": "white",
           "radialaxis": {
            "gridcolor": "#EBF0F8",
            "linecolor": "#EBF0F8",
            "ticks": ""
           }
          },
          "scene": {
           "xaxis": {
            "backgroundcolor": "white",
            "gridcolor": "#DFE8F3",
            "gridwidth": 2,
            "linecolor": "#EBF0F8",
            "showbackground": true,
            "ticks": "",
            "zerolinecolor": "#EBF0F8"
           },
           "yaxis": {
            "backgroundcolor": "white",
            "gridcolor": "#DFE8F3",
            "gridwidth": 2,
            "linecolor": "#EBF0F8",
            "showbackground": true,
            "ticks": "",
            "zerolinecolor": "#EBF0F8"
           },
           "zaxis": {
            "backgroundcolor": "white",
            "gridcolor": "#DFE8F3",
            "gridwidth": 2,
            "linecolor": "#EBF0F8",
            "showbackground": true,
            "ticks": "",
            "zerolinecolor": "#EBF0F8"
           }
          },
          "shapedefaults": {
           "line": {
            "color": "#2a3f5f"
           }
          },
          "ternary": {
           "aaxis": {
            "gridcolor": "#DFE8F3",
            "linecolor": "#A2B1C6",
            "ticks": ""
           },
           "baxis": {
            "gridcolor": "#DFE8F3",
            "linecolor": "#A2B1C6",
            "ticks": ""
           },
           "bgcolor": "white",
           "caxis": {
            "gridcolor": "#DFE8F3",
            "linecolor": "#A2B1C6",
            "ticks": ""
           }
          },
          "title": {
           "x": 0.05
          },
          "xaxis": {
           "automargin": true,
           "gridcolor": "#EBF0F8",
           "linecolor": "#EBF0F8",
           "ticks": "",
           "title": {
            "standoff": 15
           },
           "zerolinecolor": "#EBF0F8",
           "zerolinewidth": 2
          },
          "yaxis": {
           "automargin": true,
           "gridcolor": "#EBF0F8",
           "linecolor": "#EBF0F8",
           "ticks": "",
           "title": {
            "standoff": 15
           },
           "zerolinecolor": "#EBF0F8",
           "zerolinewidth": 2
          }
         }
        },
        "xaxis": {
         "anchor": "y",
         "domain": [
          0.0,
          1.0
         ],
         "title": {
          "text": "Regista"
         },
         "tickangle": 45
        },
        "yaxis": {
         "anchor": "x",
         "domain": [
          0.0,
          1.0
         ],
         "title": {
          "text": "Numero di Oscar per la regia"
         }
        },
        "coloraxis": {
         "colorbar": {
          "title": {
           "text": "num_awards"
          }
         },
         "colorscale": [
          [
           0.0,
           "#0d0887"
          ],
          [
           0.1111111111111111,
           "#46039f"
          ],
          [
           0.2222222222222222,
           "#7201a8"
          ],
          [
           0.3333333333333333,
           "#9c179e"
          ],
          [
           0.4444444444444444,
           "#bd3786"
          ],
          [
           0.5555555555555556,
           "#d8576b"
          ],
          [
           0.6666666666666666,
           "#ed7953"
          ],
          [
           0.7777777777777778,
           "#fb9f3a"
          ],
          [
           0.8888888888888888,
           "#fdca26"
          ],
          [
           1.0,
           "#f0f921"
          ]
         ]
        },
        "legend": {
         "tracegroupgap": 0
        },
        "title": {
         "text": "Top 20 registi con più premi Oscar per la regia"
        },
        "barmode": "relative",
        "margin": {
         "t": 80,
         "b": 150
        },
        "height": 600
       },
       "config": {
        "plotlyServerURL": "https://plot.ly"
       }
      }
     },
     "metadata": {},
     "output_type": "display_data"
    }
   ],
   "execution_count": 16
  },
  {
   "metadata": {
    "ExecuteTime": {
     "end_time": "2025-06-23T14:01:08.846586Z",
     "start_time": "2025-06-22T15:28:59.723588Z"
    }
   },
   "cell_type": "code",
   "source": [
    "import pandas as pd\n",
    "import plotly.express as px\n",
    "\n",
    "# 1. Filtra solo vincitori nella categoria \"DIRECTING\"\n",
    "winners_directing = the_oscar_awards[\n",
    "    (the_oscar_awards['category'].str.upper() == \"DIRECTING\")\n",
    "]\n",
    "\n",
    "# 2. Conta il numero di premi vinti per regista\n",
    "director_awards = winners_directing['name'].value_counts().reset_index()\n",
    "director_awards.columns = ['director', 'num_awards']\n",
    "\n",
    "# 3. Prendi i top 20 registi più premiati\n",
    "top_directors = director_awards.head(20)\n",
    "\n",
    "# 4. Crea bar chart con Plotly\n",
    "fig = px.bar(\n",
    "    top_directors,\n",
    "    x='director',\n",
    "    y='num_awards',\n",
    "    text='num_awards',\n",
    "    title='Top 20 registi con più premi Oscar per la regia',\n",
    "    template='plotly_white',\n",
    "    color='num_awards',\n",
    "    color_continuous_scale='Plasma'\n",
    ")\n",
    "\n",
    "# 5. Miglioramenti estetici\n",
    "fig.update_layout(\n",
    "    xaxis_title='Regista',\n",
    "    yaxis_title='Numero di Oscar per la regia',\n",
    "    xaxis_tickangle=45,\n",
    "    height=600,\n",
    "    margin=dict(t=80, b=150)\n",
    ")\n",
    "fig.update_traces(textposition=\"outside\")\n",
    "\n",
    "# 6. Mostra grafico\n",
    "fig.show()\n"
   ],
   "id": "a0482bae96ccb914",
   "outputs": [
    {
     "data": {
      "application/vnd.plotly.v1+json": {
       "data": [
        {
         "hovertemplate": "director=%{x}<br>num_awards=%{marker.color}<extra></extra>",
         "legendgroup": "",
         "marker": {
          "color": {
           "dtype": "i1",
           "bdata": "DAoJCAcHBwYFBQUFBQUFBQUEBAQ="
          },
          "coloraxis": "coloraxis",
          "pattern": {
           "shape": ""
          }
         },
         "name": "",
         "orientation": "v",
         "showlegend": false,
         "text": {
          "dtype": "f8",
          "bdata": "AAAAAAAAKEAAAAAAAAAkQAAAAAAAACJAAAAAAAAAIEAAAAAAAAAcQAAAAAAAABxAAAAAAAAAHEAAAAAAAAAYQAAAAAAAABRAAAAAAAAAFEAAAAAAAAAUQAAAAAAAABRAAAAAAAAAFEAAAAAAAAAUQAAAAAAAABRAAAAAAAAAFEAAAAAAAAAUQAAAAAAAABBAAAAAAAAAEEAAAAAAAAAQQA=="
         },
         "textposition": "outside",
         "x": [
          "William Wyler",
          "Martin Scorsese",
          "Steven Spielberg",
          "Billy Wilder",
          "Woody Allen",
          "David Lean",
          "Fred Zinnemann",
          "Frank Capra",
          "Alfred Hitchcock",
          "Michael Curtiz",
          "John Huston",
          "George Stevens",
          "Elia Kazan",
          "John Ford",
          "Clarence Brown",
          "Robert Altman",
          "George Cukor",
          "King Vidor",
          "Sidney Lumet",
          "Stanley Kubrick"
         ],
         "xaxis": "x",
         "y": {
          "dtype": "i1",
          "bdata": "DAoJCAcHBwYFBQUFBQUFBQUEBAQ="
         },
         "yaxis": "y",
         "type": "bar"
        }
       ],
       "layout": {
        "template": {
         "data": {
          "barpolar": [
           {
            "marker": {
             "line": {
              "color": "white",
              "width": 0.5
             },
             "pattern": {
              "fillmode": "overlay",
              "size": 10,
              "solidity": 0.2
             }
            },
            "type": "barpolar"
           }
          ],
          "bar": [
           {
            "error_x": {
             "color": "#2a3f5f"
            },
            "error_y": {
             "color": "#2a3f5f"
            },
            "marker": {
             "line": {
              "color": "white",
              "width": 0.5
             },
             "pattern": {
              "fillmode": "overlay",
              "size": 10,
              "solidity": 0.2
             }
            },
            "type": "bar"
           }
          ],
          "carpet": [
           {
            "aaxis": {
             "endlinecolor": "#2a3f5f",
             "gridcolor": "#C8D4E3",
             "linecolor": "#C8D4E3",
             "minorgridcolor": "#C8D4E3",
             "startlinecolor": "#2a3f5f"
            },
            "baxis": {
             "endlinecolor": "#2a3f5f",
             "gridcolor": "#C8D4E3",
             "linecolor": "#C8D4E3",
             "minorgridcolor": "#C8D4E3",
             "startlinecolor": "#2a3f5f"
            },
            "type": "carpet"
           }
          ],
          "choropleth": [
           {
            "colorbar": {
             "outlinewidth": 0,
             "ticks": ""
            },
            "type": "choropleth"
           }
          ],
          "contourcarpet": [
           {
            "colorbar": {
             "outlinewidth": 0,
             "ticks": ""
            },
            "type": "contourcarpet"
           }
          ],
          "contour": [
           {
            "colorbar": {
             "outlinewidth": 0,
             "ticks": ""
            },
            "colorscale": [
             [
              0.0,
              "#0d0887"
             ],
             [
              0.1111111111111111,
              "#46039f"
             ],
             [
              0.2222222222222222,
              "#7201a8"
             ],
             [
              0.3333333333333333,
              "#9c179e"
             ],
             [
              0.4444444444444444,
              "#bd3786"
             ],
             [
              0.5555555555555556,
              "#d8576b"
             ],
             [
              0.6666666666666666,
              "#ed7953"
             ],
             [
              0.7777777777777778,
              "#fb9f3a"
             ],
             [
              0.8888888888888888,
              "#fdca26"
             ],
             [
              1.0,
              "#f0f921"
             ]
            ],
            "type": "contour"
           }
          ],
          "heatmap": [
           {
            "colorbar": {
             "outlinewidth": 0,
             "ticks": ""
            },
            "colorscale": [
             [
              0.0,
              "#0d0887"
             ],
             [
              0.1111111111111111,
              "#46039f"
             ],
             [
              0.2222222222222222,
              "#7201a8"
             ],
             [
              0.3333333333333333,
              "#9c179e"
             ],
             [
              0.4444444444444444,
              "#bd3786"
             ],
             [
              0.5555555555555556,
              "#d8576b"
             ],
             [
              0.6666666666666666,
              "#ed7953"
             ],
             [
              0.7777777777777778,
              "#fb9f3a"
             ],
             [
              0.8888888888888888,
              "#fdca26"
             ],
             [
              1.0,
              "#f0f921"
             ]
            ],
            "type": "heatmap"
           }
          ],
          "histogram2dcontour": [
           {
            "colorbar": {
             "outlinewidth": 0,
             "ticks": ""
            },
            "colorscale": [
             [
              0.0,
              "#0d0887"
             ],
             [
              0.1111111111111111,
              "#46039f"
             ],
             [
              0.2222222222222222,
              "#7201a8"
             ],
             [
              0.3333333333333333,
              "#9c179e"
             ],
             [
              0.4444444444444444,
              "#bd3786"
             ],
             [
              0.5555555555555556,
              "#d8576b"
             ],
             [
              0.6666666666666666,
              "#ed7953"
             ],
             [
              0.7777777777777778,
              "#fb9f3a"
             ],
             [
              0.8888888888888888,
              "#fdca26"
             ],
             [
              1.0,
              "#f0f921"
             ]
            ],
            "type": "histogram2dcontour"
           }
          ],
          "histogram2d": [
           {
            "colorbar": {
             "outlinewidth": 0,
             "ticks": ""
            },
            "colorscale": [
             [
              0.0,
              "#0d0887"
             ],
             [
              0.1111111111111111,
              "#46039f"
             ],
             [
              0.2222222222222222,
              "#7201a8"
             ],
             [
              0.3333333333333333,
              "#9c179e"
             ],
             [
              0.4444444444444444,
              "#bd3786"
             ],
             [
              0.5555555555555556,
              "#d8576b"
             ],
             [
              0.6666666666666666,
              "#ed7953"
             ],
             [
              0.7777777777777778,
              "#fb9f3a"
             ],
             [
              0.8888888888888888,
              "#fdca26"
             ],
             [
              1.0,
              "#f0f921"
             ]
            ],
            "type": "histogram2d"
           }
          ],
          "histogram": [
           {
            "marker": {
             "pattern": {
              "fillmode": "overlay",
              "size": 10,
              "solidity": 0.2
             }
            },
            "type": "histogram"
           }
          ],
          "mesh3d": [
           {
            "colorbar": {
             "outlinewidth": 0,
             "ticks": ""
            },
            "type": "mesh3d"
           }
          ],
          "parcoords": [
           {
            "line": {
             "colorbar": {
              "outlinewidth": 0,
              "ticks": ""
             }
            },
            "type": "parcoords"
           }
          ],
          "pie": [
           {
            "automargin": true,
            "type": "pie"
           }
          ],
          "scatter3d": [
           {
            "line": {
             "colorbar": {
              "outlinewidth": 0,
              "ticks": ""
             }
            },
            "marker": {
             "colorbar": {
              "outlinewidth": 0,
              "ticks": ""
             }
            },
            "type": "scatter3d"
           }
          ],
          "scattercarpet": [
           {
            "marker": {
             "colorbar": {
              "outlinewidth": 0,
              "ticks": ""
             }
            },
            "type": "scattercarpet"
           }
          ],
          "scattergeo": [
           {
            "marker": {
             "colorbar": {
              "outlinewidth": 0,
              "ticks": ""
             }
            },
            "type": "scattergeo"
           }
          ],
          "scattergl": [
           {
            "marker": {
             "colorbar": {
              "outlinewidth": 0,
              "ticks": ""
             }
            },
            "type": "scattergl"
           }
          ],
          "scattermapbox": [
           {
            "marker": {
             "colorbar": {
              "outlinewidth": 0,
              "ticks": ""
             }
            },
            "type": "scattermapbox"
           }
          ],
          "scattermap": [
           {
            "marker": {
             "colorbar": {
              "outlinewidth": 0,
              "ticks": ""
             }
            },
            "type": "scattermap"
           }
          ],
          "scatterpolargl": [
           {
            "marker": {
             "colorbar": {
              "outlinewidth": 0,
              "ticks": ""
             }
            },
            "type": "scatterpolargl"
           }
          ],
          "scatterpolar": [
           {
            "marker": {
             "colorbar": {
              "outlinewidth": 0,
              "ticks": ""
             }
            },
            "type": "scatterpolar"
           }
          ],
          "scatter": [
           {
            "fillpattern": {
             "fillmode": "overlay",
             "size": 10,
             "solidity": 0.2
            },
            "type": "scatter"
           }
          ],
          "scatterternary": [
           {
            "marker": {
             "colorbar": {
              "outlinewidth": 0,
              "ticks": ""
             }
            },
            "type": "scatterternary"
           }
          ],
          "surface": [
           {
            "colorbar": {
             "outlinewidth": 0,
             "ticks": ""
            },
            "colorscale": [
             [
              0.0,
              "#0d0887"
             ],
             [
              0.1111111111111111,
              "#46039f"
             ],
             [
              0.2222222222222222,
              "#7201a8"
             ],
             [
              0.3333333333333333,
              "#9c179e"
             ],
             [
              0.4444444444444444,
              "#bd3786"
             ],
             [
              0.5555555555555556,
              "#d8576b"
             ],
             [
              0.6666666666666666,
              "#ed7953"
             ],
             [
              0.7777777777777778,
              "#fb9f3a"
             ],
             [
              0.8888888888888888,
              "#fdca26"
             ],
             [
              1.0,
              "#f0f921"
             ]
            ],
            "type": "surface"
           }
          ],
          "table": [
           {
            "cells": {
             "fill": {
              "color": "#EBF0F8"
             },
             "line": {
              "color": "white"
             }
            },
            "header": {
             "fill": {
              "color": "#C8D4E3"
             },
             "line": {
              "color": "white"
             }
            },
            "type": "table"
           }
          ]
         },
         "layout": {
          "annotationdefaults": {
           "arrowcolor": "#2a3f5f",
           "arrowhead": 0,
           "arrowwidth": 1
          },
          "autotypenumbers": "strict",
          "coloraxis": {
           "colorbar": {
            "outlinewidth": 0,
            "ticks": ""
           }
          },
          "colorscale": {
           "diverging": [
            [
             0,
             "#8e0152"
            ],
            [
             0.1,
             "#c51b7d"
            ],
            [
             0.2,
             "#de77ae"
            ],
            [
             0.3,
             "#f1b6da"
            ],
            [
             0.4,
             "#fde0ef"
            ],
            [
             0.5,
             "#f7f7f7"
            ],
            [
             0.6,
             "#e6f5d0"
            ],
            [
             0.7,
             "#b8e186"
            ],
            [
             0.8,
             "#7fbc41"
            ],
            [
             0.9,
             "#4d9221"
            ],
            [
             1,
             "#276419"
            ]
           ],
           "sequential": [
            [
             0.0,
             "#0d0887"
            ],
            [
             0.1111111111111111,
             "#46039f"
            ],
            [
             0.2222222222222222,
             "#7201a8"
            ],
            [
             0.3333333333333333,
             "#9c179e"
            ],
            [
             0.4444444444444444,
             "#bd3786"
            ],
            [
             0.5555555555555556,
             "#d8576b"
            ],
            [
             0.6666666666666666,
             "#ed7953"
            ],
            [
             0.7777777777777778,
             "#fb9f3a"
            ],
            [
             0.8888888888888888,
             "#fdca26"
            ],
            [
             1.0,
             "#f0f921"
            ]
           ],
           "sequentialminus": [
            [
             0.0,
             "#0d0887"
            ],
            [
             0.1111111111111111,
             "#46039f"
            ],
            [
             0.2222222222222222,
             "#7201a8"
            ],
            [
             0.3333333333333333,
             "#9c179e"
            ],
            [
             0.4444444444444444,
             "#bd3786"
            ],
            [
             0.5555555555555556,
             "#d8576b"
            ],
            [
             0.6666666666666666,
             "#ed7953"
            ],
            [
             0.7777777777777778,
             "#fb9f3a"
            ],
            [
             0.8888888888888888,
             "#fdca26"
            ],
            [
             1.0,
             "#f0f921"
            ]
           ]
          },
          "colorway": [
           "#636efa",
           "#EF553B",
           "#00cc96",
           "#ab63fa",
           "#FFA15A",
           "#19d3f3",
           "#FF6692",
           "#B6E880",
           "#FF97FF",
           "#FECB52"
          ],
          "font": {
           "color": "#2a3f5f"
          },
          "geo": {
           "bgcolor": "white",
           "lakecolor": "white",
           "landcolor": "white",
           "showlakes": true,
           "showland": true,
           "subunitcolor": "#C8D4E3"
          },
          "hoverlabel": {
           "align": "left"
          },
          "hovermode": "closest",
          "mapbox": {
           "style": "light"
          },
          "paper_bgcolor": "white",
          "plot_bgcolor": "white",
          "polar": {
           "angularaxis": {
            "gridcolor": "#EBF0F8",
            "linecolor": "#EBF0F8",
            "ticks": ""
           },
           "bgcolor": "white",
           "radialaxis": {
            "gridcolor": "#EBF0F8",
            "linecolor": "#EBF0F8",
            "ticks": ""
           }
          },
          "scene": {
           "xaxis": {
            "backgroundcolor": "white",
            "gridcolor": "#DFE8F3",
            "gridwidth": 2,
            "linecolor": "#EBF0F8",
            "showbackground": true,
            "ticks": "",
            "zerolinecolor": "#EBF0F8"
           },
           "yaxis": {
            "backgroundcolor": "white",
            "gridcolor": "#DFE8F3",
            "gridwidth": 2,
            "linecolor": "#EBF0F8",
            "showbackground": true,
            "ticks": "",
            "zerolinecolor": "#EBF0F8"
           },
           "zaxis": {
            "backgroundcolor": "white",
            "gridcolor": "#DFE8F3",
            "gridwidth": 2,
            "linecolor": "#EBF0F8",
            "showbackground": true,
            "ticks": "",
            "zerolinecolor": "#EBF0F8"
           }
          },
          "shapedefaults": {
           "line": {
            "color": "#2a3f5f"
           }
          },
          "ternary": {
           "aaxis": {
            "gridcolor": "#DFE8F3",
            "linecolor": "#A2B1C6",
            "ticks": ""
           },
           "baxis": {
            "gridcolor": "#DFE8F3",
            "linecolor": "#A2B1C6",
            "ticks": ""
           },
           "bgcolor": "white",
           "caxis": {
            "gridcolor": "#DFE8F3",
            "linecolor": "#A2B1C6",
            "ticks": ""
           }
          },
          "title": {
           "x": 0.05
          },
          "xaxis": {
           "automargin": true,
           "gridcolor": "#EBF0F8",
           "linecolor": "#EBF0F8",
           "ticks": "",
           "title": {
            "standoff": 15
           },
           "zerolinecolor": "#EBF0F8",
           "zerolinewidth": 2
          },
          "yaxis": {
           "automargin": true,
           "gridcolor": "#EBF0F8",
           "linecolor": "#EBF0F8",
           "ticks": "",
           "title": {
            "standoff": 15
           },
           "zerolinecolor": "#EBF0F8",
           "zerolinewidth": 2
          }
         }
        },
        "xaxis": {
         "anchor": "y",
         "domain": [
          0.0,
          1.0
         ],
         "title": {
          "text": "Regista"
         },
         "tickangle": 45
        },
        "yaxis": {
         "anchor": "x",
         "domain": [
          0.0,
          1.0
         ],
         "title": {
          "text": "Numero di Oscar per la regia"
         }
        },
        "coloraxis": {
         "colorbar": {
          "title": {
           "text": "num_awards"
          }
         },
         "colorscale": [
          [
           0.0,
           "#0d0887"
          ],
          [
           0.1111111111111111,
           "#46039f"
          ],
          [
           0.2222222222222222,
           "#7201a8"
          ],
          [
           0.3333333333333333,
           "#9c179e"
          ],
          [
           0.4444444444444444,
           "#bd3786"
          ],
          [
           0.5555555555555556,
           "#d8576b"
          ],
          [
           0.6666666666666666,
           "#ed7953"
          ],
          [
           0.7777777777777778,
           "#fb9f3a"
          ],
          [
           0.8888888888888888,
           "#fdca26"
          ],
          [
           1.0,
           "#f0f921"
          ]
         ]
        },
        "legend": {
         "tracegroupgap": 0
        },
        "title": {
         "text": "Top 20 registi con più premi Oscar per la regia"
        },
        "barmode": "relative",
        "margin": {
         "t": 80,
         "b": 150
        },
        "height": 600
       },
       "config": {
        "plotlyServerURL": "https://plot.ly"
       }
      }
     },
     "metadata": {},
     "output_type": "display_data"
    }
   ],
   "execution_count": 18
  }
 ],
 "metadata": {
  "kernelspec": {
   "display_name": "Python 3",
   "language": "python",
   "name": "python3"
  },
  "language_info": {
   "codemirror_mode": {
    "name": "ipython",
    "version": 2
   },
   "file_extension": ".py",
   "mimetype": "text/x-python",
   "name": "python",
   "nbconvert_exporter": "python",
   "pygments_lexer": "ipython2",
   "version": "2.7.6"
  }
 },
 "nbformat": 4,
 "nbformat_minor": 5
}
