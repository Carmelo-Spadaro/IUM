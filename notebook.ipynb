{
 "cells": [
  {
   "cell_type": "code",
   "id": "initial_id",
   "metadata": {
    "collapsed": true,
    "ExecuteTime": {
     "end_time": "2025-06-22T14:00:53.719682Z",
     "start_time": "2025-06-22T14:00:53.374186Z"
    }
   },
   "source": [
    "import pandas as pd\n",
    "import matplotlib.pyplot as plt\n",
    "import numpy as np\n",
    "from scipy.stats import pearsonr\n",
    "import geopandas as gpd\n",
    "import seaborn as sns\n",
    "import scipy.stats as stats"
   ],
   "outputs": [],
   "execution_count": 1
  },
  {
   "metadata": {
    "ExecuteTime": {
     "end_time": "2025-06-22T14:11:08.619824Z",
     "start_time": "2025-06-22T14:10:42.409984Z"
    }
   },
   "cell_type": "code",
   "source": [
    "actors = pd.read_csv(\"./main_data/actors.csv\")\n",
    "countries = pd.read_csv(\"./main_data/countries.csv\")\n",
    "crew = pd.read_csv(\"./main_data/crew.csv\")\n",
    "genres = pd.read_csv(\"./main_data/genres.csv\")\n",
    "languages = pd.read_csv(\"./main_data/languages.csv\")\n",
    "movies = pd.read_csv(\"./main_data/movies.csv\")\n",
    "releases = pd.read_csv(\"./main_data/releases.csv\")\n",
    "rotten_tomatoes_review = pd.read_csv(\"./main_data/rotten_tomatoes_reviews.csv\")\n",
    "studios = pd.read_csv(\"./main_data/studios.csv\")\n",
    "the_oscar_awards = pd.read_csv(\"./main_data/the_oscar_awards.csv\")"
   ],
   "id": "551f15f170bf2401",
   "outputs": [],
   "execution_count": 3
  },
  {
   "metadata": {
    "ExecuteTime": {
     "end_time": "2025-06-22T14:11:35.268855Z",
     "start_time": "2025-06-22T14:11:28.021979Z"
    }
   },
   "cell_type": "code",
   "source": [
    "# Pulizia del dataset actors\n",
    "nomiNulli = actors[\"name\"].isna().sum()\n",
    "print(f\"Numero di NaN nella colonna 'name' sono: {nomiNulli}\")\n",
    "actors.dropna(subset=[\"name\"],inplace=True)\n",
    "actors.drop_duplicates(subset=[\"id\", \"name\", \"role\"],inplace=True)"
   ],
   "id": "99addcc4636009ae",
   "outputs": [
    {
     "name": "stdout",
     "output_type": "stream",
     "text": [
      "Numero di NaN nella colonna 'name' sono: 4\n"
     ]
    }
   ],
   "execution_count": 4
  },
  {
   "metadata": {
    "ExecuteTime": {
     "end_time": "2025-06-22T14:13:42.871461Z",
     "start_time": "2025-06-22T14:13:38.079703Z"
    }
   },
   "cell_type": "code",
   "source": [
    "# Pulizia del dataset crew\n",
    "nomiNulli = crew[\"name\"].isna().sum()\n",
    "ruoliNulli = crew[\"role\"].isna().sum()\n",
    "\n",
    "print(f\"Numero di NaN nella colonna 'name' sono: {nomiNulli}\")\n",
    "print(f\"Numero di NaN nella colonna 'name' sono: {ruoliNulli}\")\n",
    "\n",
    "crew.dropna(subset=[\"name\"],inplace=True)\n",
    "crew.dropna(subset=[\"role\"],inplace=True)\n",
    "crew.drop_duplicates(subset=[\"id\", \"name\", \"role\"],inplace=True)"
   ],
   "id": "9a501180be1b8cb7",
   "outputs": [
    {
     "name": "stdout",
     "output_type": "stream",
     "text": [
      "Numero di NaN nella colonna 'name' sono: 1\n",
      "Numero di NaN nella colonna 'name' sono: 0\n"
     ]
    }
   ],
   "execution_count": 5
  },
  {
   "metadata": {
    "ExecuteTime": {
     "end_time": "2025-06-22T14:19:42.621773Z",
     "start_time": "2025-06-22T14:19:41.634146Z"
    }
   },
   "cell_type": "code",
   "source": [
    "#pulizia dataset Generi\n",
    "generiNulli = genres['genre'].isna().sum()\n",
    "print(f\"Numero di NaN nella colonna 'gerne' sono: {nomiNulli}\")\n",
    "genres.dropna(subset=[\"genre\"],inplace=True)\n",
    "genres.drop_duplicates(subset=[\"id\", \"genre\"],inplace=True)"
   ],
   "id": "d48e7bab17c92095",
   "outputs": [
    {
     "name": "stdout",
     "output_type": "stream",
     "text": [
      "Numero di NaN nella colonna 'gerne' sono: 1\n"
     ]
    }
   ],
   "execution_count": 7
  },
  {
   "metadata": {},
   "cell_type": "code",
   "outputs": [],
   "execution_count": null,
   "source": [
    "#pulizia dataset lingue\n",
    "lingueNulle = languages['language'].isna().sum()\n",
    "TipiNulli = languages['type'].isna().sum()\n",
    "languages.dropna(subset=[\"language\"],inplace=True)\n",
    "languages.dropna(subset=[\"type\"],inplace=True)\n",
    "languages.drop_duplicates(subset=[\"id\", \"language\", \"type\"],inplace=True)"
   ],
   "id": "66c88a40d6f8ce0"
  },
  {
   "metadata": {
    "ExecuteTime": {
     "end_time": "2025-06-22T14:21:14.052791Z",
     "start_time": "2025-06-22T14:21:11.416062Z"
    }
   },
   "cell_type": "code",
   "source": [
    "# Pulizia del dataset movies\n",
    "# Eliminiamo gli id duplicati\n",
    "movies.drop_duplicates(subset=movies.columns.difference(['id']), keep='first',inplace=True)\n",
    "\n",
    "# Eliminiamo i dulicati che hanno id diverso ma tutti gli altri campi uguali\n",
    "movies.drop_duplicates(subset=[\"name\",\"date\",\"tagline\",\"description\",\"minutes\",\"rating\"],inplace=True)\n",
    "\n",
    "# Contiamo, per farci un'idea, i campi NaN\n",
    "nomiNulli = movies[\"name\"].isna().sum()\n",
    "print(f\"Numero di NaN nella colonna 'name': {nomiNulli}\")\n",
    "dateNulle = movies[\"date\"].isna().sum()\n",
    "print(f\"Numero di NaN nella colonna 'date': {dateNulle}\")\n",
    "minutiNulli = movies[\"minutes\"].isna().sum()\n",
    "print(f\"Numero di NaN nella colonna 'minute': {minutiNulli}\")\n",
    "ratingNullo = movies[\"rating\"].isna().sum()\n",
    "print(f\"Numero di NaN nella colonna 'rating': {ratingNullo}\")\n",
    "\n",
    "\n",
    "\n",
    "# Eliminiamo i 2 dati sui film NaN\n",
    "movies.dropna(subset=[\"name\"],inplace=True)\n",
    "nomiNulli = movies[\"name\"].isna().sum()\n",
    "print(f\"Numero di NaN nella colonna 'name': {nomiNulli}\")"
   ],
   "id": "b7987926c3f050e4",
   "outputs": [
    {
     "name": "stdout",
     "output_type": "stream",
     "text": [
      "Numero di NaN nella colonna 'name': 5\n",
      "Numero di NaN nella colonna 'date': 89827\n",
      "Numero di NaN nella colonna 'minute': 179090\n",
      "Numero di NaN nella colonna 'rating': 846551\n",
      "Numero di NaN nella colonna 'name': 0\n"
     ]
    }
   ],
   "execution_count": 8
  },
  {
   "metadata": {
    "ExecuteTime": {
     "end_time": "2025-06-22T14:21:45.096800Z",
     "start_time": "2025-06-22T14:21:45.076619Z"
    }
   },
   "cell_type": "code",
   "source": [
    "non_nan_date_movies = movies[\"date\"].dropna()\n",
    "# Controlliamo se tutti i valori non NaN sono compresi tra 1888 e 2024\n",
    "are_all_in_range = non_nan_date_movies.between(1877, 2025).all()\n",
    "\n",
    "if are_all_in_range:\n",
    "    print(\"Tutti i valori non NaN nella colonna 'date' sono compresi tra 1888 e 2024.\")\n",
    "else:\n",
    "    print(\"Alcuni valori non NaN nella colonna 'date' NON rientrano nel range 1888-2024.\")\n",
    "\n",
    "#############\n",
    "\n",
    "# Troviamo i valori non NaN che non sono compresi tra 1888 e 2025\n",
    "out_of_range = non_nan_date_movies[~non_nan_date_movies.between(1877, 2024)]\n",
    "\n",
    "print(\"Valori non NaN che NON rientrano nel range 1888-2024:\")\n",
    "print(out_of_range)"
   ],
   "id": "1edbecb79c6772fd",
   "outputs": [
    {
     "name": "stdout",
     "output_type": "stream",
     "text": [
      "Alcuni valori non NaN nella colonna 'date' NON rientrano nel range 1888-2024.\n",
      "Valori non NaN che NON rientrano nel range 1888-2024:\n",
      "3657      2025.0\n",
      "4679      2026.0\n",
      "7227      2025.0\n",
      "7441      2025.0\n",
      "7787      2025.0\n",
      "           ...  \n",
      "932230    2025.0\n",
      "940009    2030.0\n",
      "940010    2025.0\n",
      "940011    2025.0\n",
      "940012    2025.0\n",
      "Name: date, Length: 416, dtype: float64\n"
     ]
    }
   ],
   "execution_count": 9
  },
  {
   "metadata": {
    "ExecuteTime": {
     "end_time": "2025-06-22T14:22:19.597099Z",
     "start_time": "2025-06-22T14:22:19.418527Z"
    }
   },
   "cell_type": "code",
   "source": [
    "# Pulizia del dataset studios\n",
    "studioNulli = studios[\"studio\"].isna().sum()\n",
    "print(f\"Numero di NaN nella colonna 'studio': {studioNulli}\")\n",
    "\n",
    "# Eliminiamo gli studios senza nome\n",
    "studios.dropna(subset=[\"studio\"],inplace=True)\n",
    "\n",
    "studioNulli = studios[\"studio\"].isna().sum()\n",
    "print(f\"Numero di NaN nella colonna 'studio': {studioNulli}\")"
   ],
   "id": "b95493fade764ff6",
   "outputs": [
    {
     "name": "stdout",
     "output_type": "stream",
     "text": [
      "Numero di NaN nella colonna 'studio': 10\n",
      "Numero di NaN nella colonna 'studio': 0\n"
     ]
    }
   ],
   "execution_count": 10
  },
  {
   "metadata": {
    "ExecuteTime": {
     "end_time": "2025-06-22T14:22:57.637627Z",
     "start_time": "2025-06-22T14:22:56.799554Z"
    }
   },
   "cell_type": "code",
   "source": [
    "#pulizia del dataset releases\n",
    "releases.drop_duplicates(subset=[\"id\",\"country\",\"date\",\"type\",\"rating\"])"
   ],
   "id": "af52f73bc38adfab",
   "outputs": [
    {
     "data": {
      "text/plain": [
       "              id    country        date        type rating\n",
       "0        1000001    Andorra  2023-07-21  Theatrical    NaN\n",
       "1        1000001  Argentina  2023-07-20  Theatrical    ATP\n",
       "2        1000001  Australia  2023-07-19  Theatrical     PG\n",
       "3        1000001  Australia  2023-10-01     Digital     PG\n",
       "4        1000001    Austria  2023-07-20  Theatrical    NaN\n",
       "...          ...        ...         ...         ...    ...\n",
       "1332777  1940967        USA  1909-01-01  Theatrical    NaN\n",
       "1332778  1940968     Sweden  1908-11-11  Theatrical    NaN\n",
       "1332779  1940969     France  1902-01-01  Theatrical    NaN\n",
       "1332780  1940970     France  1902-01-01  Theatrical    NaN\n",
       "1332781  1940971     France  1902-01-01  Theatrical    NaN\n",
       "\n",
       "[1332782 rows x 5 columns]"
      ],
      "text/html": [
       "<div>\n",
       "<style scoped>\n",
       "    .dataframe tbody tr th:only-of-type {\n",
       "        vertical-align: middle;\n",
       "    }\n",
       "\n",
       "    .dataframe tbody tr th {\n",
       "        vertical-align: top;\n",
       "    }\n",
       "\n",
       "    .dataframe thead th {\n",
       "        text-align: right;\n",
       "    }\n",
       "</style>\n",
       "<table border=\"1\" class=\"dataframe\">\n",
       "  <thead>\n",
       "    <tr style=\"text-align: right;\">\n",
       "      <th></th>\n",
       "      <th>id</th>\n",
       "      <th>country</th>\n",
       "      <th>date</th>\n",
       "      <th>type</th>\n",
       "      <th>rating</th>\n",
       "    </tr>\n",
       "  </thead>\n",
       "  <tbody>\n",
       "    <tr>\n",
       "      <th>0</th>\n",
       "      <td>1000001</td>\n",
       "      <td>Andorra</td>\n",
       "      <td>2023-07-21</td>\n",
       "      <td>Theatrical</td>\n",
       "      <td>NaN</td>\n",
       "    </tr>\n",
       "    <tr>\n",
       "      <th>1</th>\n",
       "      <td>1000001</td>\n",
       "      <td>Argentina</td>\n",
       "      <td>2023-07-20</td>\n",
       "      <td>Theatrical</td>\n",
       "      <td>ATP</td>\n",
       "    </tr>\n",
       "    <tr>\n",
       "      <th>2</th>\n",
       "      <td>1000001</td>\n",
       "      <td>Australia</td>\n",
       "      <td>2023-07-19</td>\n",
       "      <td>Theatrical</td>\n",
       "      <td>PG</td>\n",
       "    </tr>\n",
       "    <tr>\n",
       "      <th>3</th>\n",
       "      <td>1000001</td>\n",
       "      <td>Australia</td>\n",
       "      <td>2023-10-01</td>\n",
       "      <td>Digital</td>\n",
       "      <td>PG</td>\n",
       "    </tr>\n",
       "    <tr>\n",
       "      <th>4</th>\n",
       "      <td>1000001</td>\n",
       "      <td>Austria</td>\n",
       "      <td>2023-07-20</td>\n",
       "      <td>Theatrical</td>\n",
       "      <td>NaN</td>\n",
       "    </tr>\n",
       "    <tr>\n",
       "      <th>...</th>\n",
       "      <td>...</td>\n",
       "      <td>...</td>\n",
       "      <td>...</td>\n",
       "      <td>...</td>\n",
       "      <td>...</td>\n",
       "    </tr>\n",
       "    <tr>\n",
       "      <th>1332777</th>\n",
       "      <td>1940967</td>\n",
       "      <td>USA</td>\n",
       "      <td>1909-01-01</td>\n",
       "      <td>Theatrical</td>\n",
       "      <td>NaN</td>\n",
       "    </tr>\n",
       "    <tr>\n",
       "      <th>1332778</th>\n",
       "      <td>1940968</td>\n",
       "      <td>Sweden</td>\n",
       "      <td>1908-11-11</td>\n",
       "      <td>Theatrical</td>\n",
       "      <td>NaN</td>\n",
       "    </tr>\n",
       "    <tr>\n",
       "      <th>1332779</th>\n",
       "      <td>1940969</td>\n",
       "      <td>France</td>\n",
       "      <td>1902-01-01</td>\n",
       "      <td>Theatrical</td>\n",
       "      <td>NaN</td>\n",
       "    </tr>\n",
       "    <tr>\n",
       "      <th>1332780</th>\n",
       "      <td>1940970</td>\n",
       "      <td>France</td>\n",
       "      <td>1902-01-01</td>\n",
       "      <td>Theatrical</td>\n",
       "      <td>NaN</td>\n",
       "    </tr>\n",
       "    <tr>\n",
       "      <th>1332781</th>\n",
       "      <td>1940971</td>\n",
       "      <td>France</td>\n",
       "      <td>1902-01-01</td>\n",
       "      <td>Theatrical</td>\n",
       "      <td>NaN</td>\n",
       "    </tr>\n",
       "  </tbody>\n",
       "</table>\n",
       "<p>1332782 rows × 5 columns</p>\n",
       "</div>"
      ]
     },
     "execution_count": 11,
     "metadata": {},
     "output_type": "execute_result"
    }
   ],
   "execution_count": 11
  }
 ],
 "metadata": {
  "kernelspec": {
   "display_name": "Python 3",
   "language": "python",
   "name": "python3"
  },
  "language_info": {
   "codemirror_mode": {
    "name": "ipython",
    "version": 2
   },
   "file_extension": ".py",
   "mimetype": "text/x-python",
   "name": "python",
   "nbconvert_exporter": "python",
   "pygments_lexer": "ipython2",
   "version": "2.7.6"
  }
 },
 "nbformat": 4,
 "nbformat_minor": 5
}
