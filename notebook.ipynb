{
 "cells": [
  {
   "cell_type": "code",
   "id": "initial_id",
   "metadata": {
    "collapsed": true,
    "ExecuteTime": {
     "end_time": "2025-06-22T14:00:53.719682Z",
     "start_time": "2025-06-22T14:00:53.374186Z"
    }
   },
   "source": [
    "import pandas as pd\n",
    "import matplotlib.pyplot as plt\n",
    "import numpy as np\n",
    "from scipy.stats import pearsonr\n",
    "import geopandas as gpd\n",
    "import seaborn as sns\n",
    "import scipy.stats as stats"
   ],
   "outputs": [],
   "execution_count": 1
  },
  {
   "metadata": {
    "ExecuteTime": {
     "end_time": "2025-06-20T16:13:25.066961Z",
     "start_time": "2025-06-20T16:12:56.295259Z"
    }
   },
   "cell_type": "code",
   "source": [
    "actors = pd.read_csv(\"./main_data/actors.csv\")\n",
    "countries = pd.read_csv(\"./main_data/countries.csv\")\n",
    "crew = pd.read_csv(\"./main_data/crew.csv\")\n",
    "genres = pd.read_csv(\"./main_data/genres.csv\")\n",
    "languages = pd.read_csv(\"./main_data/languages.csv\")\n",
    "movies = pd.read_csv(\"./main_data/movies.csv\")\n",
    "releases = pd.read_csv(\"./main_data/releases.csv\")\n",
    "rotten_tomatoes_review = pd.read_csv(\"./main_data/rotten_tomatoes_reviews.csv\")\n",
    "studios = pd.read_csv(\"./main_data/studios.csv\")\n",
    "the_oscar_awards = pd.read_csv(\"./main_data/the_oscar_awards.csv\")"
   ],
   "id": "551f15f170bf2401",
   "outputs": [],
   "execution_count": 2
  },
  {
   "metadata": {
    "ExecuteTime": {
     "end_time": "2025-06-20T16:14:07.226214Z",
     "start_time": "2025-06-20T16:13:49.516859Z"
    }
   },
   "cell_type": "code",
   "source": [
    "# Pulizia del dataset actors\n",
    "nomiNulli = actors[\"name\"].isna().sum()\n",
    "print(f\"Numero di NaN nella colonna 'name' sono: {nomiNulli}\")\n",
    "actors.dropna(subset=[\"name\"],inplace=True)\n",
    "actors.drop_duplicates(subset=[\"id\", \"name\", \"role\"],inplace=True)"
   ],
   "id": "99addcc4636009ae",
   "outputs": [
    {
     "name": "stdout",
     "output_type": "stream",
     "text": [
      "Numero di NaN nella colonna 'name' sono: 4\n"
     ]
    }
   ],
   "execution_count": 3
  }
 ],
 "metadata": {
  "kernelspec": {
   "display_name": "Python 3",
   "language": "python",
   "name": "python3"
  },
  "language_info": {
   "codemirror_mode": {
    "name": "ipython",
    "version": 2
   },
   "file_extension": ".py",
   "mimetype": "text/x-python",
   "name": "python",
   "nbconvert_exporter": "python",
   "pygments_lexer": "ipython2",
   "version": "2.7.6"
  }
 },
 "nbformat": 4,
 "nbformat_minor": 5
}
