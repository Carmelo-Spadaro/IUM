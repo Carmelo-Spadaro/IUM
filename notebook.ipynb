{
 "cells": [
  {
   "cell_type": "code",
   "id": "initial_id",
   "metadata": {
    "collapsed": true,
    "ExecuteTime": {
     "end_time": "2025-06-23T05:48:59.793024Z",
     "start_time": "2025-06-23T05:48:59.219404Z"
    }
   },
   "source": [
    "import pandas as pd\n",
    "import matplotlib.pyplot as plt\n",
    "import numpy as np\n",
    "from scipy.stats import pearsonr\n",
    "import geopandas as gpd\n",
    "import seaborn as sns\n",
    "import scipy.stats as stats"
   ],
   "outputs": [],
   "execution_count": 1
  },
  {
   "metadata": {
    "ExecuteTime": {
     "end_time": "2025-06-23T07:13:50.431166Z",
     "start_time": "2025-06-23T07:13:24.610550Z"
    }
   },
   "cell_type": "code",
   "source": [
    "actors = pd.read_csv(\"./main_data/actors.csv\")\n",
    "countries = pd.read_csv(\"./main_data/countries.csv\")\n",
    "crew = pd.read_csv(\"./main_data/crew.csv\")\n",
    "genres = pd.read_csv(\"./main_data/genres.csv\")\n",
    "languages = pd.read_csv(\"./main_data/languages.csv\")\n",
    "movies = pd.read_csv(\"./main_data/movies.csv\")\n",
    "releases = pd.read_csv(\"./main_data/releases.csv\")\n",
    "rotten_tomatoes_review = pd.read_csv(\"./main_data/rotten_tomatoes_reviews.csv\")\n",
    "studios = pd.read_csv(\"./main_data/studios.csv\")\n",
    "the_oscar_awards = pd.read_csv(\"./main_data/the_oscar_awards.csv\")"
   ],
   "id": "551f15f170bf2401",
   "outputs": [
    {
     "name": "stderr",
     "output_type": "stream",
     "text": [
      "\n",
      "KeyboardInterrupt\n",
      "\n"
     ]
    },
    {
     "ename": "KeyboardInterrupt",
     "evalue": "",
     "output_type": "error",
     "traceback": [
      "\u001B[31m---------------------------------------------------------------------------\u001B[39m",
      "\u001B[31mKeyboardInterrupt\u001B[39m                         Traceback (most recent call last)",
      "\u001B[36mFile \u001B[39m\u001B[32m~\\WebstormProjects\\T-Web8\\IUM\\.venv\\Lib\\site-packages\\IPython\\core\\async_helpers.py:128\u001B[39m, in \u001B[36m_pseudo_sync_runner\u001B[39m\u001B[34m(coro)\u001B[39m\n\u001B[32m    120\u001B[39m \u001B[38;5;250m\u001B[39m\u001B[33;03m\"\"\"\u001B[39;00m\n\u001B[32m    121\u001B[39m \u001B[33;03mA runner that does not really allow async execution, and just advance the coroutine.\u001B[39;00m\n\u001B[32m    122\u001B[39m \n\u001B[32m   (...)\u001B[39m\u001B[32m    125\u001B[39m \u001B[33;03mCredit to Nathaniel Smith\u001B[39;00m\n\u001B[32m    126\u001B[39m \u001B[33;03m\"\"\"\u001B[39;00m\n\u001B[32m    127\u001B[39m \u001B[38;5;28;01mtry\u001B[39;00m:\n\u001B[32m--> \u001B[39m\u001B[32m128\u001B[39m     \u001B[43mcoro\u001B[49m\u001B[43m.\u001B[49m\u001B[43msend\u001B[49m\u001B[43m(\u001B[49m\u001B[38;5;28;43;01mNone\u001B[39;49;00m\u001B[43m)\u001B[49m\n\u001B[32m    129\u001B[39m \u001B[38;5;28;01mexcept\u001B[39;00m \u001B[38;5;167;01mStopIteration\u001B[39;00m \u001B[38;5;28;01mas\u001B[39;00m exc:\n\u001B[32m    130\u001B[39m     \u001B[38;5;28;01mreturn\u001B[39;00m exc.value\n",
      "\u001B[36mFile \u001B[39m\u001B[32m~\\WebstormProjects\\T-Web8\\IUM\\.venv\\Lib\\site-packages\\IPython\\core\\interactiveshell.py:3386\u001B[39m, in \u001B[36mInteractiveShell.run_cell_async\u001B[39m\u001B[34m(self, raw_cell, store_history, silent, shell_futures, transformed_cell, preprocessing_exc_tuple, cell_id)\u001B[39m\n\u001B[32m   3382\u001B[39m exec_count = \u001B[38;5;28mself\u001B[39m.execution_count\n\u001B[32m   3383\u001B[39m \u001B[38;5;28;01mif\u001B[39;00m result.error_in_exec:\n\u001B[32m   3384\u001B[39m     \u001B[38;5;66;03m# Store formatted traceback and error details\u001B[39;00m\n\u001B[32m   3385\u001B[39m     \u001B[38;5;28mself\u001B[39m.history_manager.exceptions[exec_count] = (\n\u001B[32m-> \u001B[39m\u001B[32m3386\u001B[39m         \u001B[38;5;28;43mself\u001B[39;49m\u001B[43m.\u001B[49m\u001B[43m_format_exception_for_storage\u001B[49m\u001B[43m(\u001B[49m\u001B[43mresult\u001B[49m\u001B[43m.\u001B[49m\u001B[43merror_in_exec\u001B[49m\u001B[43m)\u001B[49m\n\u001B[32m   3387\u001B[39m     )\n\u001B[32m   3389\u001B[39m \u001B[38;5;66;03m# Each cell is a *single* input, regardless of how many lines it has\u001B[39;00m\n\u001B[32m   3390\u001B[39m \u001B[38;5;28mself\u001B[39m.execution_count += \u001B[32m1\u001B[39m\n",
      "\u001B[36mFile \u001B[39m\u001B[32m~\\WebstormProjects\\T-Web8\\IUM\\.venv\\Lib\\site-packages\\IPython\\core\\interactiveshell.py:3440\u001B[39m, in \u001B[36mInteractiveShell._format_exception_for_storage\u001B[39m\u001B[34m(self, exception, filename, running_compiled_code)\u001B[39m\n\u001B[32m   3437\u001B[39m         stb = evalue._render_traceback_()\n\u001B[32m   3438\u001B[39m     \u001B[38;5;28;01melse\u001B[39;00m:\n\u001B[32m   3439\u001B[39m         \u001B[38;5;66;03m# Otherwise, use InteractiveTB to format the traceback.\u001B[39;00m\n\u001B[32m-> \u001B[39m\u001B[32m3440\u001B[39m         stb = \u001B[38;5;28;43mself\u001B[39;49m\u001B[43m.\u001B[49m\u001B[43mInteractiveTB\u001B[49m\u001B[43m.\u001B[49m\u001B[43mstructured_traceback\u001B[49m\u001B[43m(\u001B[49m\n\u001B[32m   3441\u001B[39m \u001B[43m            \u001B[49m\u001B[43metype\u001B[49m\u001B[43m,\u001B[49m\u001B[43m \u001B[49m\u001B[43mevalue\u001B[49m\u001B[43m,\u001B[49m\u001B[43m \u001B[49m\u001B[43mtb\u001B[49m\u001B[43m,\u001B[49m\u001B[43m \u001B[49m\u001B[43mtb_offset\u001B[49m\u001B[43m=\u001B[49m\u001B[32;43m1\u001B[39;49m\n\u001B[32m   3442\u001B[39m \u001B[43m        \u001B[49m\u001B[43m)\u001B[49m\n\u001B[32m   3443\u001B[39m \u001B[38;5;28;01mexcept\u001B[39;00m \u001B[38;5;167;01mException\u001B[39;00m:\n\u001B[32m   3444\u001B[39m     \u001B[38;5;66;03m# In case formatting fails, fallback to Python's built-in formatting.\u001B[39;00m\n\u001B[32m   3445\u001B[39m     stb = traceback.format_exception(etype, evalue, tb)\n",
      "\u001B[36mFile \u001B[39m\u001B[32m~\\WebstormProjects\\T-Web8\\IUM\\.venv\\Lib\\site-packages\\IPython\\core\\ultratb.py:1182\u001B[39m, in \u001B[36mAutoFormattedTB.structured_traceback\u001B[39m\u001B[34m(self, etype, evalue, etb, tb_offset, context)\u001B[39m\n\u001B[32m   1180\u001B[39m \u001B[38;5;28;01melse\u001B[39;00m:\n\u001B[32m   1181\u001B[39m     \u001B[38;5;28mself\u001B[39m.tb = etb\n\u001B[32m-> \u001B[39m\u001B[32m1182\u001B[39m \u001B[38;5;28;01mreturn\u001B[39;00m \u001B[43mFormattedTB\u001B[49m\u001B[43m.\u001B[49m\u001B[43mstructured_traceback\u001B[49m\u001B[43m(\u001B[49m\n\u001B[32m   1183\u001B[39m \u001B[43m    \u001B[49m\u001B[38;5;28;43mself\u001B[39;49m\u001B[43m,\u001B[49m\u001B[43m \u001B[49m\u001B[43metype\u001B[49m\u001B[43m,\u001B[49m\u001B[43m \u001B[49m\u001B[43mevalue\u001B[49m\u001B[43m,\u001B[49m\u001B[43m \u001B[49m\u001B[43metb\u001B[49m\u001B[43m,\u001B[49m\u001B[43m \u001B[49m\u001B[43mtb_offset\u001B[49m\u001B[43m,\u001B[49m\u001B[43m \u001B[49m\u001B[43mcontext\u001B[49m\n\u001B[32m   1184\u001B[39m \u001B[43m\u001B[49m\u001B[43m)\u001B[49m\n",
      "\u001B[36mFile \u001B[39m\u001B[32m~\\WebstormProjects\\T-Web8\\IUM\\.venv\\Lib\\site-packages\\IPython\\core\\ultratb.py:1053\u001B[39m, in \u001B[36mFormattedTB.structured_traceback\u001B[39m\u001B[34m(self, etype, evalue, etb, tb_offset, context)\u001B[39m\n\u001B[32m   1050\u001B[39m mode = \u001B[38;5;28mself\u001B[39m.mode\n\u001B[32m   1051\u001B[39m \u001B[38;5;28;01mif\u001B[39;00m mode \u001B[38;5;129;01min\u001B[39;00m \u001B[38;5;28mself\u001B[39m.verbose_modes:\n\u001B[32m   1052\u001B[39m     \u001B[38;5;66;03m# Verbose modes need a full traceback\u001B[39;00m\n\u001B[32m-> \u001B[39m\u001B[32m1053\u001B[39m     \u001B[38;5;28;01mreturn\u001B[39;00m \u001B[43mVerboseTB\u001B[49m\u001B[43m.\u001B[49m\u001B[43mstructured_traceback\u001B[49m\u001B[43m(\u001B[49m\n\u001B[32m   1054\u001B[39m \u001B[43m        \u001B[49m\u001B[38;5;28;43mself\u001B[39;49m\u001B[43m,\u001B[49m\u001B[43m \u001B[49m\u001B[43metype\u001B[49m\u001B[43m,\u001B[49m\u001B[43m \u001B[49m\u001B[43mevalue\u001B[49m\u001B[43m,\u001B[49m\u001B[43m \u001B[49m\u001B[43metb\u001B[49m\u001B[43m,\u001B[49m\u001B[43m \u001B[49m\u001B[43mtb_offset\u001B[49m\u001B[43m,\u001B[49m\u001B[43m \u001B[49m\u001B[43mcontext\u001B[49m\n\u001B[32m   1055\u001B[39m \u001B[43m    \u001B[49m\u001B[43m)\u001B[49m\n\u001B[32m   1056\u001B[39m \u001B[38;5;28;01melif\u001B[39;00m mode == \u001B[33m\"\u001B[39m\u001B[33mDocs\u001B[39m\u001B[33m\"\u001B[39m:\n\u001B[32m   1057\u001B[39m     \u001B[38;5;66;03m# return DocTB\u001B[39;00m\n\u001B[32m   1058\u001B[39m     \u001B[38;5;28;01mreturn\u001B[39;00m DocTB(\n\u001B[32m   1059\u001B[39m         theme_name=\u001B[38;5;28mself\u001B[39m._theme_name,\n\u001B[32m   1060\u001B[39m         call_pdb=\u001B[38;5;28mself\u001B[39m.call_pdb,\n\u001B[32m   (...)\u001B[39m\u001B[32m   1068\u001B[39m         etype, evalue, etb, tb_offset, \u001B[32m1\u001B[39m\n\u001B[32m   1069\u001B[39m     )  \u001B[38;5;66;03m# type: ignore[arg-type]\u001B[39;00m\n",
      "\u001B[36mFile \u001B[39m\u001B[32m~\\WebstormProjects\\T-Web8\\IUM\\.venv\\Lib\\site-packages\\IPython\\core\\ultratb.py:861\u001B[39m, in \u001B[36mVerboseTB.structured_traceback\u001B[39m\u001B[34m(self, etype, evalue, etb, tb_offset, context)\u001B[39m\n\u001B[32m    852\u001B[39m \u001B[38;5;28;01mdef\u001B[39;00m\u001B[38;5;250m \u001B[39m\u001B[34mstructured_traceback\u001B[39m(\n\u001B[32m    853\u001B[39m     \u001B[38;5;28mself\u001B[39m,\n\u001B[32m    854\u001B[39m     etype: \u001B[38;5;28mtype\u001B[39m,\n\u001B[32m   (...)\u001B[39m\u001B[32m    858\u001B[39m     context: \u001B[38;5;28mint\u001B[39m = \u001B[32m5\u001B[39m,\n\u001B[32m    859\u001B[39m ) -> \u001B[38;5;28mlist\u001B[39m[\u001B[38;5;28mstr\u001B[39m]:\n\u001B[32m    860\u001B[39m \u001B[38;5;250m    \u001B[39m\u001B[33;03m\"\"\"Return a nice text document describing the traceback.\"\"\"\u001B[39;00m\n\u001B[32m--> \u001B[39m\u001B[32m861\u001B[39m     formatted_exceptions: \u001B[38;5;28mlist\u001B[39m[\u001B[38;5;28mlist\u001B[39m[\u001B[38;5;28mstr\u001B[39m]] = \u001B[38;5;28;43mself\u001B[39;49m\u001B[43m.\u001B[49m\u001B[43mformat_exception_as_a_whole\u001B[49m\u001B[43m(\u001B[49m\n\u001B[32m    862\u001B[39m \u001B[43m        \u001B[49m\u001B[43metype\u001B[49m\u001B[43m,\u001B[49m\u001B[43m \u001B[49m\u001B[43mevalue\u001B[49m\u001B[43m,\u001B[49m\u001B[43m \u001B[49m\u001B[43metb\u001B[49m\u001B[43m,\u001B[49m\u001B[43m \u001B[49m\u001B[43mcontext\u001B[49m\u001B[43m,\u001B[49m\u001B[43m \u001B[49m\u001B[43mtb_offset\u001B[49m\n\u001B[32m    863\u001B[39m \u001B[43m    \u001B[49m\u001B[43m)\u001B[49m\n\u001B[32m    865\u001B[39m     termsize = \u001B[38;5;28mmin\u001B[39m(\u001B[32m75\u001B[39m, get_terminal_size()[\u001B[32m0\u001B[39m])\n\u001B[32m    866\u001B[39m     theme = theme_table[\u001B[38;5;28mself\u001B[39m._theme_name]\n",
      "\u001B[36mFile \u001B[39m\u001B[32m~\\WebstormProjects\\T-Web8\\IUM\\.venv\\Lib\\site-packages\\IPython\\core\\ultratb.py:746\u001B[39m, in \u001B[36mVerboseTB.format_exception_as_a_whole\u001B[39m\u001B[34m(self, etype, evalue, etb, context, tb_offset)\u001B[39m\n\u001B[32m    744\u001B[39m \u001B[38;5;28;01massert\u001B[39;00m \u001B[38;5;28misinstance\u001B[39m(tb_offset, \u001B[38;5;28mint\u001B[39m)\n\u001B[32m    745\u001B[39m head = \u001B[38;5;28mself\u001B[39m.prepare_header(\u001B[38;5;28mstr\u001B[39m(etype), \u001B[38;5;28mself\u001B[39m.long_header)\n\u001B[32m--> \u001B[39m\u001B[32m746\u001B[39m records = \u001B[38;5;28;43mself\u001B[39;49m\u001B[43m.\u001B[49m\u001B[43mget_records\u001B[49m\u001B[43m(\u001B[49m\u001B[43metb\u001B[49m\u001B[43m,\u001B[49m\u001B[43m \u001B[49m\u001B[43mcontext\u001B[49m\u001B[43m,\u001B[49m\u001B[43m \u001B[49m\u001B[43mtb_offset\u001B[49m\u001B[43m)\u001B[49m \u001B[38;5;28;01mif\u001B[39;00m etb \u001B[38;5;28;01melse\u001B[39;00m []\n\u001B[32m    748\u001B[39m frames = []\n\u001B[32m    749\u001B[39m skipped = \u001B[32m0\u001B[39m\n",
      "\u001B[36mFile \u001B[39m\u001B[32m~\\WebstormProjects\\T-Web8\\IUM\\.venv\\Lib\\site-packages\\IPython\\core\\ultratb.py:848\u001B[39m, in \u001B[36mVerboseTB.get_records\u001B[39m\u001B[34m(self, etb, context, tb_offset)\u001B[39m\n\u001B[32m    842\u001B[39m         FIs.append(\n\u001B[32m    843\u001B[39m             FrameInfo(\n\u001B[32m    844\u001B[39m                 \u001B[33m\"\u001B[39m\u001B[33mRaw frame\u001B[39m\u001B[33m\"\u001B[39m, filename, lineno, frame, code, context=context\n\u001B[32m    845\u001B[39m             )\n\u001B[32m    846\u001B[39m         )\n\u001B[32m    847\u001B[39m     \u001B[38;5;28;01mreturn\u001B[39;00m FIs\n\u001B[32m--> \u001B[39m\u001B[32m848\u001B[39m res = \u001B[38;5;28;43mlist\u001B[39;49m\u001B[43m(\u001B[49m\u001B[43mstack_data\u001B[49m\u001B[43m.\u001B[49m\u001B[43mFrameInfo\u001B[49m\u001B[43m.\u001B[49m\u001B[43mstack_data\u001B[49m\u001B[43m(\u001B[49m\u001B[43metb\u001B[49m\u001B[43m,\u001B[49m\u001B[43m \u001B[49m\u001B[43moptions\u001B[49m\u001B[43m=\u001B[49m\u001B[43moptions\u001B[49m\u001B[43m)\u001B[49m\u001B[43m)\u001B[49m[tb_offset:]\n\u001B[32m    849\u001B[39m res2 = [FrameInfo._from_stack_data_FrameInfo(r) \u001B[38;5;28;01mfor\u001B[39;00m r \u001B[38;5;129;01min\u001B[39;00m res]\n\u001B[32m    850\u001B[39m \u001B[38;5;28;01mreturn\u001B[39;00m res2\n",
      "\u001B[36mFile \u001B[39m\u001B[32m~\\WebstormProjects\\T-Web8\\IUM\\.venv\\Lib\\site-packages\\stack_data\\core.py:597\u001B[39m, in \u001B[36mFrameInfo.stack_data\u001B[39m\u001B[34m(cls, frame_or_tb, options, collapse_repeated_frames)\u001B[39m\n\u001B[32m    594\u001B[39m     frame, lineno = frame_and_lineno(x)\n\u001B[32m    595\u001B[39m     \u001B[38;5;28;01mreturn\u001B[39;00m frame.f_code, lineno\n\u001B[32m--> \u001B[39m\u001B[32m597\u001B[39m \u001B[38;5;28;01myield from\u001B[39;00m collapse_repeated(\n\u001B[32m    598\u001B[39m     stack,\n\u001B[32m    599\u001B[39m     mapper=mapper,\n\u001B[32m    600\u001B[39m     collapser=RepeatedFrames,\n\u001B[32m    601\u001B[39m     key=_frame_key,\n\u001B[32m    602\u001B[39m )\n",
      "\u001B[36mFile \u001B[39m\u001B[32m~\\WebstormProjects\\T-Web8\\IUM\\.venv\\Lib\\site-packages\\stack_data\\utils.py:83\u001B[39m, in \u001B[36mcollapse_repeated\u001B[39m\u001B[34m(lst, collapser, mapper, key)\u001B[39m\n\u001B[32m     81\u001B[39m original_group, highlighted_group = \u001B[38;5;28mzip\u001B[39m(*group)\n\u001B[32m     82\u001B[39m \u001B[38;5;28;01mif\u001B[39;00m is_highlighted:\n\u001B[32m---> \u001B[39m\u001B[32m83\u001B[39m     \u001B[38;5;28;01myield from\u001B[39;00m \u001B[38;5;28mmap\u001B[39m(mapper, original_group)\n\u001B[32m     84\u001B[39m \u001B[38;5;28;01melse\u001B[39;00m:\n\u001B[32m     85\u001B[39m     keyed_group, _ = \u001B[38;5;28mzip\u001B[39m(*highlighted_group)\n",
      "\u001B[36mFile \u001B[39m\u001B[32m~\\WebstormProjects\\T-Web8\\IUM\\.venv\\Lib\\site-packages\\stack_data\\core.py:587\u001B[39m, in \u001B[36mFrameInfo.stack_data.<locals>.mapper\u001B[39m\u001B[34m(f)\u001B[39m\n\u001B[32m    586\u001B[39m \u001B[38;5;28;01mdef\u001B[39;00m\u001B[38;5;250m \u001B[39m\u001B[34mmapper\u001B[39m(f):\n\u001B[32m--> \u001B[39m\u001B[32m587\u001B[39m     \u001B[38;5;28;01mreturn\u001B[39;00m \u001B[38;5;28;43mcls\u001B[39;49m\u001B[43m(\u001B[49m\u001B[43mf\u001B[49m\u001B[43m,\u001B[49m\u001B[43m \u001B[49m\u001B[43moptions\u001B[49m\u001B[43m)\u001B[49m\n",
      "\u001B[36mFile \u001B[39m\u001B[32m~\\WebstormProjects\\T-Web8\\IUM\\.venv\\Lib\\site-packages\\stack_data\\core.py:551\u001B[39m, in \u001B[36mFrameInfo.__init__\u001B[39m\u001B[34m(self, frame_or_tb, options)\u001B[39m\n\u001B[32m    546\u001B[39m \u001B[38;5;28;01mdef\u001B[39;00m\u001B[38;5;250m \u001B[39m\u001B[34m__init__\u001B[39m(\n\u001B[32m    547\u001B[39m         \u001B[38;5;28mself\u001B[39m,\n\u001B[32m    548\u001B[39m         frame_or_tb: Union[FrameType, TracebackType],\n\u001B[32m    549\u001B[39m         options: Optional[Options] = \u001B[38;5;28;01mNone\u001B[39;00m,\n\u001B[32m    550\u001B[39m ):\n\u001B[32m--> \u001B[39m\u001B[32m551\u001B[39m     \u001B[38;5;28mself\u001B[39m.executing = \u001B[43mSource\u001B[49m\u001B[43m.\u001B[49m\u001B[43mexecuting\u001B[49m\u001B[43m(\u001B[49m\u001B[43mframe_or_tb\u001B[49m\u001B[43m)\u001B[49m\n\u001B[32m    552\u001B[39m     frame, \u001B[38;5;28mself\u001B[39m.lineno = frame_and_lineno(frame_or_tb)\n\u001B[32m    553\u001B[39m     \u001B[38;5;28mself\u001B[39m.frame = frame\n",
      "\u001B[36mFile \u001B[39m\u001B[32m~\\WebstormProjects\\T-Web8\\IUM\\.venv\\Lib\\site-packages\\executing\\executing.py:264\u001B[39m, in \u001B[36mSource.executing\u001B[39m\u001B[34m(cls, frame_or_tb)\u001B[39m\n\u001B[32m    262\u001B[39m \u001B[38;5;28;01mif\u001B[39;00m \u001B[38;5;129;01mnot\u001B[39;00m args:\n\u001B[32m    263\u001B[39m     node = stmts = decorator = \u001B[38;5;28;01mNone\u001B[39;00m\n\u001B[32m--> \u001B[39m\u001B[32m264\u001B[39m     source = \u001B[38;5;28;43mcls\u001B[39;49m\u001B[43m.\u001B[49m\u001B[43mfor_frame\u001B[49m\u001B[43m(\u001B[49m\u001B[43mframe\u001B[49m\u001B[43m)\u001B[49m\n\u001B[32m    265\u001B[39m     tree = source.tree\n\u001B[32m    266\u001B[39m     \u001B[38;5;28;01mif\u001B[39;00m tree:\n",
      "\u001B[36mFile \u001B[39m\u001B[32m~\\WebstormProjects\\T-Web8\\IUM\\.venv\\Lib\\site-packages\\executing\\executing.py:183\u001B[39m, in \u001B[36mSource.for_frame\u001B[39m\u001B[34m(cls, frame, use_cache)\u001B[39m\n\u001B[32m    177\u001B[39m \u001B[38;5;129m@classmethod\u001B[39m\n\u001B[32m    178\u001B[39m \u001B[38;5;28;01mdef\u001B[39;00m\u001B[38;5;250m \u001B[39m\u001B[34mfor_frame\u001B[39m(\u001B[38;5;28mcls\u001B[39m, frame, use_cache=\u001B[38;5;28;01mTrue\u001B[39;00m):\n\u001B[32m    179\u001B[39m     \u001B[38;5;66;03m# type: (types.FrameType, bool) -> \"Source\"\u001B[39;00m\n\u001B[32m    180\u001B[39m \u001B[38;5;250m    \u001B[39m\u001B[33;03m\"\"\"\u001B[39;00m\n\u001B[32m    181\u001B[39m \u001B[33;03m    Returns the `Source` object corresponding to the file the frame is executing in.\u001B[39;00m\n\u001B[32m    182\u001B[39m \u001B[33;03m    \"\"\"\u001B[39;00m\n\u001B[32m--> \u001B[39m\u001B[32m183\u001B[39m     \u001B[38;5;28;01mreturn\u001B[39;00m \u001B[38;5;28;43mcls\u001B[39;49m\u001B[43m.\u001B[49m\u001B[43mfor_filename\u001B[49m\u001B[43m(\u001B[49m\u001B[43mframe\u001B[49m\u001B[43m.\u001B[49m\u001B[43mf_code\u001B[49m\u001B[43m.\u001B[49m\u001B[43mco_filename\u001B[49m\u001B[43m,\u001B[49m\u001B[43m \u001B[49m\u001B[43mframe\u001B[49m\u001B[43m.\u001B[49m\u001B[43mf_globals\u001B[49m\u001B[43m \u001B[49m\u001B[38;5;129;43;01mor\u001B[39;49;00m\u001B[43m \u001B[49m\u001B[43m{\u001B[49m\u001B[43m}\u001B[49m\u001B[43m,\u001B[49m\u001B[43m \u001B[49m\u001B[43muse_cache\u001B[49m\u001B[43m)\u001B[49m\n",
      "\u001B[36mFile \u001B[39m\u001B[32m~\\WebstormProjects\\T-Web8\\IUM\\.venv\\Lib\\site-packages\\executing\\executing.py:212\u001B[39m, in \u001B[36mSource.for_filename\u001B[39m\u001B[34m(cls, filename, module_globals, use_cache)\u001B[39m\n\u001B[32m    209\u001B[39m     linecache.cache[filename] = entry \u001B[38;5;66;03m# type: ignore[attr-defined]\u001B[39;00m\n\u001B[32m    210\u001B[39m     lines = get_lines()\n\u001B[32m--> \u001B[39m\u001B[32m212\u001B[39m \u001B[38;5;28;01mreturn\u001B[39;00m \u001B[38;5;28;43mcls\u001B[39;49m\u001B[43m.\u001B[49m\u001B[43m_for_filename_and_lines\u001B[49m\u001B[43m(\u001B[49m\u001B[43mfilename\u001B[49m\u001B[43m,\u001B[49m\u001B[43m \u001B[49m\u001B[38;5;28;43mtuple\u001B[39;49m\u001B[43m(\u001B[49m\u001B[43mlines\u001B[49m\u001B[43m)\u001B[49m\u001B[43m)\u001B[49m\n",
      "\u001B[36mFile \u001B[39m\u001B[32m~\\WebstormProjects\\T-Web8\\IUM\\.venv\\Lib\\site-packages\\executing\\executing.py:223\u001B[39m, in \u001B[36mSource._for_filename_and_lines\u001B[39m\u001B[34m(cls, filename, lines)\u001B[39m\n\u001B[32m    220\u001B[39m \u001B[38;5;28;01mexcept\u001B[39;00m \u001B[38;5;167;01mKeyError\u001B[39;00m:\n\u001B[32m    221\u001B[39m     \u001B[38;5;28;01mpass\u001B[39;00m\n\u001B[32m--> \u001B[39m\u001B[32m223\u001B[39m result = source_cache[(filename, lines)] = \u001B[38;5;28;43mcls\u001B[39;49m\u001B[43m(\u001B[49m\u001B[43mfilename\u001B[49m\u001B[43m,\u001B[49m\u001B[43m \u001B[49m\u001B[43mlines\u001B[49m\u001B[43m)\u001B[49m\n\u001B[32m    224\u001B[39m \u001B[38;5;28;01mreturn\u001B[39;00m result\n",
      "\u001B[36mFile \u001B[39m\u001B[32m~\\WebstormProjects\\T-Web8\\IUM\\.venv\\Lib\\site-packages\\executing\\executing.py:174\u001B[39m, in \u001B[36mSource.__init__\u001B[39m\u001B[34m(self, filename, lines)\u001B[39m\n\u001B[32m    171\u001B[39m         \u001B[38;5;28mself\u001B[39m._nodes_by_line[lineno].append(node)\n\u001B[32m    173\u001B[39m visitor = QualnameVisitor()\n\u001B[32m--> \u001B[39m\u001B[32m174\u001B[39m \u001B[43mvisitor\u001B[49m\u001B[43m.\u001B[49m\u001B[43mvisit\u001B[49m\u001B[43m(\u001B[49m\u001B[38;5;28;43mself\u001B[39;49m\u001B[43m.\u001B[49m\u001B[43mtree\u001B[49m\u001B[43m)\u001B[49m\n\u001B[32m    175\u001B[39m \u001B[38;5;28mself\u001B[39m._qualnames = visitor.qualnames\n",
      "\u001B[36mFile \u001B[39m\u001B[32mC:\\Python312\\Lib\\ast.py:407\u001B[39m, in \u001B[36mNodeVisitor.visit\u001B[39m\u001B[34m(self, node)\u001B[39m\n\u001B[32m    405\u001B[39m method = \u001B[33m'\u001B[39m\u001B[33mvisit_\u001B[39m\u001B[33m'\u001B[39m + node.\u001B[34m__class__\u001B[39m.\u001B[34m__name__\u001B[39m\n\u001B[32m    406\u001B[39m visitor = \u001B[38;5;28mgetattr\u001B[39m(\u001B[38;5;28mself\u001B[39m, method, \u001B[38;5;28mself\u001B[39m.generic_visit)\n\u001B[32m--> \u001B[39m\u001B[32m407\u001B[39m \u001B[38;5;28;01mreturn\u001B[39;00m \u001B[43mvisitor\u001B[49m\u001B[43m(\u001B[49m\u001B[43mnode\u001B[49m\u001B[43m)\u001B[49m\n",
      "\u001B[36mFile \u001B[39m\u001B[32mC:\\Python312\\Lib\\ast.py:415\u001B[39m, in \u001B[36mNodeVisitor.generic_visit\u001B[39m\u001B[34m(self, node)\u001B[39m\n\u001B[32m    413\u001B[39m     \u001B[38;5;28;01mfor\u001B[39;00m item \u001B[38;5;129;01min\u001B[39;00m value:\n\u001B[32m    414\u001B[39m         \u001B[38;5;28;01mif\u001B[39;00m \u001B[38;5;28misinstance\u001B[39m(item, AST):\n\u001B[32m--> \u001B[39m\u001B[32m415\u001B[39m             \u001B[38;5;28;43mself\u001B[39;49m\u001B[43m.\u001B[49m\u001B[43mvisit\u001B[49m\u001B[43m(\u001B[49m\u001B[43mitem\u001B[49m\u001B[43m)\u001B[49m\n\u001B[32m    416\u001B[39m \u001B[38;5;28;01melif\u001B[39;00m \u001B[38;5;28misinstance\u001B[39m(value, AST):\n\u001B[32m    417\u001B[39m     \u001B[38;5;28mself\u001B[39m.visit(value)\n",
      "\u001B[36mFile \u001B[39m\u001B[32mC:\\Python312\\Lib\\ast.py:407\u001B[39m, in \u001B[36mNodeVisitor.visit\u001B[39m\u001B[34m(self, node)\u001B[39m\n\u001B[32m    405\u001B[39m method = \u001B[33m'\u001B[39m\u001B[33mvisit_\u001B[39m\u001B[33m'\u001B[39m + node.\u001B[34m__class__\u001B[39m.\u001B[34m__name__\u001B[39m\n\u001B[32m    406\u001B[39m visitor = \u001B[38;5;28mgetattr\u001B[39m(\u001B[38;5;28mself\u001B[39m, method, \u001B[38;5;28mself\u001B[39m.generic_visit)\n\u001B[32m--> \u001B[39m\u001B[32m407\u001B[39m \u001B[38;5;28;01mreturn\u001B[39;00m \u001B[43mvisitor\u001B[49m\u001B[43m(\u001B[49m\u001B[43mnode\u001B[49m\u001B[43m)\u001B[49m\n",
      "\u001B[36mFile \u001B[39m\u001B[32m~\\WebstormProjects\\T-Web8\\IUM\\.venv\\Lib\\site-packages\\executing\\executing.py:464\u001B[39m, in \u001B[36mQualnameVisitor.visit_FunctionDef\u001B[39m\u001B[34m(self, node, name)\u001B[39m\n\u001B[32m    462\u001B[39m     children = node.body\n\u001B[32m    463\u001B[39m \u001B[38;5;28;01mfor\u001B[39;00m child \u001B[38;5;129;01min\u001B[39;00m children:\n\u001B[32m--> \u001B[39m\u001B[32m464\u001B[39m     \u001B[38;5;28;43mself\u001B[39;49m\u001B[43m.\u001B[49m\u001B[43mvisit\u001B[49m\u001B[43m(\u001B[49m\u001B[43mchild\u001B[49m\u001B[43m)\u001B[49m\n\u001B[32m    465\u001B[39m \u001B[38;5;28mself\u001B[39m.stack.pop()\n\u001B[32m    466\u001B[39m \u001B[38;5;28mself\u001B[39m.stack.pop()\n",
      "\u001B[36mFile \u001B[39m\u001B[32mC:\\Python312\\Lib\\ast.py:407\u001B[39m, in \u001B[36mNodeVisitor.visit\u001B[39m\u001B[34m(self, node)\u001B[39m\n\u001B[32m    405\u001B[39m method = \u001B[33m'\u001B[39m\u001B[33mvisit_\u001B[39m\u001B[33m'\u001B[39m + node.\u001B[34m__class__\u001B[39m.\u001B[34m__name__\u001B[39m\n\u001B[32m    406\u001B[39m visitor = \u001B[38;5;28mgetattr\u001B[39m(\u001B[38;5;28mself\u001B[39m, method, \u001B[38;5;28mself\u001B[39m.generic_visit)\n\u001B[32m--> \u001B[39m\u001B[32m407\u001B[39m \u001B[38;5;28;01mreturn\u001B[39;00m \u001B[43mvisitor\u001B[49m\u001B[43m(\u001B[49m\u001B[43mnode\u001B[49m\u001B[43m)\u001B[49m\n",
      "\u001B[36mFile \u001B[39m\u001B[32mC:\\Python312\\Lib\\ast.py:415\u001B[39m, in \u001B[36mNodeVisitor.generic_visit\u001B[39m\u001B[34m(self, node)\u001B[39m\n\u001B[32m    413\u001B[39m     \u001B[38;5;28;01mfor\u001B[39;00m item \u001B[38;5;129;01min\u001B[39;00m value:\n\u001B[32m    414\u001B[39m         \u001B[38;5;28;01mif\u001B[39;00m \u001B[38;5;28misinstance\u001B[39m(item, AST):\n\u001B[32m--> \u001B[39m\u001B[32m415\u001B[39m             \u001B[38;5;28;43mself\u001B[39;49m\u001B[43m.\u001B[49m\u001B[43mvisit\u001B[49m\u001B[43m(\u001B[49m\u001B[43mitem\u001B[49m\u001B[43m)\u001B[49m\n\u001B[32m    416\u001B[39m \u001B[38;5;28;01melif\u001B[39;00m \u001B[38;5;28misinstance\u001B[39m(value, AST):\n\u001B[32m    417\u001B[39m     \u001B[38;5;28mself\u001B[39m.visit(value)\n",
      "\u001B[36mFile \u001B[39m\u001B[32mC:\\Python312\\Lib\\ast.py:407\u001B[39m, in \u001B[36mNodeVisitor.visit\u001B[39m\u001B[34m(self, node)\u001B[39m\n\u001B[32m    405\u001B[39m method = \u001B[33m'\u001B[39m\u001B[33mvisit_\u001B[39m\u001B[33m'\u001B[39m + node.\u001B[34m__class__\u001B[39m.\u001B[34m__name__\u001B[39m\n\u001B[32m    406\u001B[39m visitor = \u001B[38;5;28mgetattr\u001B[39m(\u001B[38;5;28mself\u001B[39m, method, \u001B[38;5;28mself\u001B[39m.generic_visit)\n\u001B[32m--> \u001B[39m\u001B[32m407\u001B[39m \u001B[38;5;28;01mreturn\u001B[39;00m \u001B[43mvisitor\u001B[49m\u001B[43m(\u001B[49m\u001B[43mnode\u001B[49m\u001B[43m)\u001B[49m\n",
      "\u001B[36mFile \u001B[39m\u001B[32mC:\\Python312\\Lib\\ast.py:415\u001B[39m, in \u001B[36mNodeVisitor.generic_visit\u001B[39m\u001B[34m(self, node)\u001B[39m\n\u001B[32m    413\u001B[39m     \u001B[38;5;28;01mfor\u001B[39;00m item \u001B[38;5;129;01min\u001B[39;00m value:\n\u001B[32m    414\u001B[39m         \u001B[38;5;28;01mif\u001B[39;00m \u001B[38;5;28misinstance\u001B[39m(item, AST):\n\u001B[32m--> \u001B[39m\u001B[32m415\u001B[39m             \u001B[38;5;28;43mself\u001B[39;49m\u001B[43m.\u001B[49m\u001B[43mvisit\u001B[49m\u001B[43m(\u001B[49m\u001B[43mitem\u001B[49m\u001B[43m)\u001B[49m\n\u001B[32m    416\u001B[39m \u001B[38;5;28;01melif\u001B[39;00m \u001B[38;5;28misinstance\u001B[39m(value, AST):\n\u001B[32m    417\u001B[39m     \u001B[38;5;28mself\u001B[39m.visit(value)\n",
      "\u001B[36mFile \u001B[39m\u001B[32mC:\\Python312\\Lib\\ast.py:407\u001B[39m, in \u001B[36mNodeVisitor.visit\u001B[39m\u001B[34m(self, node)\u001B[39m\n\u001B[32m    405\u001B[39m method = \u001B[33m'\u001B[39m\u001B[33mvisit_\u001B[39m\u001B[33m'\u001B[39m + node.\u001B[34m__class__\u001B[39m.\u001B[34m__name__\u001B[39m\n\u001B[32m    406\u001B[39m visitor = \u001B[38;5;28mgetattr\u001B[39m(\u001B[38;5;28mself\u001B[39m, method, \u001B[38;5;28mself\u001B[39m.generic_visit)\n\u001B[32m--> \u001B[39m\u001B[32m407\u001B[39m \u001B[38;5;28;01mreturn\u001B[39;00m \u001B[43mvisitor\u001B[49m\u001B[43m(\u001B[49m\u001B[43mnode\u001B[49m\u001B[43m)\u001B[49m\n",
      "\u001B[36mFile \u001B[39m\u001B[32mC:\\Python312\\Lib\\ast.py:417\u001B[39m, in \u001B[36mNodeVisitor.generic_visit\u001B[39m\u001B[34m(self, node)\u001B[39m\n\u001B[32m    415\u001B[39m             \u001B[38;5;28mself\u001B[39m.visit(item)\n\u001B[32m    416\u001B[39m \u001B[38;5;28;01melif\u001B[39;00m \u001B[38;5;28misinstance\u001B[39m(value, AST):\n\u001B[32m--> \u001B[39m\u001B[32m417\u001B[39m     \u001B[38;5;28;43mself\u001B[39;49m\u001B[43m.\u001B[49m\u001B[43mvisit\u001B[49m\u001B[43m(\u001B[49m\u001B[43mvalue\u001B[49m\u001B[43m)\u001B[49m\n",
      "\u001B[36mFile \u001B[39m\u001B[32mC:\\Python312\\Lib\\ast.py:407\u001B[39m, in \u001B[36mNodeVisitor.visit\u001B[39m\u001B[34m(self, node)\u001B[39m\n\u001B[32m    405\u001B[39m method = \u001B[33m'\u001B[39m\u001B[33mvisit_\u001B[39m\u001B[33m'\u001B[39m + node.\u001B[34m__class__\u001B[39m.\u001B[34m__name__\u001B[39m\n\u001B[32m    406\u001B[39m visitor = \u001B[38;5;28mgetattr\u001B[39m(\u001B[38;5;28mself\u001B[39m, method, \u001B[38;5;28mself\u001B[39m.generic_visit)\n\u001B[32m--> \u001B[39m\u001B[32m407\u001B[39m \u001B[38;5;28;01mreturn\u001B[39;00m \u001B[43mvisitor\u001B[49m\u001B[43m(\u001B[49m\u001B[43mnode\u001B[49m\u001B[43m)\u001B[49m\n",
      "\u001B[36mFile \u001B[39m\u001B[32mC:\\Python312\\Lib\\ast.py:417\u001B[39m, in \u001B[36mNodeVisitor.generic_visit\u001B[39m\u001B[34m(self, node)\u001B[39m\n\u001B[32m    415\u001B[39m             \u001B[38;5;28mself\u001B[39m.visit(item)\n\u001B[32m    416\u001B[39m \u001B[38;5;28;01melif\u001B[39;00m \u001B[38;5;28misinstance\u001B[39m(value, AST):\n\u001B[32m--> \u001B[39m\u001B[32m417\u001B[39m     \u001B[38;5;28;43mself\u001B[39;49m\u001B[43m.\u001B[49m\u001B[43mvisit\u001B[49m\u001B[43m(\u001B[49m\u001B[43mvalue\u001B[49m\u001B[43m)\u001B[49m\n",
      "\u001B[36mFile \u001B[39m\u001B[32mC:\\Python312\\Lib\\ast.py:407\u001B[39m, in \u001B[36mNodeVisitor.visit\u001B[39m\u001B[34m(self, node)\u001B[39m\n\u001B[32m    405\u001B[39m method = \u001B[33m'\u001B[39m\u001B[33mvisit_\u001B[39m\u001B[33m'\u001B[39m + node.\u001B[34m__class__\u001B[39m.\u001B[34m__name__\u001B[39m\n\u001B[32m    406\u001B[39m visitor = \u001B[38;5;28mgetattr\u001B[39m(\u001B[38;5;28mself\u001B[39m, method, \u001B[38;5;28mself\u001B[39m.generic_visit)\n\u001B[32m--> \u001B[39m\u001B[32m407\u001B[39m \u001B[38;5;28;01mreturn\u001B[39;00m \u001B[43mvisitor\u001B[49m\u001B[43m(\u001B[49m\u001B[43mnode\u001B[49m\u001B[43m)\u001B[49m\n",
      "\u001B[36mFile \u001B[39m\u001B[32mC:\\Python312\\Lib\\ast.py:417\u001B[39m, in \u001B[36mNodeVisitor.generic_visit\u001B[39m\u001B[34m(self, node)\u001B[39m\n\u001B[32m    415\u001B[39m             \u001B[38;5;28mself\u001B[39m.visit(item)\n\u001B[32m    416\u001B[39m \u001B[38;5;28;01melif\u001B[39;00m \u001B[38;5;28misinstance\u001B[39m(value, AST):\n\u001B[32m--> \u001B[39m\u001B[32m417\u001B[39m     \u001B[38;5;28;43mself\u001B[39;49m\u001B[43m.\u001B[49m\u001B[43mvisit\u001B[49m\u001B[43m(\u001B[49m\u001B[43mvalue\u001B[49m\u001B[43m)\u001B[49m\n",
      "\u001B[36mFile \u001B[39m\u001B[32mC:\\Python312\\Lib\\ast.py:407\u001B[39m, in \u001B[36mNodeVisitor.visit\u001B[39m\u001B[34m(self, node)\u001B[39m\n\u001B[32m    405\u001B[39m method = \u001B[33m'\u001B[39m\u001B[33mvisit_\u001B[39m\u001B[33m'\u001B[39m + node.\u001B[34m__class__\u001B[39m.\u001B[34m__name__\u001B[39m\n\u001B[32m    406\u001B[39m visitor = \u001B[38;5;28mgetattr\u001B[39m(\u001B[38;5;28mself\u001B[39m, method, \u001B[38;5;28mself\u001B[39m.generic_visit)\n\u001B[32m--> \u001B[39m\u001B[32m407\u001B[39m \u001B[38;5;28;01mreturn\u001B[39;00m \u001B[43mvisitor\u001B[49m\u001B[43m(\u001B[49m\u001B[43mnode\u001B[49m\u001B[43m)\u001B[49m\n",
      "\u001B[36mFile \u001B[39m\u001B[32mC:\\Python312\\Lib\\ast.py:411\u001B[39m, in \u001B[36mNodeVisitor.generic_visit\u001B[39m\u001B[34m(self, node)\u001B[39m\n\u001B[32m    409\u001B[39m \u001B[38;5;28;01mdef\u001B[39;00m\u001B[38;5;250m \u001B[39m\u001B[34mgeneric_visit\u001B[39m(\u001B[38;5;28mself\u001B[39m, node):\n\u001B[32m    410\u001B[39m \u001B[38;5;250m    \u001B[39m\u001B[33;03m\"\"\"Called if no explicit visitor function exists for a node.\"\"\"\u001B[39;00m\n\u001B[32m--> \u001B[39m\u001B[32m411\u001B[39m \u001B[43m    \u001B[49m\u001B[38;5;28;43;01mfor\u001B[39;49;00m\u001B[43m \u001B[49m\u001B[43mfield\u001B[49m\u001B[43m,\u001B[49m\u001B[43m \u001B[49m\u001B[43mvalue\u001B[49m\u001B[43m \u001B[49m\u001B[38;5;129;43;01min\u001B[39;49;00m\u001B[43m \u001B[49m\u001B[43miter_fields\u001B[49m\u001B[43m(\u001B[49m\u001B[43mnode\u001B[49m\u001B[43m)\u001B[49m\u001B[43m:\u001B[49m\n\u001B[32m    412\u001B[39m \u001B[43m        \u001B[49m\u001B[38;5;28;43;01mif\u001B[39;49;00m\u001B[43m \u001B[49m\u001B[38;5;28;43misinstance\u001B[39;49m\u001B[43m(\u001B[49m\u001B[43mvalue\u001B[49m\u001B[43m,\u001B[49m\u001B[43m \u001B[49m\u001B[38;5;28;43mlist\u001B[39;49m\u001B[43m)\u001B[49m\u001B[43m:\u001B[49m\n\u001B[32m    413\u001B[39m \u001B[43m            \u001B[49m\u001B[38;5;28;43;01mfor\u001B[39;49;00m\u001B[43m \u001B[49m\u001B[43mitem\u001B[49m\u001B[43m \u001B[49m\u001B[38;5;129;43;01min\u001B[39;49;00m\u001B[43m \u001B[49m\u001B[43mvalue\u001B[49m\u001B[43m:\u001B[49m\n",
      "\u001B[36mFile \u001B[39m\u001B[32mC:\\Python312\\Lib\\ast.py:264\u001B[39m, in \u001B[36miter_fields\u001B[39m\u001B[34m(node)\u001B[39m\n\u001B[32m    262\u001B[39m \u001B[38;5;28;01mfor\u001B[39;00m field \u001B[38;5;129;01min\u001B[39;00m node._fields:\n\u001B[32m    263\u001B[39m     \u001B[38;5;28;01mtry\u001B[39;00m:\n\u001B[32m--> \u001B[39m\u001B[32m264\u001B[39m         \u001B[38;5;28;01myield\u001B[39;00m field, \u001B[38;5;28mgetattr\u001B[39m(node, field)\n\u001B[32m    265\u001B[39m     \u001B[38;5;28;01mexcept\u001B[39;00m \u001B[38;5;167;01mAttributeError\u001B[39;00m:\n\u001B[32m    266\u001B[39m         \u001B[38;5;28;01mpass\u001B[39;00m\n",
      "\u001B[31mKeyboardInterrupt\u001B[39m: "
     ]
    }
   ],
   "execution_count": 26
  },
  {
   "metadata": {
    "ExecuteTime": {
     "end_time": "2025-06-23T07:15:53.134729Z",
     "start_time": "2025-06-23T07:15:08.999441Z"
    }
   },
   "cell_type": "code",
   "source": [
    "# Pulizia del dataset actors\n",
    "actors = pd.read_csv(\"./main_data/actors.csv\")\n",
    "\n",
    "nomiNulli = actors[\"name\"].isna().sum()\n",
    "ruoliNulli = actors[\"role\"].isna().sum()\n",
    "righe_entrambi_nan = actors[actors[\"name\"].isna() & actors[\"role\"].isna()]\n",
    "\n",
    "print(f\"Numero di NaN nella colonna 'name' sono: {nomiNulli}\")\n",
    "print(f\"Numero di NaN nella colonna 'role' sono: {ruoliNulli}\")\n",
    "print(f\"Numero di righe con 'name' E 'role' NaN (verranno eliminate): {len(righe_entrambi_nan)}\")\n",
    "\n",
    "# Rimuovi righe dove sia 'name' che 'role' sono NaN\n",
    "actors.dropna(subset=[\"name\", \"role\"], how=\"all\", inplace=True)\n",
    "\n",
    "name_nan_residui = actors[\"name\"].isna().sum()\n",
    "role_nan_residui = actors[\"role\"].isna().sum()\n",
    "\n",
    "print(f\"Numero di 'name' NaN residui prima della sostituzione: {name_nan_residui}\")\n",
    "print(f\"Numero di 'role' NaN residui prima della sostituzione: {role_nan_residui}\")\n",
    "\n",
    "# Sostituisci i NaN residui con 'Sconosciuto'\n",
    "actors[\"name\"] = actors[\"name\"].fillna(\"Sconosciuto\")\n",
    "actors[\"role\"] = actors[\"role\"].fillna(\"Sconosciuto\")\n",
    "\n",
    "name_sconosciuto = (actors[\"name\"] == \"Sconosciuto\").sum()\n",
    "role_sconosciuto = (actors[\"role\"] == \"Sconosciuto\").sum()\n",
    "\n",
    "print(f\"Numero di 'name' settati a 'Sconosciuto': {name_sconosciuto}\")\n",
    "print(f\"Numero di 'role' settati a 'Sconosciuto': {role_sconosciuto}\")\n",
    "\n",
    "# Duplicati\n",
    "duplicatiMask = actors.duplicated(subset=[\"id\", \"name\", \"role\"], keep=False)\n",
    "numeroDuplicati = duplicatiMask.sum()\n",
    "\n",
    "print(f\"Numero di duplicati in actors: {numeroDuplicati}\")\n",
    "\n",
    "# Elimina duplicati\n",
    "actors.drop_duplicates(subset=[\"id\", \"name\", \"role\"], inplace=True)\n",
    "\n",
    "# Controllo: righe con valori non stringa (escludendo la colonna 'id')\n",
    "non_string_mask = actors.drop(columns=\"id\").map(lambda x: not isinstance(x, str))\n",
    "righe_con_errori = actors[non_string_mask.any(axis=1)]\n",
    "\n",
    "print(f\"Numero di righe con valori non stringa (escluse 'id'): {len(righe_con_errori)}\")\n",
    "if not righe_con_errori.empty:\n",
    "    print(righe_con_errori.head(10))"
   ],
   "id": "99addcc4636009ae",
   "outputs": [
    {
     "name": "stdout",
     "output_type": "stream",
     "text": [
      "Numero di NaN nella colonna 'name' sono: 4\n",
      "Numero di NaN nella colonna 'role' sono: 1361559\n",
      "Numero di righe con 'name' E 'role' NaN (verranno eliminate): 2\n",
      "Numero di 'name' NaN residui prima della sostituzione: 2\n",
      "Numero di 'role' NaN residui prima della sostituzione: 1361557\n",
      "Numero di 'name' settati a 'Sconosciuto': 2\n",
      "Numero di 'role' settati a 'Sconosciuto': 1361559\n",
      "Numero di duplicati in actors: 1826\n",
      "Numero di righe con valori non stringa (escluse 'id'): 0\n"
     ]
    }
   ],
   "execution_count": 28
  },
  {
   "metadata": {
    "ExecuteTime": {
     "end_time": "2025-06-23T07:27:03.079554Z",
     "start_time": "2025-06-23T07:26:36.033708Z"
    }
   },
   "cell_type": "code",
   "source": [
    "# Pulizia del dataset crew\n",
    "crew = pd.read_csv(\"./main_data/crew.csv\")\n",
    "\n",
    "nomiNulli = crew[\"name\"].isna().sum()\n",
    "ruoliNulli = crew[\"role\"].isna().sum()\n",
    "righe_entrambi_nan = crew[crew[\"name\"].isna() & crew[\"role\"].isna()]\n",
    "\n",
    "print(f\"Numero di NaN nella colonna 'name' sono: {nomiNulli}\")\n",
    "print(f\"Numero di NaN nella colonna 'role' sono: {ruoliNulli}\")\n",
    "print(f\"Numero di righe con 'name' E 'role' NaN (verranno eliminate): {len(righe_entrambi_nan)}\")\n",
    "\n",
    "# Rimuovi righe dove sia 'name' che 'role' sono NaN\n",
    "crew.dropna(subset=[\"name\", \"role\"], how=\"all\", inplace=True)\n",
    "\n",
    "name_nan_residui = crew[\"name\"].isna().sum()\n",
    "role_nan_residui = crew[\"role\"].isna().sum()\n",
    "\n",
    "print(f\"Numero di 'name' NaN residui prima della sostituzione: {name_nan_residui}\")\n",
    "print(f\"Numero di 'role' NaN residui prima della sostituzione: {role_nan_residui}\")\n",
    "\n",
    "# Sostituisci i NaN residui con 'Sconosciuto'\n",
    "crew[\"name\"] = crew[\"name\"].fillna(\"Sconosciuto\")\n",
    "crew[\"role\"] = crew[\"role\"].fillna(\"Sconosciuto\")\n",
    "\n",
    "name_sconosciuto = (crew[\"name\"] == \"Sconosciuto\").sum()\n",
    "role_sconosciuto = (crew[\"role\"] == \"Sconosciuto\").sum()\n",
    "\n",
    "print(f\"Numero di 'name' settati a 'Sconosciuto': {name_sconosciuto}\")\n",
    "print(f\"Numero di 'role' settati a 'Sconosciuto': {role_sconosciuto}\")\n",
    "\n",
    "# Duplicati\n",
    "duplicatiMask = crew.duplicated(subset=[\"id\", \"name\", \"role\"], keep=False)\n",
    "duplicati = duplicatiMask.sum()\n",
    "\n",
    "print(f\"Numero di duplicati in crew: {duplicati}\")\n",
    "\n",
    "crew.drop_duplicates(subset=[\"id\", \"name\", \"role\"],inplace=True)\n",
    "\n",
    "# Controllo: righe con valori non stringa (escludendo la colonna 'id')\n",
    "non_string_mask = crew.drop(columns=\"id\").map(lambda x: not isinstance(x, str))\n",
    "righe_con_errori = crew[non_string_mask.any(axis=1)]\n",
    "\n",
    "print(f\"Numero di righe con valori non stringa (escluse 'id'): {len(righe_con_errori)}\")\n",
    "if not righe_con_errori.empty:\n",
    "    print(righe_con_errori.head(10))"
   ],
   "id": "9a501180be1b8cb7",
   "outputs": [
    {
     "name": "stdout",
     "output_type": "stream",
     "text": [
      "Numero di NaN nella colonna 'name' sono: 1\n",
      "Numero di NaN nella colonna 'role' sono: 0\n",
      "Numero di righe con 'name' E 'role' NaN (verranno eliminate): 0\n",
      "Numero di 'name' NaN residui prima della sostituzione: 1\n",
      "Numero di 'role' NaN residui prima della sostituzione: 0\n",
      "Numero di 'name' settati a 'Sconosciuto': 1\n",
      "Numero di 'role' settati a 'Sconosciuto': 0\n",
      "Numero di duplicati in crew: 2496\n",
      "Numero di righe con valori non stringa (escluse 'id'): 0\n"
     ]
    }
   ],
   "execution_count": 29
  },
  {
   "metadata": {
    "ExecuteTime": {
     "end_time": "2025-06-23T08:12:06.357324Z",
     "start_time": "2025-06-23T08:12:03.318704Z"
    }
   },
   "cell_type": "code",
   "source": [
    "#pulizia dataset Generi\n",
    "genres = pd.read_csv(\"./main_data/genres.csv\")\n",
    "\n",
    "generiNulli = genres['genre'].isna().sum()\n",
    "print(f\"Numero di NaN nella colonna 'genre' sono: {nomiNulli}\")\n",
    "genres.dropna(subset=[\"genre\"],inplace=True)\n",
    "genres.drop_duplicates(subset=[\"id\", \"genre\"],inplace=True)\n",
    "\n",
    "# 1. Uniforma tutto in minuscolo\n",
    "genres['genre'] = genres['genre'].str.lower()\n",
    "\n",
    "# 2. Rimuovi spazi bianchi residui (prima e dopo)\n",
    "genres['genre'] = genres['genre'].str.strip()\n",
    "\n",
    "# 3. Correggi varianti e errori di scrittura con una mappatura di sostituzione\n",
    "correzioni = {\n",
    "    'scifi': 'science fiction',\n",
    "    'sci-fi': 'science fiction',\n",
    "    'documentaries': 'documentary',\n",
    "    'tv movies': 'tv movie'\n",
    "}\n",
    "\n",
    "genres['genre'] = genres['genre'].replace(correzioni)\n",
    "\n",
    "# 4. Visualizza i generi unici finali per controllo\n",
    "print(\"Generi unici dopo pulizia:\")\n",
    "print(genres['genre'].unique())"
   ],
   "id": "d48e7bab17c92095",
   "outputs": [
    {
     "name": "stdout",
     "output_type": "stream",
     "text": [
      "Numero di NaN nella colonna 'genre' sono: 1\n",
      "Generi unici dopo pulizia:\n",
      "['comedy' 'adventure' 'thriller' 'drama' 'science fiction' 'action'\n",
      " 'music' 'romance' 'history' 'crime' 'animation' 'mystery' 'horror'\n",
      " 'family' 'fantasy' 'war' 'western' 'tv movie' 'documentary']\n"
     ]
    }
   ],
   "execution_count": 30
  },
  {
   "metadata": {
    "ExecuteTime": {
     "end_time": "2025-06-23T09:06:17.914332Z",
     "start_time": "2025-06-23T09:06:07.558125Z"
    }
   },
   "cell_type": "code",
   "source": [
    "#pulizia dataset lingue\n",
    "languages = pd.read_csv(\"./main_data/languages.csv\")\n",
    "\n",
    "# 1. Se type è NaN ma language c'è, metti type = \"language\"\n",
    "languages.loc[languages['type'].isna() & languages['language'].notna(), 'type'] = 'language'\n",
    "\n",
    "# 2. Droppa righe dove manca language (NaN) o manca sia type che language\n",
    "languages.dropna(subset=['language'], inplace=True)\n",
    "languages.dropna(subset=['type'], inplace=True)\n",
    "\n",
    "# 3. Rimuovi duplicati perfetti su id, type, language (prima di uniformare)\n",
    "languages.drop_duplicates(subset=['id', 'type', 'language'], inplace=True)\n",
    "\n",
    "# 4. Uniforma: strip spazi e lowercase su 'type' e 'language'\n",
    "languages['type'] = languages['type'].str.strip().str.lower()\n",
    "languages['language'] = languages['language'].str.strip().str.lower()\n",
    "\n",
    "# 5. Correzioni con mapping per 'type' e 'language'\n",
    "type_corrections = {\n",
    "    'spoken language': 'spoken language',\n",
    "    'language': 'language',\n",
    "    'primary language': 'primary language',\n",
    "    # eventuali altre correzioni o sinonimi\n",
    "}\n",
    "languages['type'] = languages['type'].replace(type_corrections)\n",
    "\n",
    "\n",
    "languages['language'] = languages['language'].str.replace('\\xa0', ' ', regex=False).str.strip()\n",
    "\n",
    "# Dividi le stringhe con virgole in liste\n",
    "languages['language'] = languages['language'].str.split(',')\n",
    "languages = languages.explode('language')\n",
    "languages['language'] = languages['language'].str.strip()\n",
    "\n",
    "\n",
    "language_corrections = {\n",
    "    'eng': 'english',\n",
    "    'haitian creole': 'haitian creole',\n",
    "    'persian (farsi)': 'persian',\n",
    "    'hebrew (modern)': 'hebrew',\n",
    "    'greek (modern)': 'greek',\n",
    "    'tibetan standard': 'tibetan',\n",
    "    'tibetan central': 'tibetan',\n",
    "    'chewa': 'chichewa',\n",
    "    'nyanja': 'chichewa',\n",
    "    'gaelic': 'scottish gaelic',\n",
    "    'navaho': 'navajo',\n",
    "    'chuang': 'zhuang',\n",
    "    'interlingue': 'interlingua',\n",
    "    'ojibwa': 'ojibwe',\n",
    "    'puular': 'fula',\n",
    "    'pular': 'fula',\n",
    "    'fulah': 'fula',\n",
    "    'pulaar': 'fula',\n",
    "    'old church slavonic': 'church slavonic',\n",
    "    'old bulgarian': 'church slavonic',\n",
    "    'pushto': 'pashto',\n",
    "    'ossetic': 'ossetian',\n",
    "    'limburgan': 'limburgish',\n",
    "    'limburger': 'limburgish',\n",
    "    'eastern panjabi': 'eastern punjabi',\n",
    "    'kuanyama': 'kwanyama',\n",
    "    \"sanskrit (saṁskṛta)\": \"sanskrit\",\n",
    "    \"divehi\": \"dhivehi\",\n",
    "    'tonga (tonga islands)': 'tonga',\n",
    "    # eventuali altre correzioni o sinonimi\n",
    "}\n",
    "languages['language'] = languages['language'].replace(language_corrections)\n",
    "\n",
    "# 6. (opzionale) Mostra valori unici per controllo finale\n",
    "print(\"Valori unici in 'type':\", languages['type'].unique())\n",
    "print(\"Valori unici in 'language':\", languages['language'].unique())"
   ],
   "id": "66c88a40d6f8ce0",
   "outputs": [
    {
     "name": "stdout",
     "output_type": "stream",
     "text": [
      "Valori unici in 'type': ['language' 'primary language' 'spoken language']\n",
      "Valori unici in 'language': ['english' 'korean' 'german' 'cantonese' 'chinese' 'dutch' 'spanish'\n",
      " 'french' 'japanese' 'swedish' 'swahili' 'portuguese' 'hindi' 'italian'\n",
      " 'tagalog' 'xhosa' 'latin' 'russian' 'finnish' 'hungarian' 'somali'\n",
      " 'romanian' 'vietnamese' 'turkish' 'czech' 'estonian' 'persian' 'urdu'\n",
      " 'arabic' 'polish' 'hebrew' 'greek' 'yiddish' 'norwegian' 'haitian'\n",
      " 'haitian creole' 'khmer' 'nepali' 'akan' 'icelandic' 'malay'\n",
      " 'eastern punjabi' 'georgian' 'indonesian' 'belarusian' 'danish' 'tamil'\n",
      " 'sinhalese' 'sinhala' 'tibetan' 'central' 'armenian' 'thai' 'telugu'\n",
      " 'scottish gaelic' 'northern sami' 'esperanto' 'bulgarian' 'afrikaans'\n",
      " 'chichewa' 'southern sotho' 'zulu' 'irish' 'breton' 'croatian' 'bengali'\n",
      " 'bangla' 'welsh' 'navajo' 'albanian' 'inuktitut' 'catalan' 'quechua'\n",
      " 'azerbaijani' 'samoan' 'ukrainian' 'mongolian' 'māori' 'tatar' 'mayan'\n",
      " 'fula' 'slovak' 'lithuanian' 'cree' 'lao' 'galician' 'amharic' 'serbian'\n",
      " 'moldavian' 'serbo-croatian' 'cornish' 'wolof' 'pashto' 'twi' 'corsican'\n",
      " 'bambara' 'sanskrit (saṁskṛta)' 'macedonian' 'burmese' 'maltese'\n",
      " 'bosnian' 'no spoken language' 'marathi' 'ido' 'guaraní' 'kurdish'\n",
      " 'ganda' 'hausa' 'tahitian' 'latvian' 'lingala' 'gujarati' 'malayalam'\n",
      " 'basque' 'javanese' 'tswana' 'sundanese' 'kinyarwanda' 'kirundi' 'afar'\n",
      " 'dzongkha' 'tola' 'kannada' 'uzbek' 'ojibwe' 'igbo' 'ewe' 'pāli'\n",
      " 'chechen' 'kashmiri' 'oromo' 'kalaallisut' 'greenlandic' 'tajik'\n",
      " 'slovene' 'aymara' 'sardinian' 'assamese' 'ossetian' 'occitan' 'avaric'\n",
      " 'bislama' 'kyrgyz' 'kazakh' 'aragonese' 'yolngu matha' 'malagasy'\n",
      " 'gibberish' 'kikuyu' 'gikuyu' 'yoruba' 'maithili' 'uyghur' 'sango'\n",
      " 'nuosu' 'hiri motu' 'kongo' 'tonga' 'shona' 'luxembourgish'\n",
      " 'letzeburgesch' 'sindhi' 'chuvash' 'fijian' 'mari' 'walloon' 'abkhaz'\n",
      " 'inupiaq' 'turkmen' 'faroese' 'marshallese' 'romansh' 'western frisian'\n",
      " 'norwegian bokmål' 'oriya' 'church slavonic' 'herero' 'southern ndebele'\n",
      " 'tigrinya' 'ndonga' 'limburgish' 'swati' 'norwegian nynorsk' 'bashkir'\n",
      " 'interlingua' 'manx' 'nauruan' 'divehi' 'dhivehi' 'maldivian' 'venda'\n",
      " 'northern ndebele' 'chamorro' 'zhuang' 'luba-katanga' 'kwanyama'\n",
      " 'kuanyama' 'tsonga' 'komi' 'avestan' 'volapük']\n"
     ]
    }
   ],
   "execution_count": 35
  },
  {
   "metadata": {
    "ExecuteTime": {
     "end_time": "2025-06-22T14:21:14.052791Z",
     "start_time": "2025-06-22T14:21:11.416062Z"
    }
   },
   "cell_type": "code",
   "source": [
    "# Pulizia del dataset movies\n",
    "# Eliminiamo gli id duplicati\n",
    "movies.drop_duplicates(subset=movies.columns.difference(['id']), keep='first',inplace=True)\n",
    "\n",
    "# Eliminiamo i dulicati che hanno id diverso ma tutti gli altri campi uguali\n",
    "movies.drop_duplicates(subset=[\"name\",\"date\",\"tagline\",\"description\",\"minutes\",\"rating\"],inplace=True)\n",
    "\n",
    "# Contiamo, per farci un'idea, i campi NaN\n",
    "nomiNulli = movies[\"name\"].isna().sum()\n",
    "print(f\"Numero di NaN nella colonna 'name': {nomiNulli}\")\n",
    "dateNulle = movies[\"date\"].isna().sum()\n",
    "print(f\"Numero di NaN nella colonna 'date': {dateNulle}\")\n",
    "minutiNulli = movies[\"minutes\"].isna().sum()\n",
    "print(f\"Numero di NaN nella colonna 'minute': {minutiNulli}\")\n",
    "ratingNullo = movies[\"rating\"].isna().sum()\n",
    "print(f\"Numero di NaN nella colonna 'rating': {ratingNullo}\")\n",
    "\n",
    "\n",
    "\n",
    "# Eliminiamo i 2 dati sui film NaN\n",
    "movies.dropna(subset=[\"name\"],inplace=True)\n",
    "nomiNulli = movies[\"name\"].isna().sum()\n",
    "print(f\"Numero di NaN nella colonna 'name': {nomiNulli}\")"
   ],
   "id": "b7987926c3f050e4",
   "outputs": [
    {
     "name": "stdout",
     "output_type": "stream",
     "text": [
      "Numero di NaN nella colonna 'name': 5\n",
      "Numero di NaN nella colonna 'date': 89827\n",
      "Numero di NaN nella colonna 'minute': 179090\n",
      "Numero di NaN nella colonna 'rating': 846551\n",
      "Numero di NaN nella colonna 'name': 0\n"
     ]
    }
   ],
   "execution_count": 8
  },
  {
   "metadata": {
    "ExecuteTime": {
     "end_time": "2025-06-22T14:21:45.096800Z",
     "start_time": "2025-06-22T14:21:45.076619Z"
    }
   },
   "cell_type": "code",
   "source": [
    "non_nan_date_movies = movies[\"date\"].dropna()\n",
    "# Controlliamo se tutti i valori non NaN sono compresi tra 1888 e 2024\n",
    "are_all_in_range = non_nan_date_movies.between(1877, 2025).all()\n",
    "\n",
    "if are_all_in_range:\n",
    "    print(\"Tutti i valori non NaN nella colonna 'date' sono compresi tra 1888 e 2024.\")\n",
    "else:\n",
    "    print(\"Alcuni valori non NaN nella colonna 'date' NON rientrano nel range 1888-2024.\")\n",
    "\n",
    "#############\n",
    "\n",
    "# Troviamo i valori non NaN che non sono compresi tra 1888 e 2025\n",
    "out_of_range = non_nan_date_movies[~non_nan_date_movies.between(1877, 2024)]\n",
    "\n",
    "print(\"Valori non NaN che NON rientrano nel range 1888-2024:\")\n",
    "print(out_of_range)"
   ],
   "id": "1edbecb79c6772fd",
   "outputs": [
    {
     "name": "stdout",
     "output_type": "stream",
     "text": [
      "Alcuni valori non NaN nella colonna 'date' NON rientrano nel range 1888-2024.\n",
      "Valori non NaN che NON rientrano nel range 1888-2024:\n",
      "3657      2025.0\n",
      "4679      2026.0\n",
      "7227      2025.0\n",
      "7441      2025.0\n",
      "7787      2025.0\n",
      "           ...  \n",
      "932230    2025.0\n",
      "940009    2030.0\n",
      "940010    2025.0\n",
      "940011    2025.0\n",
      "940012    2025.0\n",
      "Name: date, Length: 416, dtype: float64\n"
     ]
    }
   ],
   "execution_count": 9
  },
  {
   "metadata": {
    "ExecuteTime": {
     "end_time": "2025-06-23T12:46:36.315800Z",
     "start_time": "2025-06-23T12:46:13.381872Z"
    }
   },
   "cell_type": "code",
   "source": [
    "# Pulizia del dataset studios\n",
    "import re\n",
    "from unidecode import unidecode\n",
    "\n",
    "# Carica il dataset\n",
    "studios = pd.read_csv(\"./main_data/studios.csv\")\n",
    "\n",
    "# Rimuove righe con 'studio' mancante\n",
    "studios.dropna(subset=[\"studio\"], inplace=True)\n",
    "\n",
    "# Funzione per singolarizzare\n",
    "def singularize_in_string(name):\n",
    "    plurals = {\n",
    "        \"films\": \"film\",\n",
    "        \"productions\": \"production\",\n",
    "        \"studios\": \"studio\",\n",
    "        \"movies\": \"movie\",\n",
    "        \"pictures\": \"picture\",\n",
    "        \"entertainments\": \"entertainment\",\n",
    "        \"distributions\": \"distribution\",\n",
    "        \"animations\": \"animation\",\n",
    "        \"creations\": \"creation\",\n",
    "        \"works\": \"work\",\n",
    "        \"industries\": \"industry\",\n",
    "        \"partners\": \"partner\",\n",
    "        \"associates\": \"associate\",\n",
    "        \"prod\": \"production\",\n",
    "        \"ent\": \"entertainment\",\n",
    "        \"assoc\": \"associate\"\n",
    "    }\n",
    "    for plural, singular in plurals.items():\n",
    "        name = re.sub(plural, singular, name)\n",
    "    return name\n",
    "\n",
    "# Funzione di pulizia\n",
    "def clean_studio_name(name):\n",
    "    name = name.lower().strip()\n",
    "    name = unidecode(name)\n",
    "    name = re.sub(r'[.,;:!&?\"\\'-]', ' ', name)\n",
    "    name = re.sub(r'\\s+', ' ', name).strip()\n",
    "    name = singularize_in_string(name)\n",
    "    return name\n",
    "\n",
    "# Pulisce la colonna 'studio' direttamente\n",
    "studios[\"studio\"] = studios[\"studio\"].apply(clean_studio_name)\n",
    "\n",
    "# Rimuove i duplicati (mantenendo la prima occorrenza con id)\n",
    "studios.drop_duplicates(subset=[\"studio\"], inplace=True)\n",
    "\n",
    "# Reset degli indici se vuoi\n",
    "studios.reset_index(drop=True, inplace=True)\n",
    "\n",
    "# Verifica finale\n",
    "print(f\"Numero di nomi studio unici dopo pulizia: {len(studios)}\")"
   ],
   "id": "b95493fade764ff6",
   "outputs": [
    {
     "name": "stdout",
     "output_type": "stream",
     "text": [
      "Numero di NaN nella colonna 'studio': 10\n",
      "Numero di NaN nella colonna 'studio': 0\n",
      "Numero di nomi studio unici prima della pulizia: 160881\n",
      "Numero di nomi studio unici dopo pulizia: 158238\n"
     ]
    }
   ],
   "execution_count": 53
  },
  {
   "metadata": {
    "ExecuteTime": {
     "end_time": "2025-06-22T14:22:57.637627Z",
     "start_time": "2025-06-22T14:22:56.799554Z"
    }
   },
   "cell_type": "code",
   "source": [
    "#pulizia del dataset releases\n",
    "releases.drop_duplicates(subset=[\"id\",\"country\",\"date\",\"type\",\"rating\"])"
   ],
   "id": "af52f73bc38adfab",
   "outputs": [
    {
     "data": {
      "text/plain": [
       "              id    country        date        type rating\n",
       "0        1000001    Andorra  2023-07-21  Theatrical    NaN\n",
       "1        1000001  Argentina  2023-07-20  Theatrical    ATP\n",
       "2        1000001  Australia  2023-07-19  Theatrical     PG\n",
       "3        1000001  Australia  2023-10-01     Digital     PG\n",
       "4        1000001    Austria  2023-07-20  Theatrical    NaN\n",
       "...          ...        ...         ...         ...    ...\n",
       "1332777  1940967        USA  1909-01-01  Theatrical    NaN\n",
       "1332778  1940968     Sweden  1908-11-11  Theatrical    NaN\n",
       "1332779  1940969     France  1902-01-01  Theatrical    NaN\n",
       "1332780  1940970     France  1902-01-01  Theatrical    NaN\n",
       "1332781  1940971     France  1902-01-01  Theatrical    NaN\n",
       "\n",
       "[1332782 rows x 5 columns]"
      ],
      "text/html": [
       "<div>\n",
       "<style scoped>\n",
       "    .dataframe tbody tr th:only-of-type {\n",
       "        vertical-align: middle;\n",
       "    }\n",
       "\n",
       "    .dataframe tbody tr th {\n",
       "        vertical-align: top;\n",
       "    }\n",
       "\n",
       "    .dataframe thead th {\n",
       "        text-align: right;\n",
       "    }\n",
       "</style>\n",
       "<table border=\"1\" class=\"dataframe\">\n",
       "  <thead>\n",
       "    <tr style=\"text-align: right;\">\n",
       "      <th></th>\n",
       "      <th>id</th>\n",
       "      <th>country</th>\n",
       "      <th>date</th>\n",
       "      <th>type</th>\n",
       "      <th>rating</th>\n",
       "    </tr>\n",
       "  </thead>\n",
       "  <tbody>\n",
       "    <tr>\n",
       "      <th>0</th>\n",
       "      <td>1000001</td>\n",
       "      <td>Andorra</td>\n",
       "      <td>2023-07-21</td>\n",
       "      <td>Theatrical</td>\n",
       "      <td>NaN</td>\n",
       "    </tr>\n",
       "    <tr>\n",
       "      <th>1</th>\n",
       "      <td>1000001</td>\n",
       "      <td>Argentina</td>\n",
       "      <td>2023-07-20</td>\n",
       "      <td>Theatrical</td>\n",
       "      <td>ATP</td>\n",
       "    </tr>\n",
       "    <tr>\n",
       "      <th>2</th>\n",
       "      <td>1000001</td>\n",
       "      <td>Australia</td>\n",
       "      <td>2023-07-19</td>\n",
       "      <td>Theatrical</td>\n",
       "      <td>PG</td>\n",
       "    </tr>\n",
       "    <tr>\n",
       "      <th>3</th>\n",
       "      <td>1000001</td>\n",
       "      <td>Australia</td>\n",
       "      <td>2023-10-01</td>\n",
       "      <td>Digital</td>\n",
       "      <td>PG</td>\n",
       "    </tr>\n",
       "    <tr>\n",
       "      <th>4</th>\n",
       "      <td>1000001</td>\n",
       "      <td>Austria</td>\n",
       "      <td>2023-07-20</td>\n",
       "      <td>Theatrical</td>\n",
       "      <td>NaN</td>\n",
       "    </tr>\n",
       "    <tr>\n",
       "      <th>...</th>\n",
       "      <td>...</td>\n",
       "      <td>...</td>\n",
       "      <td>...</td>\n",
       "      <td>...</td>\n",
       "      <td>...</td>\n",
       "    </tr>\n",
       "    <tr>\n",
       "      <th>1332777</th>\n",
       "      <td>1940967</td>\n",
       "      <td>USA</td>\n",
       "      <td>1909-01-01</td>\n",
       "      <td>Theatrical</td>\n",
       "      <td>NaN</td>\n",
       "    </tr>\n",
       "    <tr>\n",
       "      <th>1332778</th>\n",
       "      <td>1940968</td>\n",
       "      <td>Sweden</td>\n",
       "      <td>1908-11-11</td>\n",
       "      <td>Theatrical</td>\n",
       "      <td>NaN</td>\n",
       "    </tr>\n",
       "    <tr>\n",
       "      <th>1332779</th>\n",
       "      <td>1940969</td>\n",
       "      <td>France</td>\n",
       "      <td>1902-01-01</td>\n",
       "      <td>Theatrical</td>\n",
       "      <td>NaN</td>\n",
       "    </tr>\n",
       "    <tr>\n",
       "      <th>1332780</th>\n",
       "      <td>1940970</td>\n",
       "      <td>France</td>\n",
       "      <td>1902-01-01</td>\n",
       "      <td>Theatrical</td>\n",
       "      <td>NaN</td>\n",
       "    </tr>\n",
       "    <tr>\n",
       "      <th>1332781</th>\n",
       "      <td>1940971</td>\n",
       "      <td>France</td>\n",
       "      <td>1902-01-01</td>\n",
       "      <td>Theatrical</td>\n",
       "      <td>NaN</td>\n",
       "    </tr>\n",
       "  </tbody>\n",
       "</table>\n",
       "<p>1332782 rows × 5 columns</p>\n",
       "</div>"
      ]
     },
     "execution_count": 11,
     "metadata": {},
     "output_type": "execute_result"
    }
   ],
   "execution_count": 11
  },
  {
   "metadata": {},
   "cell_type": "code",
   "outputs": [],
   "execution_count": null,
   "source": " #pulizia dati",
   "id": "a71bc5078661a6eb"
  },
  {
   "metadata": {},
   "cell_type": "code",
   "outputs": [],
   "execution_count": null,
   "source": " #pulizia dati",
   "id": "58af2670c2077e47"
  },
  {
   "metadata": {},
   "cell_type": "code",
   "outputs": [],
   "execution_count": null,
   "source": " #pulizia dati",
   "id": "eb56c1f8a3d179f3"
  },
  {
   "metadata": {},
   "cell_type": "code",
   "outputs": [],
   "execution_count": null,
   "source": " #pulizia dati",
   "id": "2a94c16cd78691a7"
  },
  {
   "metadata": {},
   "cell_type": "code",
   "outputs": [],
   "execution_count": null,
   "source": " #pulizia dati",
   "id": "ae0c7e9288153746"
  },
  {
   "metadata": {
    "ExecuteTime": {
     "end_time": "2025-06-22T15:11:19.900911Z",
     "start_time": "2025-06-22T15:11:10.037424Z"
    }
   },
   "cell_type": "code",
   "source": [
    "#attori con più film\n",
    "\n",
    "import pandas as pd\n",
    "import plotly.express as px\n",
    "\n",
    "# 1. Conta il numero di film per attore (usando id unici)\n",
    "actor_film_counts = (\n",
    "    actors.groupby('name')['id']\n",
    "    .nunique()\n",
    "    .reset_index(name='Numero di Film')\n",
    "    .sort_values(by='Numero di Film', ascending=False)\n",
    ")\n",
    "\n",
    "# 2. Prendi i Top 10 attori\n",
    "top_actors = actor_film_counts.head(30)\n",
    "\n",
    "# 3. Crea il grafico bar con Plotly\n",
    "fig = px.bar(\n",
    "    top_actors,\n",
    "    x='name',\n",
    "    y='Numero di Film',\n",
    "    text='Numero di Film',\n",
    "    title='Top 10 Attori con più Film',\n",
    "    labels={'name': 'Attore', 'Numero di Film': 'Film Realizzati'},\n",
    "    template='plotly_white'\n",
    ")\n",
    "\n",
    "# 4. Migliora la leggibilità del grafico\n",
    "fig.update_traces(\n",
    "    textposition='outside',\n",
    "    marker_color='mediumseagreen'\n",
    ")\n",
    "\n",
    "fig.update_layout(\n",
    "    xaxis_tickangle=-45,\n",
    "    yaxis_title='Numero di Film',\n",
    "    margin=dict(t=80),\n",
    "    height=600\n",
    ")\n",
    "\n",
    "# 5. Mostra il grafico\n",
    "fig.show()\n"
   ],
   "id": "9cb1454581fdb5ad",
   "outputs": [
    {
     "data": {
      "application/vnd.plotly.v1+json": {
       "data": [
        {
         "hovertemplate": "Attore=%{x}<br>Film Realizzati=%{text}<extra></extra>",
         "legendgroup": "",
         "marker": {
          "color": "mediumseagreen",
          "pattern": {
           "shape": ""
          }
         },
         "name": "",
         "orientation": "v",
         "showlegend": false,
         "text": {
          "dtype": "f8",
          "bdata": "AAAAAACIkEAAAAAAAMCFQAAAAAAA2INAAAAAAABYgkAAAAAAACiCQAAAAAAAEH9AAAAAAADQfEAAAAAAAMB7QAAAAAAAoHpAAAAAAACQekAAAAAAAEB4QAAAAAAAAHhAAAAAAADQd0AAAAAAAMB3QAAAAAAAYHdAAAAAAABAd0AAAAAAAOB2QAAAAAAAkHZAAAAAAABgdkAAAAAAANB1QAAAAAAAwHVAAAAAAACAdUAAAAAAAHB1QAAAAAAAYHVAAAAAAABAdUAAAAAAACB1QAAAAAAAAHVAAAAAAADAdEAAAAAAAHB0QAAAAAAAUHRA"
         },
         "textposition": "outside",
         "x": [
          "Mel Blanc",
          "Bess Flowers",
          "Jagathy Sreekumar",
          "Eric Roberts",
          "Brahmanandam",
          "Nassar",
          "Sukumari",
          "Mammootty",
          "Nedumudi Venu",
          "Manorama",
          "Shakti Kapoor",
          "Frank Welker",
          "Innocent",
          "Harry 'Snub' Pollard",
          "Mohanlal",
          "Prakash Raj",
          "Siddique",
          "Irving Bacon",
          "Byron Foulger",
          "Tom London",
          "Lloyd Kaufman",
          "Indrans",
          "Gilbert M. Anderson",
          "Tanikella Bharani",
          "Anupam Kher",
          "KPAC Lalitha",
          "Jack Mercer",
          "Ren Osugi",
          "Christopher Lee",
          "Ku Feng"
         ],
         "xaxis": "x",
         "y": {
          "dtype": "i2",
          "bdata": "IgS4AnsCSwJFAvEBzQG8AaoBqQGEAYABfQF8AXYBdAFuAWkBZgFdAVwBWAFXAVYBVAFSAVABTAFHAUUB"
         },
         "yaxis": "y",
         "type": "bar"
        }
       ],
       "layout": {
        "template": {
         "data": {
          "barpolar": [
           {
            "marker": {
             "line": {
              "color": "white",
              "width": 0.5
             },
             "pattern": {
              "fillmode": "overlay",
              "size": 10,
              "solidity": 0.2
             }
            },
            "type": "barpolar"
           }
          ],
          "bar": [
           {
            "error_x": {
             "color": "#2a3f5f"
            },
            "error_y": {
             "color": "#2a3f5f"
            },
            "marker": {
             "line": {
              "color": "white",
              "width": 0.5
             },
             "pattern": {
              "fillmode": "overlay",
              "size": 10,
              "solidity": 0.2
             }
            },
            "type": "bar"
           }
          ],
          "carpet": [
           {
            "aaxis": {
             "endlinecolor": "#2a3f5f",
             "gridcolor": "#C8D4E3",
             "linecolor": "#C8D4E3",
             "minorgridcolor": "#C8D4E3",
             "startlinecolor": "#2a3f5f"
            },
            "baxis": {
             "endlinecolor": "#2a3f5f",
             "gridcolor": "#C8D4E3",
             "linecolor": "#C8D4E3",
             "minorgridcolor": "#C8D4E3",
             "startlinecolor": "#2a3f5f"
            },
            "type": "carpet"
           }
          ],
          "choropleth": [
           {
            "colorbar": {
             "outlinewidth": 0,
             "ticks": ""
            },
            "type": "choropleth"
           }
          ],
          "contourcarpet": [
           {
            "colorbar": {
             "outlinewidth": 0,
             "ticks": ""
            },
            "type": "contourcarpet"
           }
          ],
          "contour": [
           {
            "colorbar": {
             "outlinewidth": 0,
             "ticks": ""
            },
            "colorscale": [
             [
              0.0,
              "#0d0887"
             ],
             [
              0.1111111111111111,
              "#46039f"
             ],
             [
              0.2222222222222222,
              "#7201a8"
             ],
             [
              0.3333333333333333,
              "#9c179e"
             ],
             [
              0.4444444444444444,
              "#bd3786"
             ],
             [
              0.5555555555555556,
              "#d8576b"
             ],
             [
              0.6666666666666666,
              "#ed7953"
             ],
             [
              0.7777777777777778,
              "#fb9f3a"
             ],
             [
              0.8888888888888888,
              "#fdca26"
             ],
             [
              1.0,
              "#f0f921"
             ]
            ],
            "type": "contour"
           }
          ],
          "heatmap": [
           {
            "colorbar": {
             "outlinewidth": 0,
             "ticks": ""
            },
            "colorscale": [
             [
              0.0,
              "#0d0887"
             ],
             [
              0.1111111111111111,
              "#46039f"
             ],
             [
              0.2222222222222222,
              "#7201a8"
             ],
             [
              0.3333333333333333,
              "#9c179e"
             ],
             [
              0.4444444444444444,
              "#bd3786"
             ],
             [
              0.5555555555555556,
              "#d8576b"
             ],
             [
              0.6666666666666666,
              "#ed7953"
             ],
             [
              0.7777777777777778,
              "#fb9f3a"
             ],
             [
              0.8888888888888888,
              "#fdca26"
             ],
             [
              1.0,
              "#f0f921"
             ]
            ],
            "type": "heatmap"
           }
          ],
          "histogram2dcontour": [
           {
            "colorbar": {
             "outlinewidth": 0,
             "ticks": ""
            },
            "colorscale": [
             [
              0.0,
              "#0d0887"
             ],
             [
              0.1111111111111111,
              "#46039f"
             ],
             [
              0.2222222222222222,
              "#7201a8"
             ],
             [
              0.3333333333333333,
              "#9c179e"
             ],
             [
              0.4444444444444444,
              "#bd3786"
             ],
             [
              0.5555555555555556,
              "#d8576b"
             ],
             [
              0.6666666666666666,
              "#ed7953"
             ],
             [
              0.7777777777777778,
              "#fb9f3a"
             ],
             [
              0.8888888888888888,
              "#fdca26"
             ],
             [
              1.0,
              "#f0f921"
             ]
            ],
            "type": "histogram2dcontour"
           }
          ],
          "histogram2d": [
           {
            "colorbar": {
             "outlinewidth": 0,
             "ticks": ""
            },
            "colorscale": [
             [
              0.0,
              "#0d0887"
             ],
             [
              0.1111111111111111,
              "#46039f"
             ],
             [
              0.2222222222222222,
              "#7201a8"
             ],
             [
              0.3333333333333333,
              "#9c179e"
             ],
             [
              0.4444444444444444,
              "#bd3786"
             ],
             [
              0.5555555555555556,
              "#d8576b"
             ],
             [
              0.6666666666666666,
              "#ed7953"
             ],
             [
              0.7777777777777778,
              "#fb9f3a"
             ],
             [
              0.8888888888888888,
              "#fdca26"
             ],
             [
              1.0,
              "#f0f921"
             ]
            ],
            "type": "histogram2d"
           }
          ],
          "histogram": [
           {
            "marker": {
             "pattern": {
              "fillmode": "overlay",
              "size": 10,
              "solidity": 0.2
             }
            },
            "type": "histogram"
           }
          ],
          "mesh3d": [
           {
            "colorbar": {
             "outlinewidth": 0,
             "ticks": ""
            },
            "type": "mesh3d"
           }
          ],
          "parcoords": [
           {
            "line": {
             "colorbar": {
              "outlinewidth": 0,
              "ticks": ""
             }
            },
            "type": "parcoords"
           }
          ],
          "pie": [
           {
            "automargin": true,
            "type": "pie"
           }
          ],
          "scatter3d": [
           {
            "line": {
             "colorbar": {
              "outlinewidth": 0,
              "ticks": ""
             }
            },
            "marker": {
             "colorbar": {
              "outlinewidth": 0,
              "ticks": ""
             }
            },
            "type": "scatter3d"
           }
          ],
          "scattercarpet": [
           {
            "marker": {
             "colorbar": {
              "outlinewidth": 0,
              "ticks": ""
             }
            },
            "type": "scattercarpet"
           }
          ],
          "scattergeo": [
           {
            "marker": {
             "colorbar": {
              "outlinewidth": 0,
              "ticks": ""
             }
            },
            "type": "scattergeo"
           }
          ],
          "scattergl": [
           {
            "marker": {
             "colorbar": {
              "outlinewidth": 0,
              "ticks": ""
             }
            },
            "type": "scattergl"
           }
          ],
          "scattermapbox": [
           {
            "marker": {
             "colorbar": {
              "outlinewidth": 0,
              "ticks": ""
             }
            },
            "type": "scattermapbox"
           }
          ],
          "scattermap": [
           {
            "marker": {
             "colorbar": {
              "outlinewidth": 0,
              "ticks": ""
             }
            },
            "type": "scattermap"
           }
          ],
          "scatterpolargl": [
           {
            "marker": {
             "colorbar": {
              "outlinewidth": 0,
              "ticks": ""
             }
            },
            "type": "scatterpolargl"
           }
          ],
          "scatterpolar": [
           {
            "marker": {
             "colorbar": {
              "outlinewidth": 0,
              "ticks": ""
             }
            },
            "type": "scatterpolar"
           }
          ],
          "scatter": [
           {
            "fillpattern": {
             "fillmode": "overlay",
             "size": 10,
             "solidity": 0.2
            },
            "type": "scatter"
           }
          ],
          "scatterternary": [
           {
            "marker": {
             "colorbar": {
              "outlinewidth": 0,
              "ticks": ""
             }
            },
            "type": "scatterternary"
           }
          ],
          "surface": [
           {
            "colorbar": {
             "outlinewidth": 0,
             "ticks": ""
            },
            "colorscale": [
             [
              0.0,
              "#0d0887"
             ],
             [
              0.1111111111111111,
              "#46039f"
             ],
             [
              0.2222222222222222,
              "#7201a8"
             ],
             [
              0.3333333333333333,
              "#9c179e"
             ],
             [
              0.4444444444444444,
              "#bd3786"
             ],
             [
              0.5555555555555556,
              "#d8576b"
             ],
             [
              0.6666666666666666,
              "#ed7953"
             ],
             [
              0.7777777777777778,
              "#fb9f3a"
             ],
             [
              0.8888888888888888,
              "#fdca26"
             ],
             [
              1.0,
              "#f0f921"
             ]
            ],
            "type": "surface"
           }
          ],
          "table": [
           {
            "cells": {
             "fill": {
              "color": "#EBF0F8"
             },
             "line": {
              "color": "white"
             }
            },
            "header": {
             "fill": {
              "color": "#C8D4E3"
             },
             "line": {
              "color": "white"
             }
            },
            "type": "table"
           }
          ]
         },
         "layout": {
          "annotationdefaults": {
           "arrowcolor": "#2a3f5f",
           "arrowhead": 0,
           "arrowwidth": 1
          },
          "autotypenumbers": "strict",
          "coloraxis": {
           "colorbar": {
            "outlinewidth": 0,
            "ticks": ""
           }
          },
          "colorscale": {
           "diverging": [
            [
             0,
             "#8e0152"
            ],
            [
             0.1,
             "#c51b7d"
            ],
            [
             0.2,
             "#de77ae"
            ],
            [
             0.3,
             "#f1b6da"
            ],
            [
             0.4,
             "#fde0ef"
            ],
            [
             0.5,
             "#f7f7f7"
            ],
            [
             0.6,
             "#e6f5d0"
            ],
            [
             0.7,
             "#b8e186"
            ],
            [
             0.8,
             "#7fbc41"
            ],
            [
             0.9,
             "#4d9221"
            ],
            [
             1,
             "#276419"
            ]
           ],
           "sequential": [
            [
             0.0,
             "#0d0887"
            ],
            [
             0.1111111111111111,
             "#46039f"
            ],
            [
             0.2222222222222222,
             "#7201a8"
            ],
            [
             0.3333333333333333,
             "#9c179e"
            ],
            [
             0.4444444444444444,
             "#bd3786"
            ],
            [
             0.5555555555555556,
             "#d8576b"
            ],
            [
             0.6666666666666666,
             "#ed7953"
            ],
            [
             0.7777777777777778,
             "#fb9f3a"
            ],
            [
             0.8888888888888888,
             "#fdca26"
            ],
            [
             1.0,
             "#f0f921"
            ]
           ],
           "sequentialminus": [
            [
             0.0,
             "#0d0887"
            ],
            [
             0.1111111111111111,
             "#46039f"
            ],
            [
             0.2222222222222222,
             "#7201a8"
            ],
            [
             0.3333333333333333,
             "#9c179e"
            ],
            [
             0.4444444444444444,
             "#bd3786"
            ],
            [
             0.5555555555555556,
             "#d8576b"
            ],
            [
             0.6666666666666666,
             "#ed7953"
            ],
            [
             0.7777777777777778,
             "#fb9f3a"
            ],
            [
             0.8888888888888888,
             "#fdca26"
            ],
            [
             1.0,
             "#f0f921"
            ]
           ]
          },
          "colorway": [
           "#636efa",
           "#EF553B",
           "#00cc96",
           "#ab63fa",
           "#FFA15A",
           "#19d3f3",
           "#FF6692",
           "#B6E880",
           "#FF97FF",
           "#FECB52"
          ],
          "font": {
           "color": "#2a3f5f"
          },
          "geo": {
           "bgcolor": "white",
           "lakecolor": "white",
           "landcolor": "white",
           "showlakes": true,
           "showland": true,
           "subunitcolor": "#C8D4E3"
          },
          "hoverlabel": {
           "align": "left"
          },
          "hovermode": "closest",
          "mapbox": {
           "style": "light"
          },
          "paper_bgcolor": "white",
          "plot_bgcolor": "white",
          "polar": {
           "angularaxis": {
            "gridcolor": "#EBF0F8",
            "linecolor": "#EBF0F8",
            "ticks": ""
           },
           "bgcolor": "white",
           "radialaxis": {
            "gridcolor": "#EBF0F8",
            "linecolor": "#EBF0F8",
            "ticks": ""
           }
          },
          "scene": {
           "xaxis": {
            "backgroundcolor": "white",
            "gridcolor": "#DFE8F3",
            "gridwidth": 2,
            "linecolor": "#EBF0F8",
            "showbackground": true,
            "ticks": "",
            "zerolinecolor": "#EBF0F8"
           },
           "yaxis": {
            "backgroundcolor": "white",
            "gridcolor": "#DFE8F3",
            "gridwidth": 2,
            "linecolor": "#EBF0F8",
            "showbackground": true,
            "ticks": "",
            "zerolinecolor": "#EBF0F8"
           },
           "zaxis": {
            "backgroundcolor": "white",
            "gridcolor": "#DFE8F3",
            "gridwidth": 2,
            "linecolor": "#EBF0F8",
            "showbackground": true,
            "ticks": "",
            "zerolinecolor": "#EBF0F8"
           }
          },
          "shapedefaults": {
           "line": {
            "color": "#2a3f5f"
           }
          },
          "ternary": {
           "aaxis": {
            "gridcolor": "#DFE8F3",
            "linecolor": "#A2B1C6",
            "ticks": ""
           },
           "baxis": {
            "gridcolor": "#DFE8F3",
            "linecolor": "#A2B1C6",
            "ticks": ""
           },
           "bgcolor": "white",
           "caxis": {
            "gridcolor": "#DFE8F3",
            "linecolor": "#A2B1C6",
            "ticks": ""
           }
          },
          "title": {
           "x": 0.05
          },
          "xaxis": {
           "automargin": true,
           "gridcolor": "#EBF0F8",
           "linecolor": "#EBF0F8",
           "ticks": "",
           "title": {
            "standoff": 15
           },
           "zerolinecolor": "#EBF0F8",
           "zerolinewidth": 2
          },
          "yaxis": {
           "automargin": true,
           "gridcolor": "#EBF0F8",
           "linecolor": "#EBF0F8",
           "ticks": "",
           "title": {
            "standoff": 15
           },
           "zerolinecolor": "#EBF0F8",
           "zerolinewidth": 2
          }
         }
        },
        "xaxis": {
         "anchor": "y",
         "domain": [
          0.0,
          1.0
         ],
         "title": {
          "text": "Attore"
         },
         "tickangle": -45
        },
        "yaxis": {
         "anchor": "x",
         "domain": [
          0.0,
          1.0
         ],
         "title": {
          "text": "Numero di Film"
         }
        },
        "legend": {
         "tracegroupgap": 0
        },
        "title": {
         "text": "Top 10 Attori con più Film"
        },
        "barmode": "relative",
        "margin": {
         "t": 80
        },
        "height": 600
       },
       "config": {
        "plotlyServerURL": "https://plot.ly"
       }
      }
     },
     "metadata": {},
     "output_type": "display_data"
    }
   ],
   "execution_count": 13
  },
  {
   "metadata": {
    "ExecuteTime": {
     "end_time": "2025-06-22T15:24:42.566295Z",
     "start_time": "2025-06-22T15:24:24.663155Z"
    }
   },
   "cell_type": "code",
   "source": [
    "import pandas as pd\n",
    "import plotly.express as px\n",
    "\n",
    "# 1. Conta i film unici per ogni attore e ruolo\n",
    "role_counts = (\n",
    "    actors.groupby(['name', 'role'])['id']\n",
    "    .nunique()\n",
    "    .reset_index(name='count')\n",
    ")\n",
    "\n",
    "# 2. Tieni solo i ruoli ripetuti almeno 2 volte\n",
    "repeated_roles = role_counts[role_counts['count'] >= 2].copy()\n",
    "\n",
    "# 3. Calcola il totale di ripetizioni per ogni attore\n",
    "total_repeats = (\n",
    "    repeated_roles.groupby('name')['count']\n",
    "    .sum()\n",
    "    .reset_index(name='Totale Ripetizioni')\n",
    ")\n",
    "\n",
    "# 4. Prendi i top 10 attori\n",
    "top_actors = total_repeats.sort_values(by='Totale Ripetizioni', ascending=False).head(10)\n",
    "\n",
    "# 5. Prepara i ruoli ripetuti per ogni attore\n",
    "tooltip_df = repeated_roles[repeated_roles['name'].isin(top_actors['name'])].copy()\n",
    "tooltip_df['ruolo_info'] = tooltip_df['role'] + ': ' + tooltip_df['count'].astype(str) + ' volte'\n",
    "\n",
    "# 6. Aggrega ruoli per tooltip\n",
    "tooltip_texts = (\n",
    "    tooltip_df.groupby('name')['ruolo_info']\n",
    "    .apply(lambda x: '<br>'.join(x))\n",
    "    .reset_index(name='Ruoli Ripetuti')\n",
    ")\n",
    "\n",
    "# 7. Unisci i tooltip con il dataset dei top attori\n",
    "plot_df = pd.merge(top_actors, tooltip_texts, on='name', how='left')\n",
    "\n",
    "# 8. Riempi eventuali valori mancanti\n",
    "plot_df['Ruoli Ripetuti'] = plot_df['Ruoli Ripetuti'].fillna('Nessun ruolo ripetuto')\n",
    "\n",
    "# 9. Crea bar chart Plotly\n",
    "fig = px.bar(\n",
    "    plot_df,\n",
    "    x='name',\n",
    "    y='Totale Ripetizioni',\n",
    "    text='Totale Ripetizioni',\n",
    "    hover_data={'Ruoli Ripetuti': True},\n",
    "    labels={'name': 'Attore'},\n",
    "    title='Attori che hanno interpretato più volte lo stesso ruolo',\n",
    "    template='plotly_white'\n",
    ")\n",
    "\n",
    "fig.update_traces(\n",
    "    textposition='outside',\n",
    "    marker_color='mediumseagreen'\n",
    ")\n",
    "\n",
    "fig.update_layout(\n",
    "    xaxis_tickangle=-45,\n",
    "    height=600,\n",
    "    margin=dict(t=100)\n",
    ")\n",
    "\n",
    "fig.show()\n"
   ],
   "id": "e1665929a48e6589",
   "outputs": [
    {
     "data": {
      "application/vnd.plotly.v1+json": {
       "data": [
        {
         "customdata": [
          [
           "(archive footage): 2 volte<br>(voice): 4 volte<br>Barney Rubble: 2 volte<br>Barney Rubble (voice): 6 volte<br>Barney Rubble / Dino (voice): 4 volte<br>Braxton Bear: 3 volte<br>Bugs Bunny: 6 volte<br>Bugs Bunny (voice): 26 volte<br>Bugs Bunny (voice) (uncredited): 8 volte<br>Bugs Bunny / Blacque Jacque Shellacque (voice): 2 volte<br>Bugs Bunny / Daffy Duck (voice): 5 volte<br>Bugs Bunny / Tasmanian Devil (voice): 2 volte<br>Bugs Bunny / Wile E. Coyote (voice): 3 volte<br>Bugs Bunny / Yosemite Sam (voice): 10 volte<br>Cat (voice) (uncredited): 4 volte<br>Crow (voice): 2 volte<br>Daffy Duck: 2 volte<br>Daffy Duck (voice): 10 volte<br>Daffy Duck (voice) (uncredited): 2 volte<br>Daffy Duck / Bugs Bunny (voice): 2 volte<br>Daffy Duck / Porky Pig (voice): 6 volte<br>Daffy Duck / Speedy Gonzales (voice): 7 volte<br>Daffy Duck on TV (voice) (archive sound) (uncredited): 2 volte<br>Egghead (voice) (uncredited): 2 volte<br>Foghorn Leghorn (voice): 3 volte<br>Foghorn Leghorn / Henery Hawk / Barnyard Dog (voice): 2 volte<br>Gangster Mouse (voice): 3 volte<br>John Silver (voice) (uncredited): 2 volte<br>Krazy Kat: 3 volte<br>Little Blabbermouth (voice): 2 volte<br>Mac (voice): 2 volte<br>Mac / Dog (voice): 2 volte<br>Other voices: 2 volte<br>Pepe Le Pew (voice): 2 volte<br>Pepe le Pew: 2 volte<br>Pepe le Pew (voice): 3 volte<br>Porky: 2 volte<br>Porky Pig: 5 volte<br>Porky Pig (voice): 17 volte<br>Porky Pig (voice) (uncredited): 11 volte<br>Porky Pig / Daffy Duck (voice): 4 volte<br>Porky Pig / Daffy Duck (voice) (uncredited): 2 volte<br>Private McGillicuddy: 4 volte<br>Pvt. Snafu: 12 volte<br>Sam Sheepdog, Ralph Wolf: 2 volte<br>Self: 4 volte<br>Speedy Gonzales, Sylvester: 4 volte<br>Speedy Gonzales, Sylvester, Mice: 2 volte<br>Sylvester (voice): 5 volte<br>Sylvester / Junior (voice): 4 volte<br>Sylvester / Sylvester Jr. (voice): 2 volte<br>Sylvester / Sylvester Junior: 2 volte<br>Sylvester / Tweety (voice): 10 volte<br>Tom (voice): 2 volte<br>Tom / Jerry (voice): 4 volte<br>Tom / Jerry (voice) (uncredited): 2 volte<br>Tweety / Sylvester: 2 volte<br>Various: 4 volte<br>Various (voice): 4 volte<br>Various (voice) (uncredited): 7 volte<br>Various Characters (voice): 2 volte<br>Vocal Effects (voice): 2 volte<br>Vocal Talents (voice) (uncredited): 3 volte<br>Voices: 2 volte<br>Wile E. Coyote: 2 volte<br>Wile E. Coyote (voice): 2 volte<br>Wile E. Coyote (voice) (uncredited): 3 volte<br>Wolf (voice) (uncredited): 2 volte<br>Woody Woodpecker (archive sound): 5 volte<br>Woody Woodpecker (voice): 4 volte<br>Woody Woodpecker's Laugh (archive sound): 6 volte"
          ],
          [
           "(uncredited): 4 volte<br>Anniversary Party Guest (uncredited): 2 volte<br>Audience Member (uncredited): 2 volte<br>Ball Guest (uncredited): 2 volte<br>Banquet Guest (uncredited): 2 volte<br>Bar Patron (uncredited): 3 volte<br>Birthday Party Guest (uncredited): 2 volte<br>Bridge Player (uncredited): 3 volte<br>Casino Patron (uncredited): 2 volte<br>Club Patron (uncredited): 2 volte<br>Concertgoer (uncredited): 2 volte<br>Courtroom Spectator: 4 volte<br>Courtroom Spectator (uncredited): 3 volte<br>Department Store Shopper: 2 volte<br>Diner: 2 volte<br>Dinner Guest (uncredited): 5 volte<br>Extra (uncredited): 3 volte<br>Fight Spectator (uncredited): 2 volte<br>Gambler at Roulette Table (uncredited): 2 volte<br>Guest: 2 volte<br>Mannequin (uncredited): 2 volte<br>Minor Role (uncredited): 4 volte<br>Night Club Patron (uncredited): 3 volte<br>Nightclub Extra (uncredited): 4 volte<br>Nightclub Guest (uncredited): 2 volte<br>Nightclub Patron: 11 volte<br>Nightclub Patron (Uncredited): 2 volte<br>Nightclub Patron (uncredited): 27 volte<br>Nightclub patron: 3 volte<br>Nightclub patron (uncredited): 2 volte<br>Nurse: 7 volte<br>Nurse (uncredited): 7 volte<br>Party Guest: 20 volte<br>Party Guest (Uncredited): 2 volte<br>Party Guest (uncredited): 48 volte<br>Party guest: 3 volte<br>Patron at Pelican Club: 2 volte<br>Racetrack Spectator (uncredited): 2 volte<br>Reporter: 2 volte<br>Restaurant Patron: 3 volte<br>Restaurant Patron (uncredited): 9 volte<br>Secretary: 4 volte<br>Secretary (uncredited): 2 volte<br>Ship Passenger: 2 volte<br>Ship Passenger (uncredited): 5 volte<br>Ship's Passenger (uncredited): 3 volte<br>Spectator (uncredited): 2 volte<br>Telephone Operator: 2 volte<br>Wedding Guest: 6 volte<br>Wedding Guest (uncredited): 4 volte<br>Wedding Reception Guest (uncredited): 2 volte<br>Woman (uncredited): 2 volte<br>Woman in Audience (uncredited): 4 volte"
          ],
          [
           "Himself: 4 volte<br>Himself (archive footage): 6 volte<br>Self: 18 volte<br>Self (archive footage): 157 volte<br>Self (archive footage) (uncredited): 37 volte<br>Self (uncredited): 2 volte<br>Self - Führer und Reichskanzler (archive footage): 2 volte<br>Self - Politician (archive footage): 26 volte"
          ],
          [
           "Himself: 25 volte<br>Paul: 3 volte<br>Self: 105 volte<br>Self (archive footage): 85 volte<br>Self (uncredited): 2 volte<br>Self - Musician: 2 volte"
          ],
          [
           "Baby Huey's Mom: 6 volte<br>Betty Boop: 22 volte<br>Betty Boop (voice): 16 volte<br>Betty Boop (voice) (uncredited): 20 volte<br>Betty Boop / Aloysius (voice) (uncredited): 2 volte<br>Betty Boop / Pudgy (voice) (uncredited): 4 volte<br>Billy (voice): 2 volte<br>Cute Kitty: 2 volte<br>Mouse: 2 volte<br>Olive Oyl: 8 volte<br>Olive Oyl (voice): 13 volte<br>Olive Oyl (voice) (uncredited): 109 volte<br>Olive Oyl / Swee'Pea (voice) (uncredited): 2 volte"
          ],
          [
           "Direttore Tv: 2 volte<br>Himself: 2 volte<br>Martin Scorsese: 2 volte<br>Narrator (voice): 2 volte<br>Photographer (uncredited): 2 volte<br>Self: 165 volte<br>Self (archive footage): 12 volte<br>Self (uncredited): 5 volte<br>Self - Filmmaker: 3 volte<br>Self - Filmmaker (archive footage): 2 volte<br>Self - Host / Narrator: 2 volte<br>Self - Interviewee: 2 volte<br>Self - Interviewee (archive footage): 2 volte<br>Self - Narrator: 2 volte<br>Sykes (voice): 2 volte"
          ],
          [
           "Larry: 193 volte<br>Larry (archive footage): 2 volte<br>Larry Fine: 2 volte<br>Larry Pebble: 2 volte<br>Self: 2 volte<br>Self / Larry (archive footage): 2 volte"
          ],
          [
           "(archive footage): 2 volte<br>Donald Trump: 6 volte<br>Himself: 23 volte<br>Himself (Archive Footage): 3 volte<br>Himself (archive footage): 14 volte<br>Self: 34 volte<br>Self  (archive footage): 2 volte<br>Self (Archive Footage): 2 volte<br>Self (archive Footage): 2 volte<br>Self (archive footage): 90 volte<br>Self (archive footage) (uncredited): 7 volte<br>Self - Politician (archive footage): 14 volte<br>himself: 2 volte"
          ],
          [
           "Himself: 21 volte<br>Himself (archive footage): 5 volte<br>Himself: Host: 2 volte<br>Host: 4 volte<br>Mickey Mouse: 9 volte<br>Mickey Mouse (voice): 11 volte<br>Mickey Mouse (voice) (uncredited): 82 volte<br>Mickey Mouse / Minnie Mouse / Pete (voice) (uncredited): 2 volte<br>Presenter: 2 volte<br>Self: 17 volte<br>Self (Archive Footage): 6 volte<br>Self (archive footage): 25 volte<br>Self - Host: 10 volte<br>Walt Disney: 5 volte"
          ],
          [
           "Moe: 191 volte<br>Moe / Moe's Son: 2 volte<br>Moe Howard: 3 volte<br>Self: 2 volte<br>Self / Moe (archive footage): 2 volte"
          ]
         ],
         "hovertemplate": "Attore=%{x}<br>Totale Ripetizioni=%{text}<br>Ruoli Ripetuti=%{customdata[0]}<extra></extra>",
         "legendgroup": "",
         "marker": {
          "color": "mediumseagreen",
          "pattern": {
           "shape": ""
          }
         },
         "name": "",
         "orientation": "v",
         "showlegend": false,
         "text": {
          "dtype": "f8",
          "bdata": "AAAAAADAckAAAAAAAMBvQAAAAAAAgG9AAAAAAADAa0AAAAAAAABqQAAAAAAA4GlAAAAAAABgaUAAAAAAACBpQAAAAAAAIGlAAAAAAAAAaUA="
         },
         "textposition": "outside",
         "x": [
          "Mel Blanc",
          "Bess Flowers",
          "Adolf Hitler",
          "Paul McCartney",
          "Mae Questel",
          "Martin Scorsese",
          "Larry Fine",
          "Donald Trump",
          "Walt Disney",
          "Moe Howard"
         ],
         "xaxis": "x",
         "y": {
          "dtype": "i2",
          "bdata": "LAH+APwA3gDQAM8AywDJAMkAyAA="
         },
         "yaxis": "y",
         "type": "bar"
        }
       ],
       "layout": {
        "template": {
         "data": {
          "barpolar": [
           {
            "marker": {
             "line": {
              "color": "white",
              "width": 0.5
             },
             "pattern": {
              "fillmode": "overlay",
              "size": 10,
              "solidity": 0.2
             }
            },
            "type": "barpolar"
           }
          ],
          "bar": [
           {
            "error_x": {
             "color": "#2a3f5f"
            },
            "error_y": {
             "color": "#2a3f5f"
            },
            "marker": {
             "line": {
              "color": "white",
              "width": 0.5
             },
             "pattern": {
              "fillmode": "overlay",
              "size": 10,
              "solidity": 0.2
             }
            },
            "type": "bar"
           }
          ],
          "carpet": [
           {
            "aaxis": {
             "endlinecolor": "#2a3f5f",
             "gridcolor": "#C8D4E3",
             "linecolor": "#C8D4E3",
             "minorgridcolor": "#C8D4E3",
             "startlinecolor": "#2a3f5f"
            },
            "baxis": {
             "endlinecolor": "#2a3f5f",
             "gridcolor": "#C8D4E3",
             "linecolor": "#C8D4E3",
             "minorgridcolor": "#C8D4E3",
             "startlinecolor": "#2a3f5f"
            },
            "type": "carpet"
           }
          ],
          "choropleth": [
           {
            "colorbar": {
             "outlinewidth": 0,
             "ticks": ""
            },
            "type": "choropleth"
           }
          ],
          "contourcarpet": [
           {
            "colorbar": {
             "outlinewidth": 0,
             "ticks": ""
            },
            "type": "contourcarpet"
           }
          ],
          "contour": [
           {
            "colorbar": {
             "outlinewidth": 0,
             "ticks": ""
            },
            "colorscale": [
             [
              0.0,
              "#0d0887"
             ],
             [
              0.1111111111111111,
              "#46039f"
             ],
             [
              0.2222222222222222,
              "#7201a8"
             ],
             [
              0.3333333333333333,
              "#9c179e"
             ],
             [
              0.4444444444444444,
              "#bd3786"
             ],
             [
              0.5555555555555556,
              "#d8576b"
             ],
             [
              0.6666666666666666,
              "#ed7953"
             ],
             [
              0.7777777777777778,
              "#fb9f3a"
             ],
             [
              0.8888888888888888,
              "#fdca26"
             ],
             [
              1.0,
              "#f0f921"
             ]
            ],
            "type": "contour"
           }
          ],
          "heatmap": [
           {
            "colorbar": {
             "outlinewidth": 0,
             "ticks": ""
            },
            "colorscale": [
             [
              0.0,
              "#0d0887"
             ],
             [
              0.1111111111111111,
              "#46039f"
             ],
             [
              0.2222222222222222,
              "#7201a8"
             ],
             [
              0.3333333333333333,
              "#9c179e"
             ],
             [
              0.4444444444444444,
              "#bd3786"
             ],
             [
              0.5555555555555556,
              "#d8576b"
             ],
             [
              0.6666666666666666,
              "#ed7953"
             ],
             [
              0.7777777777777778,
              "#fb9f3a"
             ],
             [
              0.8888888888888888,
              "#fdca26"
             ],
             [
              1.0,
              "#f0f921"
             ]
            ],
            "type": "heatmap"
           }
          ],
          "histogram2dcontour": [
           {
            "colorbar": {
             "outlinewidth": 0,
             "ticks": ""
            },
            "colorscale": [
             [
              0.0,
              "#0d0887"
             ],
             [
              0.1111111111111111,
              "#46039f"
             ],
             [
              0.2222222222222222,
              "#7201a8"
             ],
             [
              0.3333333333333333,
              "#9c179e"
             ],
             [
              0.4444444444444444,
              "#bd3786"
             ],
             [
              0.5555555555555556,
              "#d8576b"
             ],
             [
              0.6666666666666666,
              "#ed7953"
             ],
             [
              0.7777777777777778,
              "#fb9f3a"
             ],
             [
              0.8888888888888888,
              "#fdca26"
             ],
             [
              1.0,
              "#f0f921"
             ]
            ],
            "type": "histogram2dcontour"
           }
          ],
          "histogram2d": [
           {
            "colorbar": {
             "outlinewidth": 0,
             "ticks": ""
            },
            "colorscale": [
             [
              0.0,
              "#0d0887"
             ],
             [
              0.1111111111111111,
              "#46039f"
             ],
             [
              0.2222222222222222,
              "#7201a8"
             ],
             [
              0.3333333333333333,
              "#9c179e"
             ],
             [
              0.4444444444444444,
              "#bd3786"
             ],
             [
              0.5555555555555556,
              "#d8576b"
             ],
             [
              0.6666666666666666,
              "#ed7953"
             ],
             [
              0.7777777777777778,
              "#fb9f3a"
             ],
             [
              0.8888888888888888,
              "#fdca26"
             ],
             [
              1.0,
              "#f0f921"
             ]
            ],
            "type": "histogram2d"
           }
          ],
          "histogram": [
           {
            "marker": {
             "pattern": {
              "fillmode": "overlay",
              "size": 10,
              "solidity": 0.2
             }
            },
            "type": "histogram"
           }
          ],
          "mesh3d": [
           {
            "colorbar": {
             "outlinewidth": 0,
             "ticks": ""
            },
            "type": "mesh3d"
           }
          ],
          "parcoords": [
           {
            "line": {
             "colorbar": {
              "outlinewidth": 0,
              "ticks": ""
             }
            },
            "type": "parcoords"
           }
          ],
          "pie": [
           {
            "automargin": true,
            "type": "pie"
           }
          ],
          "scatter3d": [
           {
            "line": {
             "colorbar": {
              "outlinewidth": 0,
              "ticks": ""
             }
            },
            "marker": {
             "colorbar": {
              "outlinewidth": 0,
              "ticks": ""
             }
            },
            "type": "scatter3d"
           }
          ],
          "scattercarpet": [
           {
            "marker": {
             "colorbar": {
              "outlinewidth": 0,
              "ticks": ""
             }
            },
            "type": "scattercarpet"
           }
          ],
          "scattergeo": [
           {
            "marker": {
             "colorbar": {
              "outlinewidth": 0,
              "ticks": ""
             }
            },
            "type": "scattergeo"
           }
          ],
          "scattergl": [
           {
            "marker": {
             "colorbar": {
              "outlinewidth": 0,
              "ticks": ""
             }
            },
            "type": "scattergl"
           }
          ],
          "scattermapbox": [
           {
            "marker": {
             "colorbar": {
              "outlinewidth": 0,
              "ticks": ""
             }
            },
            "type": "scattermapbox"
           }
          ],
          "scattermap": [
           {
            "marker": {
             "colorbar": {
              "outlinewidth": 0,
              "ticks": ""
             }
            },
            "type": "scattermap"
           }
          ],
          "scatterpolargl": [
           {
            "marker": {
             "colorbar": {
              "outlinewidth": 0,
              "ticks": ""
             }
            },
            "type": "scatterpolargl"
           }
          ],
          "scatterpolar": [
           {
            "marker": {
             "colorbar": {
              "outlinewidth": 0,
              "ticks": ""
             }
            },
            "type": "scatterpolar"
           }
          ],
          "scatter": [
           {
            "fillpattern": {
             "fillmode": "overlay",
             "size": 10,
             "solidity": 0.2
            },
            "type": "scatter"
           }
          ],
          "scatterternary": [
           {
            "marker": {
             "colorbar": {
              "outlinewidth": 0,
              "ticks": ""
             }
            },
            "type": "scatterternary"
           }
          ],
          "surface": [
           {
            "colorbar": {
             "outlinewidth": 0,
             "ticks": ""
            },
            "colorscale": [
             [
              0.0,
              "#0d0887"
             ],
             [
              0.1111111111111111,
              "#46039f"
             ],
             [
              0.2222222222222222,
              "#7201a8"
             ],
             [
              0.3333333333333333,
              "#9c179e"
             ],
             [
              0.4444444444444444,
              "#bd3786"
             ],
             [
              0.5555555555555556,
              "#d8576b"
             ],
             [
              0.6666666666666666,
              "#ed7953"
             ],
             [
              0.7777777777777778,
              "#fb9f3a"
             ],
             [
              0.8888888888888888,
              "#fdca26"
             ],
             [
              1.0,
              "#f0f921"
             ]
            ],
            "type": "surface"
           }
          ],
          "table": [
           {
            "cells": {
             "fill": {
              "color": "#EBF0F8"
             },
             "line": {
              "color": "white"
             }
            },
            "header": {
             "fill": {
              "color": "#C8D4E3"
             },
             "line": {
              "color": "white"
             }
            },
            "type": "table"
           }
          ]
         },
         "layout": {
          "annotationdefaults": {
           "arrowcolor": "#2a3f5f",
           "arrowhead": 0,
           "arrowwidth": 1
          },
          "autotypenumbers": "strict",
          "coloraxis": {
           "colorbar": {
            "outlinewidth": 0,
            "ticks": ""
           }
          },
          "colorscale": {
           "diverging": [
            [
             0,
             "#8e0152"
            ],
            [
             0.1,
             "#c51b7d"
            ],
            [
             0.2,
             "#de77ae"
            ],
            [
             0.3,
             "#f1b6da"
            ],
            [
             0.4,
             "#fde0ef"
            ],
            [
             0.5,
             "#f7f7f7"
            ],
            [
             0.6,
             "#e6f5d0"
            ],
            [
             0.7,
             "#b8e186"
            ],
            [
             0.8,
             "#7fbc41"
            ],
            [
             0.9,
             "#4d9221"
            ],
            [
             1,
             "#276419"
            ]
           ],
           "sequential": [
            [
             0.0,
             "#0d0887"
            ],
            [
             0.1111111111111111,
             "#46039f"
            ],
            [
             0.2222222222222222,
             "#7201a8"
            ],
            [
             0.3333333333333333,
             "#9c179e"
            ],
            [
             0.4444444444444444,
             "#bd3786"
            ],
            [
             0.5555555555555556,
             "#d8576b"
            ],
            [
             0.6666666666666666,
             "#ed7953"
            ],
            [
             0.7777777777777778,
             "#fb9f3a"
            ],
            [
             0.8888888888888888,
             "#fdca26"
            ],
            [
             1.0,
             "#f0f921"
            ]
           ],
           "sequentialminus": [
            [
             0.0,
             "#0d0887"
            ],
            [
             0.1111111111111111,
             "#46039f"
            ],
            [
             0.2222222222222222,
             "#7201a8"
            ],
            [
             0.3333333333333333,
             "#9c179e"
            ],
            [
             0.4444444444444444,
             "#bd3786"
            ],
            [
             0.5555555555555556,
             "#d8576b"
            ],
            [
             0.6666666666666666,
             "#ed7953"
            ],
            [
             0.7777777777777778,
             "#fb9f3a"
            ],
            [
             0.8888888888888888,
             "#fdca26"
            ],
            [
             1.0,
             "#f0f921"
            ]
           ]
          },
          "colorway": [
           "#636efa",
           "#EF553B",
           "#00cc96",
           "#ab63fa",
           "#FFA15A",
           "#19d3f3",
           "#FF6692",
           "#B6E880",
           "#FF97FF",
           "#FECB52"
          ],
          "font": {
           "color": "#2a3f5f"
          },
          "geo": {
           "bgcolor": "white",
           "lakecolor": "white",
           "landcolor": "white",
           "showlakes": true,
           "showland": true,
           "subunitcolor": "#C8D4E3"
          },
          "hoverlabel": {
           "align": "left"
          },
          "hovermode": "closest",
          "mapbox": {
           "style": "light"
          },
          "paper_bgcolor": "white",
          "plot_bgcolor": "white",
          "polar": {
           "angularaxis": {
            "gridcolor": "#EBF0F8",
            "linecolor": "#EBF0F8",
            "ticks": ""
           },
           "bgcolor": "white",
           "radialaxis": {
            "gridcolor": "#EBF0F8",
            "linecolor": "#EBF0F8",
            "ticks": ""
           }
          },
          "scene": {
           "xaxis": {
            "backgroundcolor": "white",
            "gridcolor": "#DFE8F3",
            "gridwidth": 2,
            "linecolor": "#EBF0F8",
            "showbackground": true,
            "ticks": "",
            "zerolinecolor": "#EBF0F8"
           },
           "yaxis": {
            "backgroundcolor": "white",
            "gridcolor": "#DFE8F3",
            "gridwidth": 2,
            "linecolor": "#EBF0F8",
            "showbackground": true,
            "ticks": "",
            "zerolinecolor": "#EBF0F8"
           },
           "zaxis": {
            "backgroundcolor": "white",
            "gridcolor": "#DFE8F3",
            "gridwidth": 2,
            "linecolor": "#EBF0F8",
            "showbackground": true,
            "ticks": "",
            "zerolinecolor": "#EBF0F8"
           }
          },
          "shapedefaults": {
           "line": {
            "color": "#2a3f5f"
           }
          },
          "ternary": {
           "aaxis": {
            "gridcolor": "#DFE8F3",
            "linecolor": "#A2B1C6",
            "ticks": ""
           },
           "baxis": {
            "gridcolor": "#DFE8F3",
            "linecolor": "#A2B1C6",
            "ticks": ""
           },
           "bgcolor": "white",
           "caxis": {
            "gridcolor": "#DFE8F3",
            "linecolor": "#A2B1C6",
            "ticks": ""
           }
          },
          "title": {
           "x": 0.05
          },
          "xaxis": {
           "automargin": true,
           "gridcolor": "#EBF0F8",
           "linecolor": "#EBF0F8",
           "ticks": "",
           "title": {
            "standoff": 15
           },
           "zerolinecolor": "#EBF0F8",
           "zerolinewidth": 2
          },
          "yaxis": {
           "automargin": true,
           "gridcolor": "#EBF0F8",
           "linecolor": "#EBF0F8",
           "ticks": "",
           "title": {
            "standoff": 15
           },
           "zerolinecolor": "#EBF0F8",
           "zerolinewidth": 2
          }
         }
        },
        "xaxis": {
         "anchor": "y",
         "domain": [
          0.0,
          1.0
         ],
         "title": {
          "text": "Attore"
         },
         "tickangle": -45
        },
        "yaxis": {
         "anchor": "x",
         "domain": [
          0.0,
          1.0
         ],
         "title": {
          "text": "Totale Ripetizioni"
         }
        },
        "legend": {
         "tracegroupgap": 0
        },
        "title": {
         "text": "Attori che hanno interpretato più volte lo stesso ruolo"
        },
        "barmode": "relative",
        "margin": {
         "t": 100
        },
        "height": 600
       },
       "config": {
        "plotlyServerURL": "https://plot.ly"
       }
      }
     },
     "metadata": {},
     "output_type": "display_data"
    }
   ],
   "execution_count": 14
  },
  {
   "metadata": {
    "ExecuteTime": {
     "end_time": "2025-06-22T15:28:13.236569Z",
     "start_time": "2025-06-22T15:28:10.052156Z"
    }
   },
   "cell_type": "code",
   "source": [
    "#registi con più film\n",
    "import pandas as pd\n",
    "import plotly.express as px\n",
    "\n",
    "# 1. Filtra solo i registi\n",
    "director_roles = ['director', 'regista']\n",
    "crew_directors = crew[crew['role'].str.lower().isin(director_roles)]\n",
    "\n",
    "# 2. Conta il numero di film unici per ogni regista\n",
    "director_counts = (\n",
    "    crew_directors.groupby('name')['id']\n",
    "    .nunique()\n",
    "    .reset_index(name='Numero di Film')\n",
    ")\n",
    "\n",
    "# 3. Prendi i top 20 registi\n",
    "top_directors = director_counts.sort_values(by='Numero di Film', ascending=False).head(30)\n",
    "\n",
    "# 4. Crea bar chart Plotly\n",
    "fig = px.bar(\n",
    "    top_directors,\n",
    "    x='name',\n",
    "    y='Numero di Film',\n",
    "    text='Numero di Film',\n",
    "    title='Top 20 Registi con più film',\n",
    "    labels={'name': 'Regista'},\n",
    "    template='plotly_white'\n",
    ")\n",
    "\n",
    "fig.update_traces(\n",
    "    textposition='outside',\n",
    "    marker_color='indianred'\n",
    ")\n",
    "\n",
    "fig.update_layout(\n",
    "    xaxis_tickangle=-45,\n",
    "    height=600,\n",
    "    margin=dict(t=100)\n",
    ")\n",
    "\n",
    "fig.show()\n"
   ],
   "id": "aec9d3a88e208b65",
   "outputs": [
    {
     "data": {
      "application/vnd.plotly.v1+json": {
       "data": [
        {
         "hovertemplate": "Regista=%{x}<br>Numero di Film=%{text}<extra></extra>",
         "legendgroup": "",
         "marker": {
          "color": "indianred",
          "pattern": {
           "shape": ""
          }
         },
         "name": "",
         "orientation": "v",
         "showlegend": false,
         "text": {
          "dtype": "f8",
          "bdata": "AAAAAAAYgUAAAAAAANB7QAAAAAAAwHdAAAAAAACQd0AAAAAAAKB2QAAAAAAA8HVAAAAAAABgdUAAAAAAAPBzQAAAAAAAQHJAAAAAAACgcUAAAAAAANBwQAAAAAAAYHBAAAAAAACgb0AAAAAAAIBuQAAAAAAAgGxAAAAAAAAAbEAAAAAAAEBrQAAAAAAAoGpAAAAAAACAakAAAAAAAABqQAAAAAAAwGlAAAAAAACgaUAAAAAAAEBpQAAAAAAAAGlAAAAAAADgaEAAAAAAAOBoQAAAAAAAgGhAAAAAAACAaEAAAAAAAIBoQAAAAAAAgGdA"
         },
         "textposition": "outside",
         "x": [
          "Dave Fleischer",
          "D.W. Griffith",
          "Stan Brakhage",
          "Gilbert M. Anderson",
          "Gérard Courant",
          "Alexandre Promio",
          "Seymour Kneitel",
          "Friz Freleng",
          "Chuck Jones",
          "Louis Lumière",
          "Georges Méliès",
          "Jules White",
          "Aurora Martínez",
          "Ken Jacobs",
          "Walter Lantz",
          "Los Ingrávidos",
          "Mannie Davis",
          "Sam Newfield",
          "Louis Feuillade",
          "Eckhart Schmidt",
          "William Beaudine",
          "James H. White",
          "William Hanna",
          "Dustin Ferguson",
          "Joseph Barbera",
          "Auguste Lumière",
          "Connie Rasinski",
          "Robert McKimson",
          "Mack Sennett",
          "George Kuchar"
         ],
         "xaxis": "x",
         "y": {
          "dtype": "i2",
          "bdata": "IwK9AXwBeQFqAV8BVgE/ASQBGgENAQYB/QD0AOQA4ADaANUA1ADQAM4AzQDKAMgAxwDHAMQAxADEALwA"
         },
         "yaxis": "y",
         "type": "bar"
        }
       ],
       "layout": {
        "template": {
         "data": {
          "barpolar": [
           {
            "marker": {
             "line": {
              "color": "white",
              "width": 0.5
             },
             "pattern": {
              "fillmode": "overlay",
              "size": 10,
              "solidity": 0.2
             }
            },
            "type": "barpolar"
           }
          ],
          "bar": [
           {
            "error_x": {
             "color": "#2a3f5f"
            },
            "error_y": {
             "color": "#2a3f5f"
            },
            "marker": {
             "line": {
              "color": "white",
              "width": 0.5
             },
             "pattern": {
              "fillmode": "overlay",
              "size": 10,
              "solidity": 0.2
             }
            },
            "type": "bar"
           }
          ],
          "carpet": [
           {
            "aaxis": {
             "endlinecolor": "#2a3f5f",
             "gridcolor": "#C8D4E3",
             "linecolor": "#C8D4E3",
             "minorgridcolor": "#C8D4E3",
             "startlinecolor": "#2a3f5f"
            },
            "baxis": {
             "endlinecolor": "#2a3f5f",
             "gridcolor": "#C8D4E3",
             "linecolor": "#C8D4E3",
             "minorgridcolor": "#C8D4E3",
             "startlinecolor": "#2a3f5f"
            },
            "type": "carpet"
           }
          ],
          "choropleth": [
           {
            "colorbar": {
             "outlinewidth": 0,
             "ticks": ""
            },
            "type": "choropleth"
           }
          ],
          "contourcarpet": [
           {
            "colorbar": {
             "outlinewidth": 0,
             "ticks": ""
            },
            "type": "contourcarpet"
           }
          ],
          "contour": [
           {
            "colorbar": {
             "outlinewidth": 0,
             "ticks": ""
            },
            "colorscale": [
             [
              0.0,
              "#0d0887"
             ],
             [
              0.1111111111111111,
              "#46039f"
             ],
             [
              0.2222222222222222,
              "#7201a8"
             ],
             [
              0.3333333333333333,
              "#9c179e"
             ],
             [
              0.4444444444444444,
              "#bd3786"
             ],
             [
              0.5555555555555556,
              "#d8576b"
             ],
             [
              0.6666666666666666,
              "#ed7953"
             ],
             [
              0.7777777777777778,
              "#fb9f3a"
             ],
             [
              0.8888888888888888,
              "#fdca26"
             ],
             [
              1.0,
              "#f0f921"
             ]
            ],
            "type": "contour"
           }
          ],
          "heatmap": [
           {
            "colorbar": {
             "outlinewidth": 0,
             "ticks": ""
            },
            "colorscale": [
             [
              0.0,
              "#0d0887"
             ],
             [
              0.1111111111111111,
              "#46039f"
             ],
             [
              0.2222222222222222,
              "#7201a8"
             ],
             [
              0.3333333333333333,
              "#9c179e"
             ],
             [
              0.4444444444444444,
              "#bd3786"
             ],
             [
              0.5555555555555556,
              "#d8576b"
             ],
             [
              0.6666666666666666,
              "#ed7953"
             ],
             [
              0.7777777777777778,
              "#fb9f3a"
             ],
             [
              0.8888888888888888,
              "#fdca26"
             ],
             [
              1.0,
              "#f0f921"
             ]
            ],
            "type": "heatmap"
           }
          ],
          "histogram2dcontour": [
           {
            "colorbar": {
             "outlinewidth": 0,
             "ticks": ""
            },
            "colorscale": [
             [
              0.0,
              "#0d0887"
             ],
             [
              0.1111111111111111,
              "#46039f"
             ],
             [
              0.2222222222222222,
              "#7201a8"
             ],
             [
              0.3333333333333333,
              "#9c179e"
             ],
             [
              0.4444444444444444,
              "#bd3786"
             ],
             [
              0.5555555555555556,
              "#d8576b"
             ],
             [
              0.6666666666666666,
              "#ed7953"
             ],
             [
              0.7777777777777778,
              "#fb9f3a"
             ],
             [
              0.8888888888888888,
              "#fdca26"
             ],
             [
              1.0,
              "#f0f921"
             ]
            ],
            "type": "histogram2dcontour"
           }
          ],
          "histogram2d": [
           {
            "colorbar": {
             "outlinewidth": 0,
             "ticks": ""
            },
            "colorscale": [
             [
              0.0,
              "#0d0887"
             ],
             [
              0.1111111111111111,
              "#46039f"
             ],
             [
              0.2222222222222222,
              "#7201a8"
             ],
             [
              0.3333333333333333,
              "#9c179e"
             ],
             [
              0.4444444444444444,
              "#bd3786"
             ],
             [
              0.5555555555555556,
              "#d8576b"
             ],
             [
              0.6666666666666666,
              "#ed7953"
             ],
             [
              0.7777777777777778,
              "#fb9f3a"
             ],
             [
              0.8888888888888888,
              "#fdca26"
             ],
             [
              1.0,
              "#f0f921"
             ]
            ],
            "type": "histogram2d"
           }
          ],
          "histogram": [
           {
            "marker": {
             "pattern": {
              "fillmode": "overlay",
              "size": 10,
              "solidity": 0.2
             }
            },
            "type": "histogram"
           }
          ],
          "mesh3d": [
           {
            "colorbar": {
             "outlinewidth": 0,
             "ticks": ""
            },
            "type": "mesh3d"
           }
          ],
          "parcoords": [
           {
            "line": {
             "colorbar": {
              "outlinewidth": 0,
              "ticks": ""
             }
            },
            "type": "parcoords"
           }
          ],
          "pie": [
           {
            "automargin": true,
            "type": "pie"
           }
          ],
          "scatter3d": [
           {
            "line": {
             "colorbar": {
              "outlinewidth": 0,
              "ticks": ""
             }
            },
            "marker": {
             "colorbar": {
              "outlinewidth": 0,
              "ticks": ""
             }
            },
            "type": "scatter3d"
           }
          ],
          "scattercarpet": [
           {
            "marker": {
             "colorbar": {
              "outlinewidth": 0,
              "ticks": ""
             }
            },
            "type": "scattercarpet"
           }
          ],
          "scattergeo": [
           {
            "marker": {
             "colorbar": {
              "outlinewidth": 0,
              "ticks": ""
             }
            },
            "type": "scattergeo"
           }
          ],
          "scattergl": [
           {
            "marker": {
             "colorbar": {
              "outlinewidth": 0,
              "ticks": ""
             }
            },
            "type": "scattergl"
           }
          ],
          "scattermapbox": [
           {
            "marker": {
             "colorbar": {
              "outlinewidth": 0,
              "ticks": ""
             }
            },
            "type": "scattermapbox"
           }
          ],
          "scattermap": [
           {
            "marker": {
             "colorbar": {
              "outlinewidth": 0,
              "ticks": ""
             }
            },
            "type": "scattermap"
           }
          ],
          "scatterpolargl": [
           {
            "marker": {
             "colorbar": {
              "outlinewidth": 0,
              "ticks": ""
             }
            },
            "type": "scatterpolargl"
           }
          ],
          "scatterpolar": [
           {
            "marker": {
             "colorbar": {
              "outlinewidth": 0,
              "ticks": ""
             }
            },
            "type": "scatterpolar"
           }
          ],
          "scatter": [
           {
            "fillpattern": {
             "fillmode": "overlay",
             "size": 10,
             "solidity": 0.2
            },
            "type": "scatter"
           }
          ],
          "scatterternary": [
           {
            "marker": {
             "colorbar": {
              "outlinewidth": 0,
              "ticks": ""
             }
            },
            "type": "scatterternary"
           }
          ],
          "surface": [
           {
            "colorbar": {
             "outlinewidth": 0,
             "ticks": ""
            },
            "colorscale": [
             [
              0.0,
              "#0d0887"
             ],
             [
              0.1111111111111111,
              "#46039f"
             ],
             [
              0.2222222222222222,
              "#7201a8"
             ],
             [
              0.3333333333333333,
              "#9c179e"
             ],
             [
              0.4444444444444444,
              "#bd3786"
             ],
             [
              0.5555555555555556,
              "#d8576b"
             ],
             [
              0.6666666666666666,
              "#ed7953"
             ],
             [
              0.7777777777777778,
              "#fb9f3a"
             ],
             [
              0.8888888888888888,
              "#fdca26"
             ],
             [
              1.0,
              "#f0f921"
             ]
            ],
            "type": "surface"
           }
          ],
          "table": [
           {
            "cells": {
             "fill": {
              "color": "#EBF0F8"
             },
             "line": {
              "color": "white"
             }
            },
            "header": {
             "fill": {
              "color": "#C8D4E3"
             },
             "line": {
              "color": "white"
             }
            },
            "type": "table"
           }
          ]
         },
         "layout": {
          "annotationdefaults": {
           "arrowcolor": "#2a3f5f",
           "arrowhead": 0,
           "arrowwidth": 1
          },
          "autotypenumbers": "strict",
          "coloraxis": {
           "colorbar": {
            "outlinewidth": 0,
            "ticks": ""
           }
          },
          "colorscale": {
           "diverging": [
            [
             0,
             "#8e0152"
            ],
            [
             0.1,
             "#c51b7d"
            ],
            [
             0.2,
             "#de77ae"
            ],
            [
             0.3,
             "#f1b6da"
            ],
            [
             0.4,
             "#fde0ef"
            ],
            [
             0.5,
             "#f7f7f7"
            ],
            [
             0.6,
             "#e6f5d0"
            ],
            [
             0.7,
             "#b8e186"
            ],
            [
             0.8,
             "#7fbc41"
            ],
            [
             0.9,
             "#4d9221"
            ],
            [
             1,
             "#276419"
            ]
           ],
           "sequential": [
            [
             0.0,
             "#0d0887"
            ],
            [
             0.1111111111111111,
             "#46039f"
            ],
            [
             0.2222222222222222,
             "#7201a8"
            ],
            [
             0.3333333333333333,
             "#9c179e"
            ],
            [
             0.4444444444444444,
             "#bd3786"
            ],
            [
             0.5555555555555556,
             "#d8576b"
            ],
            [
             0.6666666666666666,
             "#ed7953"
            ],
            [
             0.7777777777777778,
             "#fb9f3a"
            ],
            [
             0.8888888888888888,
             "#fdca26"
            ],
            [
             1.0,
             "#f0f921"
            ]
           ],
           "sequentialminus": [
            [
             0.0,
             "#0d0887"
            ],
            [
             0.1111111111111111,
             "#46039f"
            ],
            [
             0.2222222222222222,
             "#7201a8"
            ],
            [
             0.3333333333333333,
             "#9c179e"
            ],
            [
             0.4444444444444444,
             "#bd3786"
            ],
            [
             0.5555555555555556,
             "#d8576b"
            ],
            [
             0.6666666666666666,
             "#ed7953"
            ],
            [
             0.7777777777777778,
             "#fb9f3a"
            ],
            [
             0.8888888888888888,
             "#fdca26"
            ],
            [
             1.0,
             "#f0f921"
            ]
           ]
          },
          "colorway": [
           "#636efa",
           "#EF553B",
           "#00cc96",
           "#ab63fa",
           "#FFA15A",
           "#19d3f3",
           "#FF6692",
           "#B6E880",
           "#FF97FF",
           "#FECB52"
          ],
          "font": {
           "color": "#2a3f5f"
          },
          "geo": {
           "bgcolor": "white",
           "lakecolor": "white",
           "landcolor": "white",
           "showlakes": true,
           "showland": true,
           "subunitcolor": "#C8D4E3"
          },
          "hoverlabel": {
           "align": "left"
          },
          "hovermode": "closest",
          "mapbox": {
           "style": "light"
          },
          "paper_bgcolor": "white",
          "plot_bgcolor": "white",
          "polar": {
           "angularaxis": {
            "gridcolor": "#EBF0F8",
            "linecolor": "#EBF0F8",
            "ticks": ""
           },
           "bgcolor": "white",
           "radialaxis": {
            "gridcolor": "#EBF0F8",
            "linecolor": "#EBF0F8",
            "ticks": ""
           }
          },
          "scene": {
           "xaxis": {
            "backgroundcolor": "white",
            "gridcolor": "#DFE8F3",
            "gridwidth": 2,
            "linecolor": "#EBF0F8",
            "showbackground": true,
            "ticks": "",
            "zerolinecolor": "#EBF0F8"
           },
           "yaxis": {
            "backgroundcolor": "white",
            "gridcolor": "#DFE8F3",
            "gridwidth": 2,
            "linecolor": "#EBF0F8",
            "showbackground": true,
            "ticks": "",
            "zerolinecolor": "#EBF0F8"
           },
           "zaxis": {
            "backgroundcolor": "white",
            "gridcolor": "#DFE8F3",
            "gridwidth": 2,
            "linecolor": "#EBF0F8",
            "showbackground": true,
            "ticks": "",
            "zerolinecolor": "#EBF0F8"
           }
          },
          "shapedefaults": {
           "line": {
            "color": "#2a3f5f"
           }
          },
          "ternary": {
           "aaxis": {
            "gridcolor": "#DFE8F3",
            "linecolor": "#A2B1C6",
            "ticks": ""
           },
           "baxis": {
            "gridcolor": "#DFE8F3",
            "linecolor": "#A2B1C6",
            "ticks": ""
           },
           "bgcolor": "white",
           "caxis": {
            "gridcolor": "#DFE8F3",
            "linecolor": "#A2B1C6",
            "ticks": ""
           }
          },
          "title": {
           "x": 0.05
          },
          "xaxis": {
           "automargin": true,
           "gridcolor": "#EBF0F8",
           "linecolor": "#EBF0F8",
           "ticks": "",
           "title": {
            "standoff": 15
           },
           "zerolinecolor": "#EBF0F8",
           "zerolinewidth": 2
          },
          "yaxis": {
           "automargin": true,
           "gridcolor": "#EBF0F8",
           "linecolor": "#EBF0F8",
           "ticks": "",
           "title": {
            "standoff": 15
           },
           "zerolinecolor": "#EBF0F8",
           "zerolinewidth": 2
          }
         }
        },
        "xaxis": {
         "anchor": "y",
         "domain": [
          0.0,
          1.0
         ],
         "title": {
          "text": "Regista"
         },
         "tickangle": -45
        },
        "yaxis": {
         "anchor": "x",
         "domain": [
          0.0,
          1.0
         ],
         "title": {
          "text": "Numero di Film"
         }
        },
        "legend": {
         "tracegroupgap": 0
        },
        "title": {
         "text": "Top 20 Registi con più film"
        },
        "barmode": "relative",
        "margin": {
         "t": 100
        },
        "height": 600
       },
       "config": {
        "plotlyServerURL": "https://plot.ly"
       }
      }
     },
     "metadata": {},
     "output_type": "display_data"
    }
   ],
   "execution_count": 15
  },
  {
   "metadata": {
    "ExecuteTime": {
     "end_time": "2025-06-22T15:28:23.115024Z",
     "start_time": "2025-06-22T15:28:22.992213Z"
    }
   },
   "cell_type": "code",
   "source": [
    "import pandas as pd\n",
    "import plotly.express as px\n",
    "\n",
    "# 1. Filtra solo vincitori nella categoria \"DIRECTING\"\n",
    "winners_directing = the_oscar_awards[\n",
    "    (the_oscar_awards['winner'] == True) &\n",
    "    (the_oscar_awards['category'].str.upper() == \"DIRECTING\")\n",
    "]\n",
    "\n",
    "# 2. Conta il numero di premi vinti per regista\n",
    "director_awards = winners_directing['name'].value_counts().reset_index()\n",
    "director_awards.columns = ['director', 'num_awards']\n",
    "\n",
    "# 3. Prendi i top 20 registi più premiati\n",
    "top_directors = director_awards.head(20)\n",
    "\n",
    "# 4. Crea bar chart con Plotly\n",
    "fig = px.bar(\n",
    "    top_directors,\n",
    "    x='director',\n",
    "    y='num_awards',\n",
    "    text='num_awards',\n",
    "    title='Top 20 registi con più premi Oscar per la regia',\n",
    "    template='plotly_white',\n",
    "    color='num_awards',\n",
    "    color_continuous_scale='Plasma'\n",
    ")\n",
    "\n",
    "# 5. Miglioramenti estetici\n",
    "fig.update_layout(\n",
    "    xaxis_title='Regista',\n",
    "    yaxis_title='Numero di Oscar per la regia',\n",
    "    xaxis_tickangle=45,\n",
    "    height=600,\n",
    "    margin=dict(t=80, b=150)\n",
    ")\n",
    "fig.update_traces(textposition=\"outside\")\n",
    "\n",
    "# 6. Mostra grafico\n",
    "fig.show()\n"
   ],
   "id": "1a3817f1e443f472",
   "outputs": [
    {
     "data": {
      "application/vnd.plotly.v1+json": {
       "data": [
        {
         "hovertemplate": "director=%{x}<br>num_awards=%{marker.color}<extra></extra>",
         "legendgroup": "",
         "marker": {
          "color": {
           "dtype": "i1",
           "bdata": "BAMDAgICAgICAgICAgICAgICAQE="
          },
          "coloraxis": "coloraxis",
          "pattern": {
           "shape": ""
          }
         },
         "name": "",
         "orientation": "v",
         "showlegend": false,
         "text": {
          "dtype": "f8",
          "bdata": "AAAAAAAAEEAAAAAAAAAIQAAAAAAAAAhAAAAAAAAAAEAAAAAAAAAAQAAAAAAAAABAAAAAAAAAAEAAAAAAAAAAQAAAAAAAAABAAAAAAAAAAEAAAAAAAAAAQAAAAAAAAABAAAAAAAAAAEAAAAAAAAAAQAAAAAAAAABAAAAAAAAAAEAAAAAAAAAAQAAAAAAAAABAAAAAAAAA8D8AAAAAAADwPw=="
         },
         "textposition": "outside",
         "x": [
          "John Ford",
          "William Wyler",
          "Frank Capra",
          "Frank Lloyd",
          "Leo McCarey",
          "Joseph L. Mankiewicz",
          "George Stevens",
          "Elia Kazan",
          "Billy Wilder",
          "Ang Lee",
          "Steven Spielberg",
          "Alejandro G. Iñárritu",
          "Alfonso Cuarón",
          "Fred Zinnemann",
          "David Lean",
          "Milos Forman",
          "Oliver Stone",
          "Clint Eastwood",
          "Lewis Milestone",
          "Norman Taurog"
         ],
         "xaxis": "x",
         "y": {
          "dtype": "i1",
          "bdata": "BAMDAgICAgICAgICAgICAgICAQE="
         },
         "yaxis": "y",
         "type": "bar"
        }
       ],
       "layout": {
        "template": {
         "data": {
          "barpolar": [
           {
            "marker": {
             "line": {
              "color": "white",
              "width": 0.5
             },
             "pattern": {
              "fillmode": "overlay",
              "size": 10,
              "solidity": 0.2
             }
            },
            "type": "barpolar"
           }
          ],
          "bar": [
           {
            "error_x": {
             "color": "#2a3f5f"
            },
            "error_y": {
             "color": "#2a3f5f"
            },
            "marker": {
             "line": {
              "color": "white",
              "width": 0.5
             },
             "pattern": {
              "fillmode": "overlay",
              "size": 10,
              "solidity": 0.2
             }
            },
            "type": "bar"
           }
          ],
          "carpet": [
           {
            "aaxis": {
             "endlinecolor": "#2a3f5f",
             "gridcolor": "#C8D4E3",
             "linecolor": "#C8D4E3",
             "minorgridcolor": "#C8D4E3",
             "startlinecolor": "#2a3f5f"
            },
            "baxis": {
             "endlinecolor": "#2a3f5f",
             "gridcolor": "#C8D4E3",
             "linecolor": "#C8D4E3",
             "minorgridcolor": "#C8D4E3",
             "startlinecolor": "#2a3f5f"
            },
            "type": "carpet"
           }
          ],
          "choropleth": [
           {
            "colorbar": {
             "outlinewidth": 0,
             "ticks": ""
            },
            "type": "choropleth"
           }
          ],
          "contourcarpet": [
           {
            "colorbar": {
             "outlinewidth": 0,
             "ticks": ""
            },
            "type": "contourcarpet"
           }
          ],
          "contour": [
           {
            "colorbar": {
             "outlinewidth": 0,
             "ticks": ""
            },
            "colorscale": [
             [
              0.0,
              "#0d0887"
             ],
             [
              0.1111111111111111,
              "#46039f"
             ],
             [
              0.2222222222222222,
              "#7201a8"
             ],
             [
              0.3333333333333333,
              "#9c179e"
             ],
             [
              0.4444444444444444,
              "#bd3786"
             ],
             [
              0.5555555555555556,
              "#d8576b"
             ],
             [
              0.6666666666666666,
              "#ed7953"
             ],
             [
              0.7777777777777778,
              "#fb9f3a"
             ],
             [
              0.8888888888888888,
              "#fdca26"
             ],
             [
              1.0,
              "#f0f921"
             ]
            ],
            "type": "contour"
           }
          ],
          "heatmap": [
           {
            "colorbar": {
             "outlinewidth": 0,
             "ticks": ""
            },
            "colorscale": [
             [
              0.0,
              "#0d0887"
             ],
             [
              0.1111111111111111,
              "#46039f"
             ],
             [
              0.2222222222222222,
              "#7201a8"
             ],
             [
              0.3333333333333333,
              "#9c179e"
             ],
             [
              0.4444444444444444,
              "#bd3786"
             ],
             [
              0.5555555555555556,
              "#d8576b"
             ],
             [
              0.6666666666666666,
              "#ed7953"
             ],
             [
              0.7777777777777778,
              "#fb9f3a"
             ],
             [
              0.8888888888888888,
              "#fdca26"
             ],
             [
              1.0,
              "#f0f921"
             ]
            ],
            "type": "heatmap"
           }
          ],
          "histogram2dcontour": [
           {
            "colorbar": {
             "outlinewidth": 0,
             "ticks": ""
            },
            "colorscale": [
             [
              0.0,
              "#0d0887"
             ],
             [
              0.1111111111111111,
              "#46039f"
             ],
             [
              0.2222222222222222,
              "#7201a8"
             ],
             [
              0.3333333333333333,
              "#9c179e"
             ],
             [
              0.4444444444444444,
              "#bd3786"
             ],
             [
              0.5555555555555556,
              "#d8576b"
             ],
             [
              0.6666666666666666,
              "#ed7953"
             ],
             [
              0.7777777777777778,
              "#fb9f3a"
             ],
             [
              0.8888888888888888,
              "#fdca26"
             ],
             [
              1.0,
              "#f0f921"
             ]
            ],
            "type": "histogram2dcontour"
           }
          ],
          "histogram2d": [
           {
            "colorbar": {
             "outlinewidth": 0,
             "ticks": ""
            },
            "colorscale": [
             [
              0.0,
              "#0d0887"
             ],
             [
              0.1111111111111111,
              "#46039f"
             ],
             [
              0.2222222222222222,
              "#7201a8"
             ],
             [
              0.3333333333333333,
              "#9c179e"
             ],
             [
              0.4444444444444444,
              "#bd3786"
             ],
             [
              0.5555555555555556,
              "#d8576b"
             ],
             [
              0.6666666666666666,
              "#ed7953"
             ],
             [
              0.7777777777777778,
              "#fb9f3a"
             ],
             [
              0.8888888888888888,
              "#fdca26"
             ],
             [
              1.0,
              "#f0f921"
             ]
            ],
            "type": "histogram2d"
           }
          ],
          "histogram": [
           {
            "marker": {
             "pattern": {
              "fillmode": "overlay",
              "size": 10,
              "solidity": 0.2
             }
            },
            "type": "histogram"
           }
          ],
          "mesh3d": [
           {
            "colorbar": {
             "outlinewidth": 0,
             "ticks": ""
            },
            "type": "mesh3d"
           }
          ],
          "parcoords": [
           {
            "line": {
             "colorbar": {
              "outlinewidth": 0,
              "ticks": ""
             }
            },
            "type": "parcoords"
           }
          ],
          "pie": [
           {
            "automargin": true,
            "type": "pie"
           }
          ],
          "scatter3d": [
           {
            "line": {
             "colorbar": {
              "outlinewidth": 0,
              "ticks": ""
             }
            },
            "marker": {
             "colorbar": {
              "outlinewidth": 0,
              "ticks": ""
             }
            },
            "type": "scatter3d"
           }
          ],
          "scattercarpet": [
           {
            "marker": {
             "colorbar": {
              "outlinewidth": 0,
              "ticks": ""
             }
            },
            "type": "scattercarpet"
           }
          ],
          "scattergeo": [
           {
            "marker": {
             "colorbar": {
              "outlinewidth": 0,
              "ticks": ""
             }
            },
            "type": "scattergeo"
           }
          ],
          "scattergl": [
           {
            "marker": {
             "colorbar": {
              "outlinewidth": 0,
              "ticks": ""
             }
            },
            "type": "scattergl"
           }
          ],
          "scattermapbox": [
           {
            "marker": {
             "colorbar": {
              "outlinewidth": 0,
              "ticks": ""
             }
            },
            "type": "scattermapbox"
           }
          ],
          "scattermap": [
           {
            "marker": {
             "colorbar": {
              "outlinewidth": 0,
              "ticks": ""
             }
            },
            "type": "scattermap"
           }
          ],
          "scatterpolargl": [
           {
            "marker": {
             "colorbar": {
              "outlinewidth": 0,
              "ticks": ""
             }
            },
            "type": "scatterpolargl"
           }
          ],
          "scatterpolar": [
           {
            "marker": {
             "colorbar": {
              "outlinewidth": 0,
              "ticks": ""
             }
            },
            "type": "scatterpolar"
           }
          ],
          "scatter": [
           {
            "fillpattern": {
             "fillmode": "overlay",
             "size": 10,
             "solidity": 0.2
            },
            "type": "scatter"
           }
          ],
          "scatterternary": [
           {
            "marker": {
             "colorbar": {
              "outlinewidth": 0,
              "ticks": ""
             }
            },
            "type": "scatterternary"
           }
          ],
          "surface": [
           {
            "colorbar": {
             "outlinewidth": 0,
             "ticks": ""
            },
            "colorscale": [
             [
              0.0,
              "#0d0887"
             ],
             [
              0.1111111111111111,
              "#46039f"
             ],
             [
              0.2222222222222222,
              "#7201a8"
             ],
             [
              0.3333333333333333,
              "#9c179e"
             ],
             [
              0.4444444444444444,
              "#bd3786"
             ],
             [
              0.5555555555555556,
              "#d8576b"
             ],
             [
              0.6666666666666666,
              "#ed7953"
             ],
             [
              0.7777777777777778,
              "#fb9f3a"
             ],
             [
              0.8888888888888888,
              "#fdca26"
             ],
             [
              1.0,
              "#f0f921"
             ]
            ],
            "type": "surface"
           }
          ],
          "table": [
           {
            "cells": {
             "fill": {
              "color": "#EBF0F8"
             },
             "line": {
              "color": "white"
             }
            },
            "header": {
             "fill": {
              "color": "#C8D4E3"
             },
             "line": {
              "color": "white"
             }
            },
            "type": "table"
           }
          ]
         },
         "layout": {
          "annotationdefaults": {
           "arrowcolor": "#2a3f5f",
           "arrowhead": 0,
           "arrowwidth": 1
          },
          "autotypenumbers": "strict",
          "coloraxis": {
           "colorbar": {
            "outlinewidth": 0,
            "ticks": ""
           }
          },
          "colorscale": {
           "diverging": [
            [
             0,
             "#8e0152"
            ],
            [
             0.1,
             "#c51b7d"
            ],
            [
             0.2,
             "#de77ae"
            ],
            [
             0.3,
             "#f1b6da"
            ],
            [
             0.4,
             "#fde0ef"
            ],
            [
             0.5,
             "#f7f7f7"
            ],
            [
             0.6,
             "#e6f5d0"
            ],
            [
             0.7,
             "#b8e186"
            ],
            [
             0.8,
             "#7fbc41"
            ],
            [
             0.9,
             "#4d9221"
            ],
            [
             1,
             "#276419"
            ]
           ],
           "sequential": [
            [
             0.0,
             "#0d0887"
            ],
            [
             0.1111111111111111,
             "#46039f"
            ],
            [
             0.2222222222222222,
             "#7201a8"
            ],
            [
             0.3333333333333333,
             "#9c179e"
            ],
            [
             0.4444444444444444,
             "#bd3786"
            ],
            [
             0.5555555555555556,
             "#d8576b"
            ],
            [
             0.6666666666666666,
             "#ed7953"
            ],
            [
             0.7777777777777778,
             "#fb9f3a"
            ],
            [
             0.8888888888888888,
             "#fdca26"
            ],
            [
             1.0,
             "#f0f921"
            ]
           ],
           "sequentialminus": [
            [
             0.0,
             "#0d0887"
            ],
            [
             0.1111111111111111,
             "#46039f"
            ],
            [
             0.2222222222222222,
             "#7201a8"
            ],
            [
             0.3333333333333333,
             "#9c179e"
            ],
            [
             0.4444444444444444,
             "#bd3786"
            ],
            [
             0.5555555555555556,
             "#d8576b"
            ],
            [
             0.6666666666666666,
             "#ed7953"
            ],
            [
             0.7777777777777778,
             "#fb9f3a"
            ],
            [
             0.8888888888888888,
             "#fdca26"
            ],
            [
             1.0,
             "#f0f921"
            ]
           ]
          },
          "colorway": [
           "#636efa",
           "#EF553B",
           "#00cc96",
           "#ab63fa",
           "#FFA15A",
           "#19d3f3",
           "#FF6692",
           "#B6E880",
           "#FF97FF",
           "#FECB52"
          ],
          "font": {
           "color": "#2a3f5f"
          },
          "geo": {
           "bgcolor": "white",
           "lakecolor": "white",
           "landcolor": "white",
           "showlakes": true,
           "showland": true,
           "subunitcolor": "#C8D4E3"
          },
          "hoverlabel": {
           "align": "left"
          },
          "hovermode": "closest",
          "mapbox": {
           "style": "light"
          },
          "paper_bgcolor": "white",
          "plot_bgcolor": "white",
          "polar": {
           "angularaxis": {
            "gridcolor": "#EBF0F8",
            "linecolor": "#EBF0F8",
            "ticks": ""
           },
           "bgcolor": "white",
           "radialaxis": {
            "gridcolor": "#EBF0F8",
            "linecolor": "#EBF0F8",
            "ticks": ""
           }
          },
          "scene": {
           "xaxis": {
            "backgroundcolor": "white",
            "gridcolor": "#DFE8F3",
            "gridwidth": 2,
            "linecolor": "#EBF0F8",
            "showbackground": true,
            "ticks": "",
            "zerolinecolor": "#EBF0F8"
           },
           "yaxis": {
            "backgroundcolor": "white",
            "gridcolor": "#DFE8F3",
            "gridwidth": 2,
            "linecolor": "#EBF0F8",
            "showbackground": true,
            "ticks": "",
            "zerolinecolor": "#EBF0F8"
           },
           "zaxis": {
            "backgroundcolor": "white",
            "gridcolor": "#DFE8F3",
            "gridwidth": 2,
            "linecolor": "#EBF0F8",
            "showbackground": true,
            "ticks": "",
            "zerolinecolor": "#EBF0F8"
           }
          },
          "shapedefaults": {
           "line": {
            "color": "#2a3f5f"
           }
          },
          "ternary": {
           "aaxis": {
            "gridcolor": "#DFE8F3",
            "linecolor": "#A2B1C6",
            "ticks": ""
           },
           "baxis": {
            "gridcolor": "#DFE8F3",
            "linecolor": "#A2B1C6",
            "ticks": ""
           },
           "bgcolor": "white",
           "caxis": {
            "gridcolor": "#DFE8F3",
            "linecolor": "#A2B1C6",
            "ticks": ""
           }
          },
          "title": {
           "x": 0.05
          },
          "xaxis": {
           "automargin": true,
           "gridcolor": "#EBF0F8",
           "linecolor": "#EBF0F8",
           "ticks": "",
           "title": {
            "standoff": 15
           },
           "zerolinecolor": "#EBF0F8",
           "zerolinewidth": 2
          },
          "yaxis": {
           "automargin": true,
           "gridcolor": "#EBF0F8",
           "linecolor": "#EBF0F8",
           "ticks": "",
           "title": {
            "standoff": 15
           },
           "zerolinecolor": "#EBF0F8",
           "zerolinewidth": 2
          }
         }
        },
        "xaxis": {
         "anchor": "y",
         "domain": [
          0.0,
          1.0
         ],
         "title": {
          "text": "Regista"
         },
         "tickangle": 45
        },
        "yaxis": {
         "anchor": "x",
         "domain": [
          0.0,
          1.0
         ],
         "title": {
          "text": "Numero di Oscar per la regia"
         }
        },
        "coloraxis": {
         "colorbar": {
          "title": {
           "text": "num_awards"
          }
         },
         "colorscale": [
          [
           0.0,
           "#0d0887"
          ],
          [
           0.1111111111111111,
           "#46039f"
          ],
          [
           0.2222222222222222,
           "#7201a8"
          ],
          [
           0.3333333333333333,
           "#9c179e"
          ],
          [
           0.4444444444444444,
           "#bd3786"
          ],
          [
           0.5555555555555556,
           "#d8576b"
          ],
          [
           0.6666666666666666,
           "#ed7953"
          ],
          [
           0.7777777777777778,
           "#fb9f3a"
          ],
          [
           0.8888888888888888,
           "#fdca26"
          ],
          [
           1.0,
           "#f0f921"
          ]
         ]
        },
        "legend": {
         "tracegroupgap": 0
        },
        "title": {
         "text": "Top 20 registi con più premi Oscar per la regia"
        },
        "barmode": "relative",
        "margin": {
         "t": 80,
         "b": 150
        },
        "height": 600
       },
       "config": {
        "plotlyServerURL": "https://plot.ly"
       }
      }
     },
     "metadata": {},
     "output_type": "display_data"
    }
   ],
   "execution_count": 16
  },
  {
   "metadata": {
    "ExecuteTime": {
     "end_time": "2025-06-22T15:28:59.805787Z",
     "start_time": "2025-06-22T15:28:59.723588Z"
    }
   },
   "cell_type": "code",
   "source": [
    "import pandas as pd\n",
    "import plotly.express as px\n",
    "\n",
    "# 1. Filtra solo vincitori nella categoria \"DIRECTING\"\n",
    "winners_directing = the_oscar_awards[\n",
    "    (the_oscar_awards['category'].str.upper() == \"DIRECTING\")\n",
    "]\n",
    "\n",
    "# 2. Conta il numero di premi vinti per regista\n",
    "director_awards = winners_directing['name'].value_counts().reset_index()\n",
    "director_awards.columns = ['director', 'num_awards']\n",
    "\n",
    "# 3. Prendi i top 20 registi più premiati\n",
    "top_directors = director_awards.head(20)\n",
    "\n",
    "# 4. Crea bar chart con Plotly\n",
    "fig = px.bar(\n",
    "    top_directors,\n",
    "    x='director',\n",
    "    y='num_awards',\n",
    "    text='num_awards',\n",
    "    title='Top 20 registi con più premi Oscar per la regia',\n",
    "    template='plotly_white',\n",
    "    color='num_awards',\n",
    "    color_continuous_scale='Plasma'\n",
    ")\n",
    "\n",
    "# 5. Miglioramenti estetici\n",
    "fig.update_layout(\n",
    "    xaxis_title='Regista',\n",
    "    yaxis_title='Numero di Oscar per la regia',\n",
    "    xaxis_tickangle=45,\n",
    "    height=600,\n",
    "    margin=dict(t=80, b=150)\n",
    ")\n",
    "fig.update_traces(textposition=\"outside\")\n",
    "\n",
    "# 6. Mostra grafico\n",
    "fig.show()\n"
   ],
   "id": "a0482bae96ccb914",
   "outputs": [
    {
     "data": {
      "application/vnd.plotly.v1+json": {
       "data": [
        {
         "hovertemplate": "director=%{x}<br>num_awards=%{marker.color}<extra></extra>",
         "legendgroup": "",
         "marker": {
          "color": {
           "dtype": "i1",
           "bdata": "DAoJCAcHBwYFBQUFBQUFBQUEBAQ="
          },
          "coloraxis": "coloraxis",
          "pattern": {
           "shape": ""
          }
         },
         "name": "",
         "orientation": "v",
         "showlegend": false,
         "text": {
          "dtype": "f8",
          "bdata": "AAAAAAAAKEAAAAAAAAAkQAAAAAAAACJAAAAAAAAAIEAAAAAAAAAcQAAAAAAAABxAAAAAAAAAHEAAAAAAAAAYQAAAAAAAABRAAAAAAAAAFEAAAAAAAAAUQAAAAAAAABRAAAAAAAAAFEAAAAAAAAAUQAAAAAAAABRAAAAAAAAAFEAAAAAAAAAUQAAAAAAAABBAAAAAAAAAEEAAAAAAAAAQQA=="
         },
         "textposition": "outside",
         "x": [
          "William Wyler",
          "Martin Scorsese",
          "Steven Spielberg",
          "Billy Wilder",
          "Woody Allen",
          "David Lean",
          "Fred Zinnemann",
          "Frank Capra",
          "Alfred Hitchcock",
          "Michael Curtiz",
          "John Huston",
          "George Stevens",
          "Elia Kazan",
          "John Ford",
          "Clarence Brown",
          "Robert Altman",
          "George Cukor",
          "King Vidor",
          "Sidney Lumet",
          "Stanley Kubrick"
         ],
         "xaxis": "x",
         "y": {
          "dtype": "i1",
          "bdata": "DAoJCAcHBwYFBQUFBQUFBQUEBAQ="
         },
         "yaxis": "y",
         "type": "bar"
        }
       ],
       "layout": {
        "template": {
         "data": {
          "barpolar": [
           {
            "marker": {
             "line": {
              "color": "white",
              "width": 0.5
             },
             "pattern": {
              "fillmode": "overlay",
              "size": 10,
              "solidity": 0.2
             }
            },
            "type": "barpolar"
           }
          ],
          "bar": [
           {
            "error_x": {
             "color": "#2a3f5f"
            },
            "error_y": {
             "color": "#2a3f5f"
            },
            "marker": {
             "line": {
              "color": "white",
              "width": 0.5
             },
             "pattern": {
              "fillmode": "overlay",
              "size": 10,
              "solidity": 0.2
             }
            },
            "type": "bar"
           }
          ],
          "carpet": [
           {
            "aaxis": {
             "endlinecolor": "#2a3f5f",
             "gridcolor": "#C8D4E3",
             "linecolor": "#C8D4E3",
             "minorgridcolor": "#C8D4E3",
             "startlinecolor": "#2a3f5f"
            },
            "baxis": {
             "endlinecolor": "#2a3f5f",
             "gridcolor": "#C8D4E3",
             "linecolor": "#C8D4E3",
             "minorgridcolor": "#C8D4E3",
             "startlinecolor": "#2a3f5f"
            },
            "type": "carpet"
           }
          ],
          "choropleth": [
           {
            "colorbar": {
             "outlinewidth": 0,
             "ticks": ""
            },
            "type": "choropleth"
           }
          ],
          "contourcarpet": [
           {
            "colorbar": {
             "outlinewidth": 0,
             "ticks": ""
            },
            "type": "contourcarpet"
           }
          ],
          "contour": [
           {
            "colorbar": {
             "outlinewidth": 0,
             "ticks": ""
            },
            "colorscale": [
             [
              0.0,
              "#0d0887"
             ],
             [
              0.1111111111111111,
              "#46039f"
             ],
             [
              0.2222222222222222,
              "#7201a8"
             ],
             [
              0.3333333333333333,
              "#9c179e"
             ],
             [
              0.4444444444444444,
              "#bd3786"
             ],
             [
              0.5555555555555556,
              "#d8576b"
             ],
             [
              0.6666666666666666,
              "#ed7953"
             ],
             [
              0.7777777777777778,
              "#fb9f3a"
             ],
             [
              0.8888888888888888,
              "#fdca26"
             ],
             [
              1.0,
              "#f0f921"
             ]
            ],
            "type": "contour"
           }
          ],
          "heatmap": [
           {
            "colorbar": {
             "outlinewidth": 0,
             "ticks": ""
            },
            "colorscale": [
             [
              0.0,
              "#0d0887"
             ],
             [
              0.1111111111111111,
              "#46039f"
             ],
             [
              0.2222222222222222,
              "#7201a8"
             ],
             [
              0.3333333333333333,
              "#9c179e"
             ],
             [
              0.4444444444444444,
              "#bd3786"
             ],
             [
              0.5555555555555556,
              "#d8576b"
             ],
             [
              0.6666666666666666,
              "#ed7953"
             ],
             [
              0.7777777777777778,
              "#fb9f3a"
             ],
             [
              0.8888888888888888,
              "#fdca26"
             ],
             [
              1.0,
              "#f0f921"
             ]
            ],
            "type": "heatmap"
           }
          ],
          "histogram2dcontour": [
           {
            "colorbar": {
             "outlinewidth": 0,
             "ticks": ""
            },
            "colorscale": [
             [
              0.0,
              "#0d0887"
             ],
             [
              0.1111111111111111,
              "#46039f"
             ],
             [
              0.2222222222222222,
              "#7201a8"
             ],
             [
              0.3333333333333333,
              "#9c179e"
             ],
             [
              0.4444444444444444,
              "#bd3786"
             ],
             [
              0.5555555555555556,
              "#d8576b"
             ],
             [
              0.6666666666666666,
              "#ed7953"
             ],
             [
              0.7777777777777778,
              "#fb9f3a"
             ],
             [
              0.8888888888888888,
              "#fdca26"
             ],
             [
              1.0,
              "#f0f921"
             ]
            ],
            "type": "histogram2dcontour"
           }
          ],
          "histogram2d": [
           {
            "colorbar": {
             "outlinewidth": 0,
             "ticks": ""
            },
            "colorscale": [
             [
              0.0,
              "#0d0887"
             ],
             [
              0.1111111111111111,
              "#46039f"
             ],
             [
              0.2222222222222222,
              "#7201a8"
             ],
             [
              0.3333333333333333,
              "#9c179e"
             ],
             [
              0.4444444444444444,
              "#bd3786"
             ],
             [
              0.5555555555555556,
              "#d8576b"
             ],
             [
              0.6666666666666666,
              "#ed7953"
             ],
             [
              0.7777777777777778,
              "#fb9f3a"
             ],
             [
              0.8888888888888888,
              "#fdca26"
             ],
             [
              1.0,
              "#f0f921"
             ]
            ],
            "type": "histogram2d"
           }
          ],
          "histogram": [
           {
            "marker": {
             "pattern": {
              "fillmode": "overlay",
              "size": 10,
              "solidity": 0.2
             }
            },
            "type": "histogram"
           }
          ],
          "mesh3d": [
           {
            "colorbar": {
             "outlinewidth": 0,
             "ticks": ""
            },
            "type": "mesh3d"
           }
          ],
          "parcoords": [
           {
            "line": {
             "colorbar": {
              "outlinewidth": 0,
              "ticks": ""
             }
            },
            "type": "parcoords"
           }
          ],
          "pie": [
           {
            "automargin": true,
            "type": "pie"
           }
          ],
          "scatter3d": [
           {
            "line": {
             "colorbar": {
              "outlinewidth": 0,
              "ticks": ""
             }
            },
            "marker": {
             "colorbar": {
              "outlinewidth": 0,
              "ticks": ""
             }
            },
            "type": "scatter3d"
           }
          ],
          "scattercarpet": [
           {
            "marker": {
             "colorbar": {
              "outlinewidth": 0,
              "ticks": ""
             }
            },
            "type": "scattercarpet"
           }
          ],
          "scattergeo": [
           {
            "marker": {
             "colorbar": {
              "outlinewidth": 0,
              "ticks": ""
             }
            },
            "type": "scattergeo"
           }
          ],
          "scattergl": [
           {
            "marker": {
             "colorbar": {
              "outlinewidth": 0,
              "ticks": ""
             }
            },
            "type": "scattergl"
           }
          ],
          "scattermapbox": [
           {
            "marker": {
             "colorbar": {
              "outlinewidth": 0,
              "ticks": ""
             }
            },
            "type": "scattermapbox"
           }
          ],
          "scattermap": [
           {
            "marker": {
             "colorbar": {
              "outlinewidth": 0,
              "ticks": ""
             }
            },
            "type": "scattermap"
           }
          ],
          "scatterpolargl": [
           {
            "marker": {
             "colorbar": {
              "outlinewidth": 0,
              "ticks": ""
             }
            },
            "type": "scatterpolargl"
           }
          ],
          "scatterpolar": [
           {
            "marker": {
             "colorbar": {
              "outlinewidth": 0,
              "ticks": ""
             }
            },
            "type": "scatterpolar"
           }
          ],
          "scatter": [
           {
            "fillpattern": {
             "fillmode": "overlay",
             "size": 10,
             "solidity": 0.2
            },
            "type": "scatter"
           }
          ],
          "scatterternary": [
           {
            "marker": {
             "colorbar": {
              "outlinewidth": 0,
              "ticks": ""
             }
            },
            "type": "scatterternary"
           }
          ],
          "surface": [
           {
            "colorbar": {
             "outlinewidth": 0,
             "ticks": ""
            },
            "colorscale": [
             [
              0.0,
              "#0d0887"
             ],
             [
              0.1111111111111111,
              "#46039f"
             ],
             [
              0.2222222222222222,
              "#7201a8"
             ],
             [
              0.3333333333333333,
              "#9c179e"
             ],
             [
              0.4444444444444444,
              "#bd3786"
             ],
             [
              0.5555555555555556,
              "#d8576b"
             ],
             [
              0.6666666666666666,
              "#ed7953"
             ],
             [
              0.7777777777777778,
              "#fb9f3a"
             ],
             [
              0.8888888888888888,
              "#fdca26"
             ],
             [
              1.0,
              "#f0f921"
             ]
            ],
            "type": "surface"
           }
          ],
          "table": [
           {
            "cells": {
             "fill": {
              "color": "#EBF0F8"
             },
             "line": {
              "color": "white"
             }
            },
            "header": {
             "fill": {
              "color": "#C8D4E3"
             },
             "line": {
              "color": "white"
             }
            },
            "type": "table"
           }
          ]
         },
         "layout": {
          "annotationdefaults": {
           "arrowcolor": "#2a3f5f",
           "arrowhead": 0,
           "arrowwidth": 1
          },
          "autotypenumbers": "strict",
          "coloraxis": {
           "colorbar": {
            "outlinewidth": 0,
            "ticks": ""
           }
          },
          "colorscale": {
           "diverging": [
            [
             0,
             "#8e0152"
            ],
            [
             0.1,
             "#c51b7d"
            ],
            [
             0.2,
             "#de77ae"
            ],
            [
             0.3,
             "#f1b6da"
            ],
            [
             0.4,
             "#fde0ef"
            ],
            [
             0.5,
             "#f7f7f7"
            ],
            [
             0.6,
             "#e6f5d0"
            ],
            [
             0.7,
             "#b8e186"
            ],
            [
             0.8,
             "#7fbc41"
            ],
            [
             0.9,
             "#4d9221"
            ],
            [
             1,
             "#276419"
            ]
           ],
           "sequential": [
            [
             0.0,
             "#0d0887"
            ],
            [
             0.1111111111111111,
             "#46039f"
            ],
            [
             0.2222222222222222,
             "#7201a8"
            ],
            [
             0.3333333333333333,
             "#9c179e"
            ],
            [
             0.4444444444444444,
             "#bd3786"
            ],
            [
             0.5555555555555556,
             "#d8576b"
            ],
            [
             0.6666666666666666,
             "#ed7953"
            ],
            [
             0.7777777777777778,
             "#fb9f3a"
            ],
            [
             0.8888888888888888,
             "#fdca26"
            ],
            [
             1.0,
             "#f0f921"
            ]
           ],
           "sequentialminus": [
            [
             0.0,
             "#0d0887"
            ],
            [
             0.1111111111111111,
             "#46039f"
            ],
            [
             0.2222222222222222,
             "#7201a8"
            ],
            [
             0.3333333333333333,
             "#9c179e"
            ],
            [
             0.4444444444444444,
             "#bd3786"
            ],
            [
             0.5555555555555556,
             "#d8576b"
            ],
            [
             0.6666666666666666,
             "#ed7953"
            ],
            [
             0.7777777777777778,
             "#fb9f3a"
            ],
            [
             0.8888888888888888,
             "#fdca26"
            ],
            [
             1.0,
             "#f0f921"
            ]
           ]
          },
          "colorway": [
           "#636efa",
           "#EF553B",
           "#00cc96",
           "#ab63fa",
           "#FFA15A",
           "#19d3f3",
           "#FF6692",
           "#B6E880",
           "#FF97FF",
           "#FECB52"
          ],
          "font": {
           "color": "#2a3f5f"
          },
          "geo": {
           "bgcolor": "white",
           "lakecolor": "white",
           "landcolor": "white",
           "showlakes": true,
           "showland": true,
           "subunitcolor": "#C8D4E3"
          },
          "hoverlabel": {
           "align": "left"
          },
          "hovermode": "closest",
          "mapbox": {
           "style": "light"
          },
          "paper_bgcolor": "white",
          "plot_bgcolor": "white",
          "polar": {
           "angularaxis": {
            "gridcolor": "#EBF0F8",
            "linecolor": "#EBF0F8",
            "ticks": ""
           },
           "bgcolor": "white",
           "radialaxis": {
            "gridcolor": "#EBF0F8",
            "linecolor": "#EBF0F8",
            "ticks": ""
           }
          },
          "scene": {
           "xaxis": {
            "backgroundcolor": "white",
            "gridcolor": "#DFE8F3",
            "gridwidth": 2,
            "linecolor": "#EBF0F8",
            "showbackground": true,
            "ticks": "",
            "zerolinecolor": "#EBF0F8"
           },
           "yaxis": {
            "backgroundcolor": "white",
            "gridcolor": "#DFE8F3",
            "gridwidth": 2,
            "linecolor": "#EBF0F8",
            "showbackground": true,
            "ticks": "",
            "zerolinecolor": "#EBF0F8"
           },
           "zaxis": {
            "backgroundcolor": "white",
            "gridcolor": "#DFE8F3",
            "gridwidth": 2,
            "linecolor": "#EBF0F8",
            "showbackground": true,
            "ticks": "",
            "zerolinecolor": "#EBF0F8"
           }
          },
          "shapedefaults": {
           "line": {
            "color": "#2a3f5f"
           }
          },
          "ternary": {
           "aaxis": {
            "gridcolor": "#DFE8F3",
            "linecolor": "#A2B1C6",
            "ticks": ""
           },
           "baxis": {
            "gridcolor": "#DFE8F3",
            "linecolor": "#A2B1C6",
            "ticks": ""
           },
           "bgcolor": "white",
           "caxis": {
            "gridcolor": "#DFE8F3",
            "linecolor": "#A2B1C6",
            "ticks": ""
           }
          },
          "title": {
           "x": 0.05
          },
          "xaxis": {
           "automargin": true,
           "gridcolor": "#EBF0F8",
           "linecolor": "#EBF0F8",
           "ticks": "",
           "title": {
            "standoff": 15
           },
           "zerolinecolor": "#EBF0F8",
           "zerolinewidth": 2
          },
          "yaxis": {
           "automargin": true,
           "gridcolor": "#EBF0F8",
           "linecolor": "#EBF0F8",
           "ticks": "",
           "title": {
            "standoff": 15
           },
           "zerolinecolor": "#EBF0F8",
           "zerolinewidth": 2
          }
         }
        },
        "xaxis": {
         "anchor": "y",
         "domain": [
          0.0,
          1.0
         ],
         "title": {
          "text": "Regista"
         },
         "tickangle": 45
        },
        "yaxis": {
         "anchor": "x",
         "domain": [
          0.0,
          1.0
         ],
         "title": {
          "text": "Numero di Oscar per la regia"
         }
        },
        "coloraxis": {
         "colorbar": {
          "title": {
           "text": "num_awards"
          }
         },
         "colorscale": [
          [
           0.0,
           "#0d0887"
          ],
          [
           0.1111111111111111,
           "#46039f"
          ],
          [
           0.2222222222222222,
           "#7201a8"
          ],
          [
           0.3333333333333333,
           "#9c179e"
          ],
          [
           0.4444444444444444,
           "#bd3786"
          ],
          [
           0.5555555555555556,
           "#d8576b"
          ],
          [
           0.6666666666666666,
           "#ed7953"
          ],
          [
           0.7777777777777778,
           "#fb9f3a"
          ],
          [
           0.8888888888888888,
           "#fdca26"
          ],
          [
           1.0,
           "#f0f921"
          ]
         ]
        },
        "legend": {
         "tracegroupgap": 0
        },
        "title": {
         "text": "Top 20 registi con più premi Oscar per la regia"
        },
        "barmode": "relative",
        "margin": {
         "t": 80,
         "b": 150
        },
        "height": 600
       },
       "config": {
        "plotlyServerURL": "https://plot.ly"
       }
      }
     },
     "metadata": {},
     "output_type": "display_data"
    }
   ],
   "execution_count": 18
  }
 ],
 "metadata": {
  "kernelspec": {
   "display_name": "Python 3",
   "language": "python",
   "name": "python3"
  },
  "language_info": {
   "codemirror_mode": {
    "name": "ipython",
    "version": 2
   },
   "file_extension": ".py",
   "mimetype": "text/x-python",
   "name": "python",
   "nbconvert_exporter": "python",
   "pygments_lexer": "ipython2",
   "version": "2.7.6"
  }
 },
 "nbformat": 4,
 "nbformat_minor": 5
}
